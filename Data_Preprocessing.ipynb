{
  "nbformat": 4,
  "nbformat_minor": 5,
  "metadata": {
    "kernelspec": {
      "display_name": "Python 3",
      "language": "python",
      "name": "python3"
    },
    "language_info": {
      "codemirror_mode": {
        "name": "ipython",
        "version": 3
      },
      "file_extension": ".py",
      "mimetype": "text/x-python",
      "name": "python",
      "nbconvert_exporter": "python",
      "pygments_lexer": "ipython3",
      "version": "3.8.8"
    },
    "colab": {
      "name": "Data Preprocessing.ipynb",
      "provenance": [],
      "collapsed_sections": [
        "4nmaOGi-e8sf"
      ],
      "include_colab_link": true
    }
  },
  "cells": [
    {
      "cell_type": "markdown",
      "metadata": {
        "id": "view-in-github",
        "colab_type": "text"
      },
      "source": [
        "<a href=\"https://colab.research.google.com/github/Forrestjohnson2000/6162-Seabreeze/blob/main/Data_Preprocessing.ipynb\" target=\"_parent\"><img src=\"https://colab.research.google.com/assets/colab-badge.svg\" alt=\"Open In Colab\"/></a>"
      ]
    },
    {
      "cell_type": "markdown",
      "metadata": {
        "id": "qHKU2cn_eYkn"
      },
      "source": [
        "## Buoy Data"
      ],
      "id": "qHKU2cn_eYkn"
    },
    {
      "cell_type": "code",
      "metadata": {
        "id": "bb6b7dbc"
      },
      "source": [
        "import pandas as pd\n",
        "import numpy as np"
      ],
      "id": "bb6b7dbc",
      "execution_count": 75,
      "outputs": []
    },
    {
      "cell_type": "code",
      "metadata": {
        "colab": {
          "base_uri": "https://localhost:8080/",
          "height": 417
        },
        "id": "a648a4c1",
        "outputId": "4d36292b-e716-44e5-b297-171f0f90f520"
      },
      "source": [
        "buoy = pd.read_csv('Buoy.csv', parse_dates = {\"date\" : [\"#YY\",\"MM\",\"DD\"]} )\n",
        "buoy\n",
        "buoy.drop([\"mm\"], axis=1)"
      ],
      "id": "a648a4c1",
      "execution_count": 77,
      "outputs": [
        {
          "output_type": "execute_result",
          "data": {
            "text/html": [
              "<div>\n",
              "<style scoped>\n",
              "    .dataframe tbody tr th:only-of-type {\n",
              "        vertical-align: middle;\n",
              "    }\n",
              "\n",
              "    .dataframe tbody tr th {\n",
              "        vertical-align: top;\n",
              "    }\n",
              "\n",
              "    .dataframe thead th {\n",
              "        text-align: right;\n",
              "    }\n",
              "</style>\n",
              "<table border=\"1\" class=\"dataframe\">\n",
              "  <thead>\n",
              "    <tr style=\"text-align: right;\">\n",
              "      <th></th>\n",
              "      <th>date</th>\n",
              "      <th>hh</th>\n",
              "      <th>WDIR</th>\n",
              "      <th>WSPD</th>\n",
              "      <th>GST</th>\n",
              "      <th>PRES</th>\n",
              "      <th>ATMP</th>\n",
              "      <th>WTMP</th>\n",
              "    </tr>\n",
              "  </thead>\n",
              "  <tbody>\n",
              "    <tr>\n",
              "      <th>0</th>\n",
              "      <td>2020-01-01</td>\n",
              "      <td>0</td>\n",
              "      <td>257</td>\n",
              "      <td>5.3</td>\n",
              "      <td>7.1</td>\n",
              "      <td>1016.2</td>\n",
              "      <td>13.9</td>\n",
              "      <td>13.8</td>\n",
              "    </tr>\n",
              "    <tr>\n",
              "      <th>1</th>\n",
              "      <td>2020-01-01</td>\n",
              "      <td>1</td>\n",
              "      <td>255</td>\n",
              "      <td>5.9</td>\n",
              "      <td>8.4</td>\n",
              "      <td>1016.4</td>\n",
              "      <td>13.7</td>\n",
              "      <td>13.7</td>\n",
              "    </tr>\n",
              "    <tr>\n",
              "      <th>2</th>\n",
              "      <td>2020-01-01</td>\n",
              "      <td>2</td>\n",
              "      <td>254</td>\n",
              "      <td>7.4</td>\n",
              "      <td>9.2</td>\n",
              "      <td>1016.6</td>\n",
              "      <td>13.5</td>\n",
              "      <td>13.6</td>\n",
              "    </tr>\n",
              "    <tr>\n",
              "      <th>3</th>\n",
              "      <td>2020-01-01</td>\n",
              "      <td>3</td>\n",
              "      <td>257</td>\n",
              "      <td>7.8</td>\n",
              "      <td>10.1</td>\n",
              "      <td>1016.8</td>\n",
              "      <td>13.2</td>\n",
              "      <td>13.6</td>\n",
              "    </tr>\n",
              "    <tr>\n",
              "      <th>4</th>\n",
              "      <td>2020-01-01</td>\n",
              "      <td>4</td>\n",
              "      <td>260</td>\n",
              "      <td>7.8</td>\n",
              "      <td>10.1</td>\n",
              "      <td>1016.7</td>\n",
              "      <td>12.8</td>\n",
              "      <td>13.6</td>\n",
              "    </tr>\n",
              "    <tr>\n",
              "      <th>...</th>\n",
              "      <td>...</td>\n",
              "      <td>...</td>\n",
              "      <td>...</td>\n",
              "      <td>...</td>\n",
              "      <td>...</td>\n",
              "      <td>...</td>\n",
              "      <td>...</td>\n",
              "      <td>...</td>\n",
              "    </tr>\n",
              "    <tr>\n",
              "      <th>75762</th>\n",
              "      <td>2010-12-31</td>\n",
              "      <td>18</td>\n",
              "      <td>60</td>\n",
              "      <td>4.0</td>\n",
              "      <td>99.0</td>\n",
              "      <td>1022.8</td>\n",
              "      <td>9.6</td>\n",
              "      <td>999.0</td>\n",
              "    </tr>\n",
              "    <tr>\n",
              "      <th>75763</th>\n",
              "      <td>2010-12-31</td>\n",
              "      <td>20</td>\n",
              "      <td>70</td>\n",
              "      <td>4.0</td>\n",
              "      <td>99.0</td>\n",
              "      <td>1022.2</td>\n",
              "      <td>10.1</td>\n",
              "      <td>999.0</td>\n",
              "    </tr>\n",
              "    <tr>\n",
              "      <th>75764</th>\n",
              "      <td>2010-12-31</td>\n",
              "      <td>21</td>\n",
              "      <td>80</td>\n",
              "      <td>3.0</td>\n",
              "      <td>99.0</td>\n",
              "      <td>1022.2</td>\n",
              "      <td>10.4</td>\n",
              "      <td>999.0</td>\n",
              "    </tr>\n",
              "    <tr>\n",
              "      <th>75765</th>\n",
              "      <td>2010-12-31</td>\n",
              "      <td>22</td>\n",
              "      <td>80</td>\n",
              "      <td>3.0</td>\n",
              "      <td>99.0</td>\n",
              "      <td>1022.4</td>\n",
              "      <td>11.1</td>\n",
              "      <td>999.0</td>\n",
              "    </tr>\n",
              "    <tr>\n",
              "      <th>75766</th>\n",
              "      <td>2010-12-31</td>\n",
              "      <td>23</td>\n",
              "      <td>30</td>\n",
              "      <td>2.0</td>\n",
              "      <td>99.0</td>\n",
              "      <td>1023.0</td>\n",
              "      <td>10.7</td>\n",
              "      <td>999.0</td>\n",
              "    </tr>\n",
              "  </tbody>\n",
              "</table>\n",
              "<p>75767 rows × 8 columns</p>\n",
              "</div>"
            ],
            "text/plain": [
              "            date  hh  WDIR  WSPD   GST    PRES  ATMP   WTMP\n",
              "0     2020-01-01   0   257   5.3   7.1  1016.2  13.9   13.8\n",
              "1     2020-01-01   1   255   5.9   8.4  1016.4  13.7   13.7\n",
              "2     2020-01-01   2   254   7.4   9.2  1016.6  13.5   13.6\n",
              "3     2020-01-01   3   257   7.8  10.1  1016.8  13.2   13.6\n",
              "4     2020-01-01   4   260   7.8  10.1  1016.7  12.8   13.6\n",
              "...          ...  ..   ...   ...   ...     ...   ...    ...\n",
              "75762 2010-12-31  18    60   4.0  99.0  1022.8   9.6  999.0\n",
              "75763 2010-12-31  20    70   4.0  99.0  1022.2  10.1  999.0\n",
              "75764 2010-12-31  21    80   3.0  99.0  1022.2  10.4  999.0\n",
              "75765 2010-12-31  22    80   3.0  99.0  1022.4  11.1  999.0\n",
              "75766 2010-12-31  23    30   2.0  99.0  1023.0  10.7  999.0\n",
              "\n",
              "[75767 rows x 8 columns]"
            ]
          },
          "metadata": {},
          "execution_count": 77
        }
      ]
    },
    {
      "cell_type": "code",
      "metadata": {
        "colab": {
          "base_uri": "https://localhost:8080/"
        },
        "id": "7fef7072",
        "outputId": "61440fd9-fda3-4bd5-d786-e92ca7ba2363"
      },
      "source": [
        "#Checking the datatypes of inported data, these seem to make sense\n",
        "buoy.dtypes"
      ],
      "id": "7fef7072",
      "execution_count": 78,
      "outputs": [
        {
          "output_type": "execute_result",
          "data": {
            "text/plain": [
              "date    datetime64[ns]\n",
              "hh               int64\n",
              "mm               int64\n",
              "WDIR             int64\n",
              "WSPD           float64\n",
              "GST            float64\n",
              "PRES           float64\n",
              "ATMP           float64\n",
              "WTMP           float64\n",
              "dtype: object"
            ]
          },
          "metadata": {},
          "execution_count": 78
        }
      ]
    },
    {
      "cell_type": "code",
      "metadata": {
        "colab": {
          "base_uri": "https://localhost:8080/",
          "height": 295
        },
        "id": "7ad06e98",
        "outputId": "be4e53fe-65a6-4360-9469-ec78e0761d83"
      },
      "source": [
        "buoy.describe()"
      ],
      "id": "7ad06e98",
      "execution_count": 79,
      "outputs": [
        {
          "output_type": "execute_result",
          "data": {
            "text/html": [
              "<div>\n",
              "<style scoped>\n",
              "    .dataframe tbody tr th:only-of-type {\n",
              "        vertical-align: middle;\n",
              "    }\n",
              "\n",
              "    .dataframe tbody tr th {\n",
              "        vertical-align: top;\n",
              "    }\n",
              "\n",
              "    .dataframe thead th {\n",
              "        text-align: right;\n",
              "    }\n",
              "</style>\n",
              "<table border=\"1\" class=\"dataframe\">\n",
              "  <thead>\n",
              "    <tr style=\"text-align: right;\">\n",
              "      <th></th>\n",
              "      <th>hh</th>\n",
              "      <th>mm</th>\n",
              "      <th>WDIR</th>\n",
              "      <th>WSPD</th>\n",
              "      <th>GST</th>\n",
              "      <th>PRES</th>\n",
              "      <th>ATMP</th>\n",
              "      <th>WTMP</th>\n",
              "    </tr>\n",
              "  </thead>\n",
              "  <tbody>\n",
              "    <tr>\n",
              "      <th>count</th>\n",
              "      <td>75767.000000</td>\n",
              "      <td>75767.000000</td>\n",
              "      <td>75767.000000</td>\n",
              "      <td>75767.000000</td>\n",
              "      <td>75767.000000</td>\n",
              "      <td>75767.000000</td>\n",
              "      <td>75767.000000</td>\n",
              "      <td>75767.000000</td>\n",
              "    </tr>\n",
              "    <tr>\n",
              "      <th>mean</th>\n",
              "      <td>11.494846</td>\n",
              "      <td>4.478322</td>\n",
              "      <td>175.703670</td>\n",
              "      <td>5.568113</td>\n",
              "      <td>31.143432</td>\n",
              "      <td>2185.523770</td>\n",
              "      <td>41.736301</td>\n",
              "      <td>554.183938</td>\n",
              "    </tr>\n",
              "    <tr>\n",
              "      <th>std</th>\n",
              "      <td>6.920052</td>\n",
              "      <td>4.981954</td>\n",
              "      <td>118.410601</td>\n",
              "      <td>4.124480</td>\n",
              "      <td>40.339431</td>\n",
              "      <td>3021.123983</td>\n",
              "      <td>144.280182</td>\n",
              "      <td>486.641218</td>\n",
              "    </tr>\n",
              "    <tr>\n",
              "      <th>min</th>\n",
              "      <td>0.000000</td>\n",
              "      <td>0.000000</td>\n",
              "      <td>0.000000</td>\n",
              "      <td>0.000000</td>\n",
              "      <td>0.000000</td>\n",
              "      <td>991.900000</td>\n",
              "      <td>-5.900000</td>\n",
              "      <td>5.500000</td>\n",
              "    </tr>\n",
              "    <tr>\n",
              "      <th>25%</th>\n",
              "      <td>6.000000</td>\n",
              "      <td>0.000000</td>\n",
              "      <td>75.000000</td>\n",
              "      <td>3.600000</td>\n",
              "      <td>5.600000</td>\n",
              "      <td>1014.400000</td>\n",
              "      <td>14.500000</td>\n",
              "      <td>24.400000</td>\n",
              "    </tr>\n",
              "    <tr>\n",
              "      <th>50%</th>\n",
              "      <td>11.000000</td>\n",
              "      <td>8.000000</td>\n",
              "      <td>190.000000</td>\n",
              "      <td>5.100000</td>\n",
              "      <td>8.700000</td>\n",
              "      <td>1018.200000</td>\n",
              "      <td>21.200000</td>\n",
              "      <td>999.000000</td>\n",
              "    </tr>\n",
              "    <tr>\n",
              "      <th>75%</th>\n",
              "      <td>17.000000</td>\n",
              "      <td>8.000000</td>\n",
              "      <td>243.000000</td>\n",
              "      <td>7.000000</td>\n",
              "      <td>99.000000</td>\n",
              "      <td>1023.200000</td>\n",
              "      <td>26.900000</td>\n",
              "      <td>999.000000</td>\n",
              "    </tr>\n",
              "    <tr>\n",
              "      <th>max</th>\n",
              "      <td>23.000000</td>\n",
              "      <td>53.000000</td>\n",
              "      <td>999.000000</td>\n",
              "      <td>99.000000</td>\n",
              "      <td>99.000000</td>\n",
              "      <td>9999.000000</td>\n",
              "      <td>999.000000</td>\n",
              "      <td>999.000000</td>\n",
              "    </tr>\n",
              "  </tbody>\n",
              "</table>\n",
              "</div>"
            ],
            "text/plain": [
              "                 hh            mm  ...          ATMP          WTMP\n",
              "count  75767.000000  75767.000000  ...  75767.000000  75767.000000\n",
              "mean      11.494846      4.478322  ...     41.736301    554.183938\n",
              "std        6.920052      4.981954  ...    144.280182    486.641218\n",
              "min        0.000000      0.000000  ...     -5.900000      5.500000\n",
              "25%        6.000000      0.000000  ...     14.500000     24.400000\n",
              "50%       11.000000      8.000000  ...     21.200000    999.000000\n",
              "75%       17.000000      8.000000  ...     26.900000    999.000000\n",
              "max       23.000000     53.000000  ...    999.000000    999.000000\n",
              "\n",
              "[8 rows x 8 columns]"
            ]
          },
          "metadata": {},
          "execution_count": 79
        }
      ]
    },
    {
      "cell_type": "code",
      "metadata": {
        "id": "c0d00e82"
      },
      "source": [
        "#replacing values with na as 99, 999, 9999 are missing data\n",
        "buoy[\"WDIR\"].replace({999.0:np.nan}, inplace=True)\n",
        "buoy[\"GST\"].replace({99.0:np.nan}, inplace=True)\n",
        "buoy[\"PRES\"].replace({9999.0:np.nan}, inplace=True)\n",
        "buoy[\"ATMP\"].replace({999.0:np.nan}, inplace=True)\n",
        "buoy[\"WTMP\"].replace({999.0:np.nan}, inplace=True)\n",
        "buoy[\"WSPD\"].replace({99.0:np.nan}, inplace=True)"
      ],
      "id": "c0d00e82",
      "execution_count": 80,
      "outputs": []
    },
    {
      "cell_type": "code",
      "metadata": {
        "colab": {
          "base_uri": "https://localhost:8080/",
          "height": 295
        },
        "id": "76c7e090",
        "outputId": "945d783d-957d-44de-e98c-384ed7e1c9bd"
      },
      "source": [
        "#Checking our data to see current statistics per each variable that was skewed by the 99/999/9999 \n",
        "buoy[[\"GST\", \"WDIR\", \"PRES\", \"ATMP\", \"WTMP\", \"WSPD\"]].describe()"
      ],
      "id": "76c7e090",
      "execution_count": 81,
      "outputs": [
        {
          "output_type": "execute_result",
          "data": {
            "text/html": [
              "<div>\n",
              "<style scoped>\n",
              "    .dataframe tbody tr th:only-of-type {\n",
              "        vertical-align: middle;\n",
              "    }\n",
              "\n",
              "    .dataframe tbody tr th {\n",
              "        vertical-align: top;\n",
              "    }\n",
              "\n",
              "    .dataframe thead th {\n",
              "        text-align: right;\n",
              "    }\n",
              "</style>\n",
              "<table border=\"1\" class=\"dataframe\">\n",
              "  <thead>\n",
              "    <tr style=\"text-align: right;\">\n",
              "      <th></th>\n",
              "      <th>GST</th>\n",
              "      <th>WDIR</th>\n",
              "      <th>PRES</th>\n",
              "      <th>ATMP</th>\n",
              "      <th>WTMP</th>\n",
              "      <th>WSPD</th>\n",
              "    </tr>\n",
              "  </thead>\n",
              "  <tbody>\n",
              "    <tr>\n",
              "      <th>count</th>\n",
              "      <td>56064.000000</td>\n",
              "      <td>75296.000000</td>\n",
              "      <td>65913.000000</td>\n",
              "      <td>74088.000000</td>\n",
              "      <td>34490.000000</td>\n",
              "      <td>75680.000000</td>\n",
              "    </tr>\n",
              "    <tr>\n",
              "      <th>mean</th>\n",
              "      <td>7.296079</td>\n",
              "      <td>170.553695</td>\n",
              "      <td>1017.408303</td>\n",
              "      <td>20.042562</td>\n",
              "      <td>21.836225</td>\n",
              "      <td>5.460706</td>\n",
              "    </tr>\n",
              "    <tr>\n",
              "      <th>std</th>\n",
              "      <td>3.496994</td>\n",
              "      <td>99.208078</td>\n",
              "      <td>5.594077</td>\n",
              "      <td>7.141285</td>\n",
              "      <td>6.584634</td>\n",
              "      <td>2.642720</td>\n",
              "    </tr>\n",
              "    <tr>\n",
              "      <th>min</th>\n",
              "      <td>0.000000</td>\n",
              "      <td>0.000000</td>\n",
              "      <td>991.900000</td>\n",
              "      <td>-5.900000</td>\n",
              "      <td>5.500000</td>\n",
              "      <td>0.000000</td>\n",
              "    </tr>\n",
              "    <tr>\n",
              "      <th>25%</th>\n",
              "      <td>4.900000</td>\n",
              "      <td>74.000000</td>\n",
              "      <td>1013.900000</td>\n",
              "      <td>14.300000</td>\n",
              "      <td>15.400000</td>\n",
              "      <td>3.600000</td>\n",
              "    </tr>\n",
              "    <tr>\n",
              "      <th>50%</th>\n",
              "      <td>7.000000</td>\n",
              "      <td>190.000000</td>\n",
              "      <td>1017.300000</td>\n",
              "      <td>20.900000</td>\n",
              "      <td>23.200000</td>\n",
              "      <td>5.100000</td>\n",
              "    </tr>\n",
              "    <tr>\n",
              "      <th>75%</th>\n",
              "      <td>9.500000</td>\n",
              "      <td>240.000000</td>\n",
              "      <td>1020.800000</td>\n",
              "      <td>26.700000</td>\n",
              "      <td>28.300000</td>\n",
              "      <td>7.000000</td>\n",
              "    </tr>\n",
              "    <tr>\n",
              "      <th>max</th>\n",
              "      <td>40.700000</td>\n",
              "      <td>360.000000</td>\n",
              "      <td>1041.300000</td>\n",
              "      <td>33.700000</td>\n",
              "      <td>31.900000</td>\n",
              "      <td>30.300000</td>\n",
              "    </tr>\n",
              "  </tbody>\n",
              "</table>\n",
              "</div>"
            ],
            "text/plain": [
              "                GST          WDIR  ...          WTMP          WSPD\n",
              "count  56064.000000  75296.000000  ...  34490.000000  75680.000000\n",
              "mean       7.296079    170.553695  ...     21.836225      5.460706\n",
              "std        3.496994     99.208078  ...      6.584634      2.642720\n",
              "min        0.000000      0.000000  ...      5.500000      0.000000\n",
              "25%        4.900000     74.000000  ...     15.400000      3.600000\n",
              "50%        7.000000    190.000000  ...     23.200000      5.100000\n",
              "75%        9.500000    240.000000  ...     28.300000      7.000000\n",
              "max       40.700000    360.000000  ...     31.900000     30.300000\n",
              "\n",
              "[8 rows x 6 columns]"
            ]
          },
          "metadata": {},
          "execution_count": 81
        }
      ]
    },
    {
      "cell_type": "code",
      "metadata": {
        "colab": {
          "base_uri": "https://localhost:8080/"
        },
        "id": "b90f02b7",
        "outputId": "875060e9-e032-45d5-dcc5-e62ab7053c39"
      },
      "source": [
        "#We can see from this that there is significant data loss in some categories with WDIR, GST, PRES, ATMP, WTMP all have\n",
        "#missing values, especially GST, PRES, and WTMP so we will need to handle that lost data\n",
        "print(buoy.isnull().sum())\n",
        "print(buoy.info())"
      ],
      "id": "b90f02b7",
      "execution_count": 82,
      "outputs": [
        {
          "output_type": "stream",
          "name": "stdout",
          "text": [
            "date        0\n",
            "hh          0\n",
            "mm          0\n",
            "WDIR      471\n",
            "WSPD       87\n",
            "GST     19703\n",
            "PRES     9854\n",
            "ATMP     1679\n",
            "WTMP    41277\n",
            "dtype: int64\n",
            "<class 'pandas.core.frame.DataFrame'>\n",
            "RangeIndex: 75767 entries, 0 to 75766\n",
            "Data columns (total 9 columns):\n",
            " #   Column  Non-Null Count  Dtype         \n",
            "---  ------  --------------  -----         \n",
            " 0   date    75767 non-null  datetime64[ns]\n",
            " 1   hh      75767 non-null  int64         \n",
            " 2   mm      75767 non-null  int64         \n",
            " 3   WDIR    75296 non-null  float64       \n",
            " 4   WSPD    75680 non-null  float64       \n",
            " 5   GST     56064 non-null  float64       \n",
            " 6   PRES    65913 non-null  float64       \n",
            " 7   ATMP    74088 non-null  float64       \n",
            " 8   WTMP    34490 non-null  float64       \n",
            "dtypes: datetime64[ns](1), float64(6), int64(2)\n",
            "memory usage: 5.2 MB\n",
            "None\n"
          ]
        }
      ]
    },
    {
      "cell_type": "code",
      "metadata": {
        "id": "6e3b2722"
      },
      "source": [
        "#Imputing the missing data\n",
        "from sklearn.impute import SimpleImputer"
      ],
      "id": "6e3b2722",
      "execution_count": 83,
      "outputs": []
    },
    {
      "cell_type": "code",
      "metadata": {
        "colab": {
          "base_uri": "https://localhost:8080/"
        },
        "id": "0250729a",
        "outputId": "3fba02ca-e469-4578-cc96-f55b6779520c"
      },
      "source": [
        "#Imputing the mean into the missing data\n",
        "buoy_mean = buoy.copy(deep=True)\n",
        "mean_imputer = SimpleImputer(strategy=\"mean\")\n",
        "buoy_mean.iloc[:,3:] = mean_imputer.fit_transform(buoy_mean.iloc[:,3:])\n",
        "buoy_mean[[\"GST\", \"WDIR\", \"PRES\", \"ATMP\", \"WTMP\", \"WSPD\"]].info()"
      ],
      "id": "0250729a",
      "execution_count": 86,
      "outputs": [
        {
          "output_type": "stream",
          "name": "stdout",
          "text": [
            "<class 'pandas.core.frame.DataFrame'>\n",
            "RangeIndex: 75767 entries, 0 to 75766\n",
            "Data columns (total 6 columns):\n",
            " #   Column  Non-Null Count  Dtype  \n",
            "---  ------  --------------  -----  \n",
            " 0   GST     75767 non-null  float64\n",
            " 1   WDIR    75767 non-null  float64\n",
            " 2   PRES    75767 non-null  float64\n",
            " 3   ATMP    75767 non-null  float64\n",
            " 4   WTMP    75767 non-null  float64\n",
            " 5   WSPD    75767 non-null  float64\n",
            "dtypes: float64(6)\n",
            "memory usage: 3.5 MB\n"
          ]
        }
      ]
    },
    {
      "cell_type": "code",
      "metadata": {
        "colab": {
          "base_uri": "https://localhost:8080/",
          "height": 449
        },
        "id": "PIM6bF_HXt3x",
        "outputId": "3c6027e6-70f9-4ea1-8543-244ddb99d394"
      },
      "source": [
        "#Creating a histogram of the given data, we can ignore month, year, day, hour and minute distributions\n",
        "#From the below graph we can see that windspeed and wind direction are not normally distributed, neither is pressure or Air temp\n",
        "import matplotlib.pyplot as plt\n",
        "buoy_mean.hist()"
      ],
      "id": "PIM6bF_HXt3x",
      "execution_count": 87,
      "outputs": [
        {
          "output_type": "execute_result",
          "data": {
            "text/plain": [
              "array([[<matplotlib.axes._subplots.AxesSubplot object at 0x7faa06ec87d0>,\n",
              "        <matplotlib.axes._subplots.AxesSubplot object at 0x7faa06ed0450>,\n",
              "        <matplotlib.axes._subplots.AxesSubplot object at 0x7faa0604ee90>],\n",
              "       [<matplotlib.axes._subplots.AxesSubplot object at 0x7faa0602b550>,\n",
              "        <matplotlib.axes._subplots.AxesSubplot object at 0x7faa06012bd0>,\n",
              "        <matplotlib.axes._subplots.AxesSubplot object at 0x7faa06df5290>],\n",
              "       [<matplotlib.axes._subplots.AxesSubplot object at 0x7faa06e2b990>,\n",
              "        <matplotlib.axes._subplots.AxesSubplot object at 0x7faa06de1f90>,\n",
              "        <matplotlib.axes._subplots.AxesSubplot object at 0x7faa06ded090>]],\n",
              "      dtype=object)"
            ]
          },
          "metadata": {},
          "execution_count": 87
        },
        {
          "output_type": "display_data",
          "data": {
            "image/png": "[encoded data removed]",
            "text/plain": [
              "<Figure size 432x288 with 9 Axes>"
            ]
          },
          "metadata": {
            "needs_background": "light"
          }
        }
      ]
    },
    {
      "cell_type": "code",
      "metadata": {
        "colab": {
          "base_uri": "https://localhost:8080/",
          "height": 290
        },
        "id": "hDNpQzXRXz7q",
        "outputId": "0268f1d4-97ea-4f1e-9e90-96669d6c929e"
      },
      "source": [
        "#Creating a scatter matrix of all the variables\n",
        "#There does not look like many strong correlations except for between gust and wind speed which appear to be highly correlated\n",
        "#This would make sense as high wind speeds create gusts so these two variables are positively correlated\n",
        "from pandas.plotting import scatter_matrix\n",
        "scatter_matrix(buoy_mean[[\"WDIR\", \"WSPD\", \"GST\", \"PRES\", \"ATMP\", \"WTMP\"]])\n",
        "plt.show()"
      ],
      "id": "hDNpQzXRXz7q",
      "execution_count": 88,
      "outputs": [
        {
          "output_type": "display_data",
          "data": {
            "image/png": "[encoded data removed]",
            "text/plain": [
              "<Figure size 432x288 with 36 Axes>"
            ]
          },
          "metadata": {
            "needs_background": "light"
          }
        }
      ]
    },
    {
      "cell_type": "code",
      "metadata": {
        "id": "Vsgl1f4CYGqs",
        "colab": {
          "base_uri": "https://localhost:8080/",
          "height": 378
        },
        "outputId": "4707f476-06e0-4ae0-9bb3-d2572ce4f713"
      },
      "source": [
        "#Here we have a correlation heatmap\n",
        "#What we take from this is that Windspeed and Gust are highly correlated at .84, Air Temp and Water Temp are fairly correlated\n",
        "#at .64, and Month and Air Temp are somewhat positively correlated at .32\n",
        "import seaborn as sns\n",
        "plt.figure(figsize=(9,6))\n",
        "sns.heatmap(buoy_mean.corr(),annot=True,cmap='cubehelix_r')\n",
        "plt.show()"
      ],
      "id": "Vsgl1f4CYGqs",
      "execution_count": 89,
      "outputs": [
        {
          "output_type": "display_data",
          "data": {
            "image/png": "[encoded data removed]",
            "text/plain": [
              "<Figure size 648x432 with 2 Axes>"
            ]
          },
          "metadata": {
            "needs_background": "light"
          }
        }
      ]
    },
    {
      "cell_type": "markdown",
      "metadata": {
        "id": "ly-OqGSh7VRe"
      },
      "source": [
        "## Weather Station Data"
      ],
      "id": "ly-OqGSh7VRe"
    },
    {
      "cell_type": "code",
      "metadata": {
        "id": "3ZHhfd7kgNjl"
      },
      "source": [
        "import pandas as pd\n",
        "import numpy as np\n",
        "import datetime as dt"
      ],
      "id": "3ZHhfd7kgNjl",
      "execution_count": null,
      "outputs": []
    },
    {
      "cell_type": "code",
      "metadata": {
        "colab": {
          "base_uri": "https://localhost:8080/"
        },
        "id": "-Ip47324fHe7",
        "outputId": "a8865d7c-a68f-494b-edf6-2d4c5a74d4a4"
      },
      "source": [
        "stationHXD_data = pd.read_csv(\"HXD (1).csv\")\n",
        "stationSUT_data = pd.read_csv(\"SUT (1).csv\")"
      ],
      "id": "-Ip47324fHe7",
      "execution_count": null,
      "outputs": [
        {
          "output_type": "stream",
          "name": "stderr",
          "text": [
            "/usr/local/lib/python3.7/dist-packages/IPython/core/interactiveshell.py:2718: DtypeWarning: Columns (9) have mixed types.Specify dtype option on import or set low_memory=False.\n",
            "  interactivity=interactivity, compiler=compiler, result=result)\n"
          ]
        }
      ]
    },
    {
      "cell_type": "code",
      "metadata": {
        "colab": {
          "base_uri": "https://localhost:8080/",
          "height": 357
        },
        "id": "8szxc7hnfHbT",
        "outputId": "c8ab2ab4-e9a6-43e5-98b6-bd546022e768"
      },
      "source": [
        "stationHXD_data.head(10)"
      ],
      "id": "8szxc7hnfHbT",
      "execution_count": null,
      "outputs": [
        {
          "output_type": "execute_result",
          "data": {
            "text/html": [
              "<div>\n",
              "<style scoped>\n",
              "    .dataframe tbody tr th:only-of-type {\n",
              "        vertical-align: middle;\n",
              "    }\n",
              "\n",
              "    .dataframe tbody tr th {\n",
              "        vertical-align: top;\n",
              "    }\n",
              "\n",
              "    .dataframe thead th {\n",
              "        text-align: right;\n",
              "    }\n",
              "</style>\n",
              "<table border=\"1\" class=\"dataframe\">\n",
              "  <thead>\n",
              "    <tr style=\"text-align: right;\">\n",
              "      <th></th>\n",
              "      <th>station</th>\n",
              "      <th>valid</th>\n",
              "      <th>tmpc</th>\n",
              "      <th>dwpc</th>\n",
              "      <th>relh</th>\n",
              "      <th>feel</th>\n",
              "      <th>drct</th>\n",
              "      <th>sped</th>\n",
              "      <th>mslp</th>\n",
              "      <th>p01i</th>\n",
              "      <th>gust_mph</th>\n",
              "      <th>skyc1</th>\n",
              "      <th>skyc2</th>\n",
              "      <th>skyl1</th>\n",
              "    </tr>\n",
              "  </thead>\n",
              "  <tbody>\n",
              "    <tr>\n",
              "      <th>0</th>\n",
              "      <td>HXD</td>\n",
              "      <td>2013-01-01 00:55</td>\n",
              "      <td>8.0</td>\n",
              "      <td>7.0</td>\n",
              "      <td>93.40</td>\n",
              "      <td>46.4</td>\n",
              "      <td>0.0</td>\n",
              "      <td>0.0</td>\n",
              "      <td>NaN</td>\n",
              "      <td>0.00</td>\n",
              "      <td>NaN</td>\n",
              "      <td>CLR</td>\n",
              "      <td>NaN</td>\n",
              "      <td>NaN</td>\n",
              "    </tr>\n",
              "    <tr>\n",
              "      <th>1</th>\n",
              "      <td>HXD</td>\n",
              "      <td>2013-01-01 01:15</td>\n",
              "      <td>7.0</td>\n",
              "      <td>7.0</td>\n",
              "      <td>100.00</td>\n",
              "      <td>44.6</td>\n",
              "      <td>0.0</td>\n",
              "      <td>0.0</td>\n",
              "      <td>NaN</td>\n",
              "      <td>T</td>\n",
              "      <td>NaN</td>\n",
              "      <td>CLR</td>\n",
              "      <td>NaN</td>\n",
              "      <td>NaN</td>\n",
              "    </tr>\n",
              "    <tr>\n",
              "      <th>2</th>\n",
              "      <td>HXD</td>\n",
              "      <td>2013-01-01 01:35</td>\n",
              "      <td>6.0</td>\n",
              "      <td>6.0</td>\n",
              "      <td>100.00</td>\n",
              "      <td>42.8</td>\n",
              "      <td>0.0</td>\n",
              "      <td>0.0</td>\n",
              "      <td>NaN</td>\n",
              "      <td>T</td>\n",
              "      <td>NaN</td>\n",
              "      <td>CLR</td>\n",
              "      <td>NaN</td>\n",
              "      <td>NaN</td>\n",
              "    </tr>\n",
              "    <tr>\n",
              "      <th>3</th>\n",
              "      <td>HXD</td>\n",
              "      <td>2013-01-01 01:50</td>\n",
              "      <td>8.0</td>\n",
              "      <td>6.0</td>\n",
              "      <td>87.19</td>\n",
              "      <td>46.4</td>\n",
              "      <td>0.0</td>\n",
              "      <td>0.0</td>\n",
              "      <td>NaN</td>\n",
              "      <td>0.00</td>\n",
              "      <td>NaN</td>\n",
              "      <td>CLR</td>\n",
              "      <td>NaN</td>\n",
              "      <td>NaN</td>\n",
              "    </tr>\n",
              "    <tr>\n",
              "      <th>4</th>\n",
              "      <td>HXD</td>\n",
              "      <td>2013-01-01 01:55</td>\n",
              "      <td>6.0</td>\n",
              "      <td>6.0</td>\n",
              "      <td>100.00</td>\n",
              "      <td>42.8</td>\n",
              "      <td>0.0</td>\n",
              "      <td>0.0</td>\n",
              "      <td>NaN</td>\n",
              "      <td>T</td>\n",
              "      <td>NaN</td>\n",
              "      <td>CLR</td>\n",
              "      <td>NaN</td>\n",
              "      <td>NaN</td>\n",
              "    </tr>\n",
              "    <tr>\n",
              "      <th>5</th>\n",
              "      <td>HXD</td>\n",
              "      <td>2013-01-01 02:15</td>\n",
              "      <td>6.0</td>\n",
              "      <td>6.0</td>\n",
              "      <td>100.00</td>\n",
              "      <td>42.8</td>\n",
              "      <td>0.0</td>\n",
              "      <td>0.0</td>\n",
              "      <td>NaN</td>\n",
              "      <td>T</td>\n",
              "      <td>NaN</td>\n",
              "      <td>CLR</td>\n",
              "      <td>NaN</td>\n",
              "      <td>NaN</td>\n",
              "    </tr>\n",
              "    <tr>\n",
              "      <th>6</th>\n",
              "      <td>HXD</td>\n",
              "      <td>2013-01-01 02:35</td>\n",
              "      <td>6.0</td>\n",
              "      <td>6.0</td>\n",
              "      <td>100.00</td>\n",
              "      <td>42.8</td>\n",
              "      <td>0.0</td>\n",
              "      <td>0.0</td>\n",
              "      <td>NaN</td>\n",
              "      <td>T</td>\n",
              "      <td>NaN</td>\n",
              "      <td>SCT</td>\n",
              "      <td>NaN</td>\n",
              "      <td>10000.0</td>\n",
              "    </tr>\n",
              "    <tr>\n",
              "      <th>7</th>\n",
              "      <td>HXD</td>\n",
              "      <td>2013-01-01 02:55</td>\n",
              "      <td>7.0</td>\n",
              "      <td>7.0</td>\n",
              "      <td>100.00</td>\n",
              "      <td>44.6</td>\n",
              "      <td>0.0</td>\n",
              "      <td>0.0</td>\n",
              "      <td>NaN</td>\n",
              "      <td>T</td>\n",
              "      <td>NaN</td>\n",
              "      <td>OVC</td>\n",
              "      <td>NaN</td>\n",
              "      <td>10000.0</td>\n",
              "    </tr>\n",
              "    <tr>\n",
              "      <th>8</th>\n",
              "      <td>HXD</td>\n",
              "      <td>2013-01-01 03:15</td>\n",
              "      <td>7.0</td>\n",
              "      <td>7.0</td>\n",
              "      <td>100.00</td>\n",
              "      <td>44.6</td>\n",
              "      <td>0.0</td>\n",
              "      <td>0.0</td>\n",
              "      <td>NaN</td>\n",
              "      <td>T</td>\n",
              "      <td>NaN</td>\n",
              "      <td>OVC</td>\n",
              "      <td>NaN</td>\n",
              "      <td>10000.0</td>\n",
              "    </tr>\n",
              "    <tr>\n",
              "      <th>9</th>\n",
              "      <td>HXD</td>\n",
              "      <td>2013-01-01 03:35</td>\n",
              "      <td>8.0</td>\n",
              "      <td>8.0</td>\n",
              "      <td>100.00</td>\n",
              "      <td>46.4</td>\n",
              "      <td>0.0</td>\n",
              "      <td>0.0</td>\n",
              "      <td>NaN</td>\n",
              "      <td>T</td>\n",
              "      <td>NaN</td>\n",
              "      <td>OVC</td>\n",
              "      <td>NaN</td>\n",
              "      <td>11000.0</td>\n",
              "    </tr>\n",
              "  </tbody>\n",
              "</table>\n",
              "</div>"
            ],
            "text/plain": [
              "  station             valid  tmpc  dwpc  ...  gust_mph  skyc1  skyc2    skyl1\n",
              "0     HXD  2013-01-01 00:55   8.0   7.0  ...       NaN    CLR    NaN      NaN\n",
              "1     HXD  2013-01-01 01:15   7.0   7.0  ...       NaN    CLR    NaN      NaN\n",
              "2     HXD  2013-01-01 01:35   6.0   6.0  ...       NaN    CLR    NaN      NaN\n",
              "3     HXD  2013-01-01 01:50   8.0   6.0  ...       NaN    CLR    NaN      NaN\n",
              "4     HXD  2013-01-01 01:55   6.0   6.0  ...       NaN    CLR    NaN      NaN\n",
              "5     HXD  2013-01-01 02:15   6.0   6.0  ...       NaN    CLR    NaN      NaN\n",
              "6     HXD  2013-01-01 02:35   6.0   6.0  ...       NaN    SCT    NaN  10000.0\n",
              "7     HXD  2013-01-01 02:55   7.0   7.0  ...       NaN    OVC    NaN  10000.0\n",
              "8     HXD  2013-01-01 03:15   7.0   7.0  ...       NaN    OVC    NaN  10000.0\n",
              "9     HXD  2013-01-01 03:35   8.0   8.0  ...       NaN    OVC    NaN  11000.0\n",
              "\n",
              "[10 rows x 14 columns]"
            ]
          },
          "metadata": {},
          "execution_count": 15
        }
      ]
    },
    {
      "cell_type": "code",
      "metadata": {
        "colab": {
          "base_uri": "https://localhost:8080/"
        },
        "id": "pTARG0HtfHXL",
        "outputId": "710b8a87-148e-47c0-8d8e-0668b9fda55d"
      },
      "source": [
        "stationHXD_data.info()"
      ],
      "id": "pTARG0HtfHXL",
      "execution_count": null,
      "outputs": [
        {
          "output_type": "stream",
          "name": "stdout",
          "text": [
            "<class 'pandas.core.frame.DataFrame'>\n",
            "RangeIndex: 135944 entries, 0 to 135943\n",
            "Data columns (total 14 columns):\n",
            " #   Column    Non-Null Count   Dtype  \n",
            "---  ------    --------------   -----  \n",
            " 0   station   135944 non-null  object \n",
            " 1   valid     135944 non-null  object \n",
            " 2   tmpc      134699 non-null  float64\n",
            " 3   dwpc      134647 non-null  float64\n",
            " 4   relh      133674 non-null  float64\n",
            " 5   feel      130683 non-null  float64\n",
            " 6   drct      125708 non-null  float64\n",
            " 7   sped      134429 non-null  float64\n",
            " 8   mslp      0 non-null       float64\n",
            " 9   p01i      135944 non-null  object \n",
            " 10  gust_mph  23520 non-null   float64\n",
            " 11  skyc1     134623 non-null  object \n",
            " 12  skyc2     23410 non-null   object \n",
            " 13  skyl1     62189 non-null   float64\n",
            "dtypes: float64(9), object(5)\n",
            "memory usage: 14.5+ MB\n"
          ]
        }
      ]
    },
    {
      "cell_type": "code",
      "metadata": {
        "colab": {
          "base_uri": "https://localhost:8080/",
          "height": 295
        },
        "id": "nmGFle7_fHNf",
        "outputId": "825f4070-a204-49cc-f279-6936d1b08541"
      },
      "source": [
        "stationHXD_data.describe()"
      ],
      "id": "nmGFle7_fHNf",
      "execution_count": null,
      "outputs": [
        {
          "output_type": "execute_result",
          "data": {
            "text/html": [
              "<div>\n",
              "<style scoped>\n",
              "    .dataframe tbody tr th:only-of-type {\n",
              "        vertical-align: middle;\n",
              "    }\n",
              "\n",
              "    .dataframe tbody tr th {\n",
              "        vertical-align: top;\n",
              "    }\n",
              "\n",
              "    .dataframe thead th {\n",
              "        text-align: right;\n",
              "    }\n",
              "</style>\n",
              "<table border=\"1\" class=\"dataframe\">\n",
              "  <thead>\n",
              "    <tr style=\"text-align: right;\">\n",
              "      <th></th>\n",
              "      <th>tmpc</th>\n",
              "      <th>dwpc</th>\n",
              "      <th>relh</th>\n",
              "      <th>feel</th>\n",
              "      <th>drct</th>\n",
              "      <th>sped</th>\n",
              "      <th>mslp</th>\n",
              "      <th>gust_mph</th>\n",
              "      <th>skyl1</th>\n",
              "    </tr>\n",
              "  </thead>\n",
              "  <tbody>\n",
              "    <tr>\n",
              "      <th>count</th>\n",
              "      <td>134699.000000</td>\n",
              "      <td>134647.000000</td>\n",
              "      <td>133674.000000</td>\n",
              "      <td>130683.000000</td>\n",
              "      <td>125708.000000</td>\n",
              "      <td>134429.000000</td>\n",
              "      <td>0.0</td>\n",
              "      <td>23520.000000</td>\n",
              "      <td>62189.000000</td>\n",
              "    </tr>\n",
              "    <tr>\n",
              "      <th>mean</th>\n",
              "      <td>19.399602</td>\n",
              "      <td>15.627404</td>\n",
              "      <td>80.810795</td>\n",
              "      <td>68.238138</td>\n",
              "      <td>135.170459</td>\n",
              "      <td>6.093709</td>\n",
              "      <td>NaN</td>\n",
              "      <td>19.263971</td>\n",
              "      <td>3338.989210</td>\n",
              "    </tr>\n",
              "    <tr>\n",
              "      <th>std</th>\n",
              "      <td>7.461715</td>\n",
              "      <td>8.446663</td>\n",
              "      <td>16.418637</td>\n",
              "      <td>16.425940</td>\n",
              "      <td>119.891639</td>\n",
              "      <td>5.074004</td>\n",
              "      <td>NaN</td>\n",
              "      <td>5.839471</td>\n",
              "      <td>3950.926284</td>\n",
              "    </tr>\n",
              "    <tr>\n",
              "      <th>min</th>\n",
              "      <td>-7.000000</td>\n",
              "      <td>-62.000000</td>\n",
              "      <td>1.040000</td>\n",
              "      <td>7.170000</td>\n",
              "      <td>0.000000</td>\n",
              "      <td>0.000000</td>\n",
              "      <td>NaN</td>\n",
              "      <td>11.500000</td>\n",
              "      <td>0.000000</td>\n",
              "    </tr>\n",
              "    <tr>\n",
              "      <th>25%</th>\n",
              "      <td>14.000000</td>\n",
              "      <td>10.000000</td>\n",
              "      <td>71.830000</td>\n",
              "      <td>57.200000</td>\n",
              "      <td>10.000000</td>\n",
              "      <td>3.450000</td>\n",
              "      <td>NaN</td>\n",
              "      <td>16.100000</td>\n",
              "      <td>1100.000000</td>\n",
              "    </tr>\n",
              "    <tr>\n",
              "      <th>50%</th>\n",
              "      <td>21.000000</td>\n",
              "      <td>18.000000</td>\n",
              "      <td>83.660000</td>\n",
              "      <td>69.800000</td>\n",
              "      <td>150.000000</td>\n",
              "      <td>5.750000</td>\n",
              "      <td>NaN</td>\n",
              "      <td>18.400000</td>\n",
              "      <td>2200.000000</td>\n",
              "    </tr>\n",
              "    <tr>\n",
              "      <th>75%</th>\n",
              "      <td>25.000000</td>\n",
              "      <td>23.000000</td>\n",
              "      <td>93.880000</td>\n",
              "      <td>78.800000</td>\n",
              "      <td>220.000000</td>\n",
              "      <td>9.200000</td>\n",
              "      <td>NaN</td>\n",
              "      <td>21.850000</td>\n",
              "      <td>4000.000000</td>\n",
              "    </tr>\n",
              "    <tr>\n",
              "      <th>max</th>\n",
              "      <td>52.000000</td>\n",
              "      <td>37.000000</td>\n",
              "      <td>100.000000</td>\n",
              "      <td>185.240000</td>\n",
              "      <td>360.000000</td>\n",
              "      <td>468.050000</td>\n",
              "      <td>NaN</td>\n",
              "      <td>217.350000</td>\n",
              "      <td>105500.000000</td>\n",
              "    </tr>\n",
              "  </tbody>\n",
              "</table>\n",
              "</div>"
            ],
            "text/plain": [
              "                tmpc           dwpc  ...      gust_mph          skyl1\n",
              "count  134699.000000  134647.000000  ...  23520.000000   62189.000000\n",
              "mean       19.399602      15.627404  ...     19.263971    3338.989210\n",
              "std         7.461715       8.446663  ...      5.839471    3950.926284\n",
              "min        -7.000000     -62.000000  ...     11.500000       0.000000\n",
              "25%        14.000000      10.000000  ...     16.100000    1100.000000\n",
              "50%        21.000000      18.000000  ...     18.400000    2200.000000\n",
              "75%        25.000000      23.000000  ...     21.850000    4000.000000\n",
              "max        52.000000      37.000000  ...    217.350000  105500.000000\n",
              "\n",
              "[8 rows x 9 columns]"
            ]
          },
          "metadata": {},
          "execution_count": 17
        }
      ]
    },
    {
      "cell_type": "code",
      "metadata": {
        "colab": {
          "base_uri": "https://localhost:8080/"
        },
        "id": "iHqp8Ibpl1qn",
        "outputId": "f3d6b2b7-175a-49eb-8b5b-def7544aafbc"
      },
      "source": [
        "stationSUT_data.info()"
      ],
      "id": "iHqp8Ibpl1qn",
      "execution_count": null,
      "outputs": [
        {
          "output_type": "stream",
          "name": "stdout",
          "text": [
            "<class 'pandas.core.frame.DataFrame'>\n",
            "RangeIndex: 224922 entries, 0 to 224921\n",
            "Data columns (total 13 columns):\n",
            " #   Column    Non-Null Count   Dtype  \n",
            "---  ------    --------------   -----  \n",
            " 0   station   224922 non-null  object \n",
            " 1   valid     224922 non-null  object \n",
            " 2   tmpc      224403 non-null  float64\n",
            " 3   dwpc      224403 non-null  float64\n",
            " 4   relh      224258 non-null  float64\n",
            " 5   feel      219509 non-null  float64\n",
            " 6   drct      224895 non-null  float64\n",
            " 7   sped      224895 non-null  float64\n",
            " 8   p01i      224922 non-null  float64\n",
            " 9   gust_mph  40505 non-null   float64\n",
            " 10  skyc1     221449 non-null  object \n",
            " 11  skyc2     44803 non-null   object \n",
            " 12  skyl1     90100 non-null   float64\n",
            "dtypes: float64(9), object(4)\n",
            "memory usage: 22.3+ MB\n"
          ]
        }
      ]
    },
    {
      "cell_type": "code",
      "metadata": {
        "id": "vSvE2Y82fG7u"
      },
      "source": [
        "stationHXD_data.valid = pd.to_datetime(stationHXD_data.valid)\n",
        "stationSUT_data.valid = pd.to_datetime(stationSUT_data.valid)"
      ],
      "id": "vSvE2Y82fG7u",
      "execution_count": null,
      "outputs": []
    },
    {
      "cell_type": "code",
      "metadata": {
        "colab": {
          "base_uri": "https://localhost:8080/",
          "height": 357
        },
        "id": "y7n1_27ymMPS",
        "outputId": "c41acebb-0ea0-4ac5-e706-c9cad9fad3fe"
      },
      "source": [
        "stationSUT_data.head(10)"
      ],
      "id": "y7n1_27ymMPS",
      "execution_count": null,
      "outputs": [
        {
          "output_type": "execute_result",
          "data": {
            "text/html": [
              "<div>\n",
              "<style scoped>\n",
              "    .dataframe tbody tr th:only-of-type {\n",
              "        vertical-align: middle;\n",
              "    }\n",
              "\n",
              "    .dataframe tbody tr th {\n",
              "        vertical-align: top;\n",
              "    }\n",
              "\n",
              "    .dataframe thead th {\n",
              "        text-align: right;\n",
              "    }\n",
              "</style>\n",
              "<table border=\"1\" class=\"dataframe\">\n",
              "  <thead>\n",
              "    <tr style=\"text-align: right;\">\n",
              "      <th></th>\n",
              "      <th>station</th>\n",
              "      <th>valid</th>\n",
              "      <th>tmpc</th>\n",
              "      <th>dwpc</th>\n",
              "      <th>relh</th>\n",
              "      <th>feel</th>\n",
              "      <th>drct</th>\n",
              "      <th>sped</th>\n",
              "      <th>p01i</th>\n",
              "      <th>gust_mph</th>\n",
              "      <th>skyc1</th>\n",
              "      <th>skyc2</th>\n",
              "      <th>skyl1</th>\n",
              "    </tr>\n",
              "  </thead>\n",
              "  <tbody>\n",
              "    <tr>\n",
              "      <th>0</th>\n",
              "      <td>SUT</td>\n",
              "      <td>2013-01-01 00:15:00</td>\n",
              "      <td>5.0</td>\n",
              "      <td>2.7</td>\n",
              "      <td>85.07</td>\n",
              "      <td>41.00</td>\n",
              "      <td>0.0</td>\n",
              "      <td>0.00</td>\n",
              "      <td>0.0</td>\n",
              "      <td>NaN</td>\n",
              "      <td>SCT</td>\n",
              "      <td>SCT</td>\n",
              "      <td>4000.0</td>\n",
              "    </tr>\n",
              "    <tr>\n",
              "      <th>1</th>\n",
              "      <td>SUT</td>\n",
              "      <td>2013-01-01 00:35:00</td>\n",
              "      <td>4.6</td>\n",
              "      <td>2.8</td>\n",
              "      <td>88.10</td>\n",
              "      <td>40.28</td>\n",
              "      <td>0.0</td>\n",
              "      <td>0.00</td>\n",
              "      <td>0.0</td>\n",
              "      <td>NaN</td>\n",
              "      <td>SCT</td>\n",
              "      <td>NaN</td>\n",
              "      <td>4700.0</td>\n",
              "    </tr>\n",
              "    <tr>\n",
              "      <th>2</th>\n",
              "      <td>SUT</td>\n",
              "      <td>2013-01-01 00:55:00</td>\n",
              "      <td>4.7</td>\n",
              "      <td>2.7</td>\n",
              "      <td>86.86</td>\n",
              "      <td>40.46</td>\n",
              "      <td>0.0</td>\n",
              "      <td>0.00</td>\n",
              "      <td>0.0</td>\n",
              "      <td>NaN</td>\n",
              "      <td>SCT</td>\n",
              "      <td>SCT</td>\n",
              "      <td>3900.0</td>\n",
              "    </tr>\n",
              "    <tr>\n",
              "      <th>3</th>\n",
              "      <td>SUT</td>\n",
              "      <td>2013-01-01 01:15:00</td>\n",
              "      <td>4.9</td>\n",
              "      <td>3.2</td>\n",
              "      <td>88.75</td>\n",
              "      <td>40.82</td>\n",
              "      <td>0.0</td>\n",
              "      <td>0.00</td>\n",
              "      <td>0.0</td>\n",
              "      <td>NaN</td>\n",
              "      <td>CLR</td>\n",
              "      <td>NaN</td>\n",
              "      <td>NaN</td>\n",
              "    </tr>\n",
              "    <tr>\n",
              "      <th>4</th>\n",
              "      <td>SUT</td>\n",
              "      <td>2013-01-01 01:35:00</td>\n",
              "      <td>5.8</td>\n",
              "      <td>3.6</td>\n",
              "      <td>85.76</td>\n",
              "      <td>42.44</td>\n",
              "      <td>0.0</td>\n",
              "      <td>0.00</td>\n",
              "      <td>0.0</td>\n",
              "      <td>NaN</td>\n",
              "      <td>CLR</td>\n",
              "      <td>NaN</td>\n",
              "      <td>NaN</td>\n",
              "    </tr>\n",
              "    <tr>\n",
              "      <th>5</th>\n",
              "      <td>SUT</td>\n",
              "      <td>2013-01-01 01:55:00</td>\n",
              "      <td>6.5</td>\n",
              "      <td>4.1</td>\n",
              "      <td>84.63</td>\n",
              "      <td>43.70</td>\n",
              "      <td>0.0</td>\n",
              "      <td>0.00</td>\n",
              "      <td>0.0</td>\n",
              "      <td>NaN</td>\n",
              "      <td>SCT</td>\n",
              "      <td>NaN</td>\n",
              "      <td>11000.0</td>\n",
              "    </tr>\n",
              "    <tr>\n",
              "      <th>6</th>\n",
              "      <td>SUT</td>\n",
              "      <td>2013-01-01 02:15:00</td>\n",
              "      <td>7.6</td>\n",
              "      <td>5.6</td>\n",
              "      <td>87.15</td>\n",
              "      <td>44.33</td>\n",
              "      <td>210.0</td>\n",
              "      <td>3.45</td>\n",
              "      <td>0.0</td>\n",
              "      <td>NaN</td>\n",
              "      <td>SCT</td>\n",
              "      <td>NaN</td>\n",
              "      <td>11000.0</td>\n",
              "    </tr>\n",
              "    <tr>\n",
              "      <th>7</th>\n",
              "      <td>SUT</td>\n",
              "      <td>2013-01-01 02:35:00</td>\n",
              "      <td>9.5</td>\n",
              "      <td>6.6</td>\n",
              "      <td>82.10</td>\n",
              "      <td>47.39</td>\n",
              "      <td>230.0</td>\n",
              "      <td>4.60</td>\n",
              "      <td>0.0</td>\n",
              "      <td>NaN</td>\n",
              "      <td>SCT</td>\n",
              "      <td>NaN</td>\n",
              "      <td>10000.0</td>\n",
              "    </tr>\n",
              "    <tr>\n",
              "      <th>8</th>\n",
              "      <td>SUT</td>\n",
              "      <td>2013-01-01 02:55:00</td>\n",
              "      <td>10.1</td>\n",
              "      <td>7.4</td>\n",
              "      <td>83.31</td>\n",
              "      <td>50.18</td>\n",
              "      <td>230.0</td>\n",
              "      <td>5.75</td>\n",
              "      <td>0.0</td>\n",
              "      <td>NaN</td>\n",
              "      <td>SCT</td>\n",
              "      <td>NaN</td>\n",
              "      <td>10000.0</td>\n",
              "    </tr>\n",
              "    <tr>\n",
              "      <th>9</th>\n",
              "      <td>SUT</td>\n",
              "      <td>2013-01-01 03:15:00</td>\n",
              "      <td>10.5</td>\n",
              "      <td>7.8</td>\n",
              "      <td>83.36</td>\n",
              "      <td>50.90</td>\n",
              "      <td>220.0</td>\n",
              "      <td>5.75</td>\n",
              "      <td>0.0</td>\n",
              "      <td>NaN</td>\n",
              "      <td>SCT</td>\n",
              "      <td>NaN</td>\n",
              "      <td>10000.0</td>\n",
              "    </tr>\n",
              "  </tbody>\n",
              "</table>\n",
              "</div>"
            ],
            "text/plain": [
              "  station               valid  tmpc  dwpc  ...  gust_mph  skyc1  skyc2    skyl1\n",
              "0     SUT 2013-01-01 00:15:00   5.0   2.7  ...       NaN    SCT    SCT   4000.0\n",
              "1     SUT 2013-01-01 00:35:00   4.6   2.8  ...       NaN    SCT    NaN   4700.0\n",
              "2     SUT 2013-01-01 00:55:00   4.7   2.7  ...       NaN    SCT    SCT   3900.0\n",
              "3     SUT 2013-01-01 01:15:00   4.9   3.2  ...       NaN    CLR    NaN      NaN\n",
              "4     SUT 2013-01-01 01:35:00   5.8   3.6  ...       NaN    CLR    NaN      NaN\n",
              "5     SUT 2013-01-01 01:55:00   6.5   4.1  ...       NaN    SCT    NaN  11000.0\n",
              "6     SUT 2013-01-01 02:15:00   7.6   5.6  ...       NaN    SCT    NaN  11000.0\n",
              "7     SUT 2013-01-01 02:35:00   9.5   6.6  ...       NaN    SCT    NaN  10000.0\n",
              "8     SUT 2013-01-01 02:55:00  10.1   7.4  ...       NaN    SCT    NaN  10000.0\n",
              "9     SUT 2013-01-01 03:15:00  10.5   7.8  ...       NaN    SCT    NaN  10000.0\n",
              "\n",
              "[10 rows x 13 columns]"
            ]
          },
          "metadata": {},
          "execution_count": 32
        }
      ]
    },
    {
      "cell_type": "code",
      "metadata": {
        "colab": {
          "base_uri": "https://localhost:8080/"
        },
        "id": "Csdzoqt3lyIL",
        "outputId": "9e6d3297-5182-4e3a-963b-8dad33557ef6"
      },
      "source": [
        "stationSUT_data.dtypes"
      ],
      "id": "Csdzoqt3lyIL",
      "execution_count": null,
      "outputs": [
        {
          "output_type": "execute_result",
          "data": {
            "text/plain": [
              "station             object\n",
              "valid       datetime64[ns]\n",
              "tmpc               float64\n",
              "dwpc               float64\n",
              "relh               float64\n",
              "feel               float64\n",
              "drct               float64\n",
              "sped               float64\n",
              "p01i               float64\n",
              "gust_mph           float64\n",
              "skyc1               object\n",
              "skyc2               object\n",
              "skyl1              float64\n",
              "dtype: object"
            ]
          },
          "metadata": {},
          "execution_count": 31
        }
      ]
    },
    {
      "cell_type": "markdown",
      "metadata": {
        "id": "5Y7d4JHqn2Am"
      },
      "source": [
        "Preprocessing"
      ],
      "id": "5Y7d4JHqn2Am"
    },
    {
      "cell_type": "code",
      "metadata": {
        "colab": {
          "base_uri": "https://localhost:8080/"
        },
        "id": "Z0_UWm_Fn6-_",
        "outputId": "f9780943-d02f-4b88-8a4d-7afe114c3995"
      },
      "source": [
        "#Dropping column with all null values\n",
        "stationHXD_data = stationHXD_data.drop(labels = \"mslp\", axis = 1)\n",
        "stationHXD_data.info()"
      ],
      "id": "Z0_UWm_Fn6-_",
      "execution_count": null,
      "outputs": [
        {
          "output_type": "stream",
          "name": "stdout",
          "text": [
            "<class 'pandas.core.frame.DataFrame'>\n",
            "RangeIndex: 135944 entries, 0 to 135943\n",
            "Data columns (total 13 columns):\n",
            " #   Column    Non-Null Count   Dtype         \n",
            "---  ------    --------------   -----         \n",
            " 0   station   135944 non-null  object        \n",
            " 1   valid     135944 non-null  datetime64[ns]\n",
            " 2   tmpc      134699 non-null  float64       \n",
            " 3   dwpc      134647 non-null  float64       \n",
            " 4   relh      133674 non-null  float64       \n",
            " 5   feel      130683 non-null  float64       \n",
            " 6   drct      125708 non-null  float64       \n",
            " 7   sped      134429 non-null  float64       \n",
            " 8   p01i      135944 non-null  object        \n",
            " 9   gust_mph  23520 non-null   float64       \n",
            " 10  skyc1     134623 non-null  object        \n",
            " 11  skyc2     23410 non-null   object        \n",
            " 12  skyl1     62189 non-null   float64       \n",
            "dtypes: datetime64[ns](1), float64(8), object(4)\n",
            "memory usage: 13.5+ MB\n"
          ]
        }
      ]
    },
    {
      "cell_type": "code",
      "metadata": {
        "colab": {
          "base_uri": "https://localhost:8080/"
        },
        "id": "OHqet1ken07M",
        "outputId": "d147cb6d-8cd2-403b-853b-8cbf5344bbe3"
      },
      "source": [
        "stationHXD_data.isnull().sum()\n",
        "\n",
        "proportion = stationHXD_data.isnull().sum()/len(stationHXD_data.index)\n",
        "pct = round(proportion*100, 3)\n",
        "print(pct)"
      ],
      "id": "OHqet1ken07M",
      "execution_count": null,
      "outputs": [
        {
          "output_type": "stream",
          "name": "stdout",
          "text": [
            "station      0.000\n",
            "valid        0.000\n",
            "tmpc         0.916\n",
            "dwpc         0.954\n",
            "relh         1.670\n",
            "feel         3.870\n",
            "drct         7.530\n",
            "sped         1.114\n",
            "p01i         0.000\n",
            "gust_mph    82.699\n",
            "skyc1        0.972\n",
            "skyc2       82.780\n",
            "skyl1       54.254\n",
            "dtype: float64\n"
          ]
        }
      ]
    },
    {
      "cell_type": "code",
      "metadata": {
        "colab": {
          "base_uri": "https://localhost:8080/",
          "height": 354
        },
        "id": "aCj6uW4zp-te",
        "outputId": "d086b8e9-086c-4b52-b9e2-ed390b786b0a"
      },
      "source": [
        "#Drop the variables with na's over 50% of the data\n",
        "stationHXD_data = stationHXD_data.drop(labels = [\"gust_mph\", \"skyc2\", \"skyl1\"], axis = 1)\n",
        "\n",
        "stationHXD_data.head()"
      ],
      "id": "aCj6uW4zp-te",
      "execution_count": null,
      "outputs": [
        {
          "output_type": "error",
          "ename": "KeyError",
          "evalue": "ignored",
          "traceback": [
            "\u001b[0;31m---------------------------------------------------------------------------\u001b[0m",
            "\u001b[0;31mKeyError\u001b[0m                                  Traceback (most recent call last)",
            "\u001b[0;32m<ipython-input-49-5718cd688ce7>\u001b[0m in \u001b[0;36m<module>\u001b[0;34m()\u001b[0m\n\u001b[1;32m      1\u001b[0m \u001b[0;31m#Drop the variables with na's over 50% of the data\u001b[0m\u001b[0;34m\u001b[0m\u001b[0;34m\u001b[0m\u001b[0;34m\u001b[0m\u001b[0m\n\u001b[0;32m----> 2\u001b[0;31m \u001b[0mstationHXD_data\u001b[0m \u001b[0;34m=\u001b[0m \u001b[0mstationHXD_data\u001b[0m\u001b[0;34m.\u001b[0m\u001b[0mdrop\u001b[0m\u001b[0;34m(\u001b[0m\u001b[0mlabels\u001b[0m \u001b[0;34m=\u001b[0m \u001b[0;34m[\u001b[0m\u001b[0;34m\"gust_mph\"\u001b[0m\u001b[0;34m,\u001b[0m \u001b[0;34m\"skyc2\"\u001b[0m\u001b[0;34m,\u001b[0m \u001b[0;34m\"skyl1\"\u001b[0m\u001b[0;34m]\u001b[0m\u001b[0;34m,\u001b[0m \u001b[0maxis\u001b[0m \u001b[0;34m=\u001b[0m \u001b[0;36m1\u001b[0m\u001b[0;34m)\u001b[0m\u001b[0;34m\u001b[0m\u001b[0;34m\u001b[0m\u001b[0m\n\u001b[0m\u001b[1;32m      3\u001b[0m \u001b[0;34m\u001b[0m\u001b[0m\n\u001b[1;32m      4\u001b[0m \u001b[0mstationHXD_data\u001b[0m\u001b[0;34m.\u001b[0m\u001b[0mhead\u001b[0m\u001b[0;34m(\u001b[0m\u001b[0;34m)\u001b[0m\u001b[0;34m\u001b[0m\u001b[0;34m\u001b[0m\u001b[0m\n",
            "\u001b[0;32m/usr/local/lib/python3.7/dist-packages/pandas/core/frame.py\u001b[0m in \u001b[0;36mdrop\u001b[0;34m(self, labels, axis, index, columns, level, inplace, errors)\u001b[0m\n\u001b[1;32m   4172\u001b[0m             \u001b[0mlevel\u001b[0m\u001b[0;34m=\u001b[0m\u001b[0mlevel\u001b[0m\u001b[0;34m,\u001b[0m\u001b[0;34m\u001b[0m\u001b[0;34m\u001b[0m\u001b[0m\n\u001b[1;32m   4173\u001b[0m             \u001b[0minplace\u001b[0m\u001b[0;34m=\u001b[0m\u001b[0minplace\u001b[0m\u001b[0;34m,\u001b[0m\u001b[0;34m\u001b[0m\u001b[0;34m\u001b[0m\u001b[0m\n\u001b[0;32m-> 4174\u001b[0;31m             \u001b[0merrors\u001b[0m\u001b[0;34m=\u001b[0m\u001b[0merrors\u001b[0m\u001b[0;34m,\u001b[0m\u001b[0;34m\u001b[0m\u001b[0;34m\u001b[0m\u001b[0m\n\u001b[0m\u001b[1;32m   4175\u001b[0m         )\n\u001b[1;32m   4176\u001b[0m \u001b[0;34m\u001b[0m\u001b[0m\n",
            "\u001b[0;32m/usr/local/lib/python3.7/dist-packages/pandas/core/generic.py\u001b[0m in \u001b[0;36mdrop\u001b[0;34m(self, labels, axis, index, columns, level, inplace, errors)\u001b[0m\n\u001b[1;32m   3887\u001b[0m         \u001b[0;32mfor\u001b[0m \u001b[0maxis\u001b[0m\u001b[0;34m,\u001b[0m \u001b[0mlabels\u001b[0m \u001b[0;32min\u001b[0m \u001b[0maxes\u001b[0m\u001b[0;34m.\u001b[0m\u001b[0mitems\u001b[0m\u001b[0;34m(\u001b[0m\u001b[0;34m)\u001b[0m\u001b[0;34m:\u001b[0m\u001b[0;34m\u001b[0m\u001b[0;34m\u001b[0m\u001b[0m\n\u001b[1;32m   3888\u001b[0m             \u001b[0;32mif\u001b[0m \u001b[0mlabels\u001b[0m \u001b[0;32mis\u001b[0m \u001b[0;32mnot\u001b[0m \u001b[0;32mNone\u001b[0m\u001b[0;34m:\u001b[0m\u001b[0;34m\u001b[0m\u001b[0;34m\u001b[0m\u001b[0m\n\u001b[0;32m-> 3889\u001b[0;31m                 \u001b[0mobj\u001b[0m \u001b[0;34m=\u001b[0m \u001b[0mobj\u001b[0m\u001b[0;34m.\u001b[0m\u001b[0m_drop_axis\u001b[0m\u001b[0;34m(\u001b[0m\u001b[0mlabels\u001b[0m\u001b[0;34m,\u001b[0m \u001b[0maxis\u001b[0m\u001b[0;34m,\u001b[0m \u001b[0mlevel\u001b[0m\u001b[0;34m=\u001b[0m\u001b[0mlevel\u001b[0m\u001b[0;34m,\u001b[0m \u001b[0merrors\u001b[0m\u001b[0;34m=\u001b[0m\u001b[0merrors\u001b[0m\u001b[0;34m)\u001b[0m\u001b[0;34m\u001b[0m\u001b[0;34m\u001b[0m\u001b[0m\n\u001b[0m\u001b[1;32m   3890\u001b[0m \u001b[0;34m\u001b[0m\u001b[0m\n\u001b[1;32m   3891\u001b[0m         \u001b[0;32mif\u001b[0m \u001b[0minplace\u001b[0m\u001b[0;34m:\u001b[0m\u001b[0;34m\u001b[0m\u001b[0;34m\u001b[0m\u001b[0m\n",
            "\u001b[0;32m/usr/local/lib/python3.7/dist-packages/pandas/core/generic.py\u001b[0m in \u001b[0;36m_drop_axis\u001b[0;34m(self, labels, axis, level, errors)\u001b[0m\n\u001b[1;32m   3921\u001b[0m                 \u001b[0mnew_axis\u001b[0m \u001b[0;34m=\u001b[0m \u001b[0maxis\u001b[0m\u001b[0;34m.\u001b[0m\u001b[0mdrop\u001b[0m\u001b[0;34m(\u001b[0m\u001b[0mlabels\u001b[0m\u001b[0;34m,\u001b[0m \u001b[0mlevel\u001b[0m\u001b[0;34m=\u001b[0m\u001b[0mlevel\u001b[0m\u001b[0;34m,\u001b[0m \u001b[0merrors\u001b[0m\u001b[0;34m=\u001b[0m\u001b[0merrors\u001b[0m\u001b[0;34m)\u001b[0m\u001b[0;34m\u001b[0m\u001b[0;34m\u001b[0m\u001b[0m\n\u001b[1;32m   3922\u001b[0m             \u001b[0;32melse\u001b[0m\u001b[0;34m:\u001b[0m\u001b[0;34m\u001b[0m\u001b[0;34m\u001b[0m\u001b[0m\n\u001b[0;32m-> 3923\u001b[0;31m                 \u001b[0mnew_axis\u001b[0m \u001b[0;34m=\u001b[0m \u001b[0maxis\u001b[0m\u001b[0;34m.\u001b[0m\u001b[0mdrop\u001b[0m\u001b[0;34m(\u001b[0m\u001b[0mlabels\u001b[0m\u001b[0;34m,\u001b[0m \u001b[0merrors\u001b[0m\u001b[0;34m=\u001b[0m\u001b[0merrors\u001b[0m\u001b[0;34m)\u001b[0m\u001b[0;34m\u001b[0m\u001b[0;34m\u001b[0m\u001b[0m\n\u001b[0m\u001b[1;32m   3924\u001b[0m             \u001b[0mresult\u001b[0m \u001b[0;34m=\u001b[0m \u001b[0mself\u001b[0m\u001b[0;34m.\u001b[0m\u001b[0mreindex\u001b[0m\u001b[0;34m(\u001b[0m\u001b[0;34m**\u001b[0m\u001b[0;34m{\u001b[0m\u001b[0maxis_name\u001b[0m\u001b[0;34m:\u001b[0m \u001b[0mnew_axis\u001b[0m\u001b[0;34m}\u001b[0m\u001b[0;34m)\u001b[0m\u001b[0;34m\u001b[0m\u001b[0;34m\u001b[0m\u001b[0m\n\u001b[1;32m   3925\u001b[0m \u001b[0;34m\u001b[0m\u001b[0m\n",
            "\u001b[0;32m/usr/local/lib/python3.7/dist-packages/pandas/core/indexes/base.py\u001b[0m in \u001b[0;36mdrop\u001b[0;34m(self, labels, errors)\u001b[0m\n\u001b[1;32m   5285\u001b[0m         \u001b[0;32mif\u001b[0m \u001b[0mmask\u001b[0m\u001b[0;34m.\u001b[0m\u001b[0many\u001b[0m\u001b[0;34m(\u001b[0m\u001b[0;34m)\u001b[0m\u001b[0;34m:\u001b[0m\u001b[0;34m\u001b[0m\u001b[0;34m\u001b[0m\u001b[0m\n\u001b[1;32m   5286\u001b[0m             \u001b[0;32mif\u001b[0m \u001b[0merrors\u001b[0m \u001b[0;34m!=\u001b[0m \u001b[0;34m\"ignore\"\u001b[0m\u001b[0;34m:\u001b[0m\u001b[0;34m\u001b[0m\u001b[0;34m\u001b[0m\u001b[0m\n\u001b[0;32m-> 5287\u001b[0;31m                 \u001b[0;32mraise\u001b[0m \u001b[0mKeyError\u001b[0m\u001b[0;34m(\u001b[0m\u001b[0;34mf\"{labels[mask]} not found in axis\"\u001b[0m\u001b[0;34m)\u001b[0m\u001b[0;34m\u001b[0m\u001b[0;34m\u001b[0m\u001b[0m\n\u001b[0m\u001b[1;32m   5288\u001b[0m             \u001b[0mindexer\u001b[0m \u001b[0;34m=\u001b[0m \u001b[0mindexer\u001b[0m\u001b[0;34m[\u001b[0m\u001b[0;34m~\u001b[0m\u001b[0mmask\u001b[0m\u001b[0;34m]\u001b[0m\u001b[0;34m\u001b[0m\u001b[0;34m\u001b[0m\u001b[0m\n\u001b[1;32m   5289\u001b[0m         \u001b[0;32mreturn\u001b[0m \u001b[0mself\u001b[0m\u001b[0;34m.\u001b[0m\u001b[0mdelete\u001b[0m\u001b[0;34m(\u001b[0m\u001b[0mindexer\u001b[0m\u001b[0;34m)\u001b[0m\u001b[0;34m\u001b[0m\u001b[0;34m\u001b[0m\u001b[0m\n",
            "\u001b[0;31mKeyError\u001b[0m: \"['gust_mph' 'skyc2' 'skyl1'] not found in axis\""
          ]
        }
      ]
    },
    {
      "cell_type": "code",
      "metadata": {
        "colab": {
          "base_uri": "https://localhost:8080/"
        },
        "id": "hHyhOEmaog6s",
        "outputId": "a5e11166-db46-4465-f0e5-75227d8580f3"
      },
      "source": [
        "stationSUT_data.isnull().sum()"
      ],
      "id": "hHyhOEmaog6s",
      "execution_count": null,
      "outputs": [
        {
          "output_type": "execute_result",
          "data": {
            "text/plain": [
              "station          0\n",
              "valid            0\n",
              "tmpc           519\n",
              "dwpc           519\n",
              "relh           664\n",
              "feel          5413\n",
              "drct            27\n",
              "sped            27\n",
              "p01i             0\n",
              "gust_mph    184417\n",
              "skyc1         3473\n",
              "skyc2       180119\n",
              "skyl1       134822\n",
              "dtype: int64"
            ]
          },
          "metadata": {},
          "execution_count": 51
        }
      ]
    },
    {
      "cell_type": "code",
      "metadata": {
        "colab": {
          "base_uri": "https://localhost:8080/"
        },
        "id": "nIk4626gog3L",
        "outputId": "318df7d9-d5e9-4f92-8c9c-95972daadc71"
      },
      "source": [
        "proportion = stationSUT_data.isnull().sum()/len(stationSUT_data.index)\n",
        "pct = round(proportion*100, 3)\n",
        "print(pct)"
      ],
      "id": "nIk4626gog3L",
      "execution_count": null,
      "outputs": [
        {
          "output_type": "stream",
          "name": "stdout",
          "text": [
            "station      0.000\n",
            "valid        0.000\n",
            "tmpc         0.231\n",
            "dwpc         0.231\n",
            "relh         0.295\n",
            "feel         2.407\n",
            "drct         0.012\n",
            "sped         0.012\n",
            "p01i         0.000\n",
            "gust_mph    81.992\n",
            "skyc1        1.544\n",
            "skyc2       80.081\n",
            "skyl1       59.942\n",
            "dtype: float64\n"
          ]
        }
      ]
    },
    {
      "cell_type": "code",
      "metadata": {
        "colab": {
          "base_uri": "https://localhost:8080/",
          "height": 203
        },
        "id": "eIAocpJmogyo",
        "outputId": "df57551d-66c8-4127-f5ab-222df968afb8"
      },
      "source": [
        "#Drop variables with na's greater than 50% of the data\n",
        "stationSUT_data = stationSUT_data.drop(labels = [\"gust_mph\", \"skyc2\", \"skyl1\"], axis = 1)\n",
        "\n",
        "stationSUT_data.head()"
      ],
      "id": "eIAocpJmogyo",
      "execution_count": null,
      "outputs": [
        {
          "output_type": "execute_result",
          "data": {
            "text/html": [
              "<div>\n",
              "<style scoped>\n",
              "    .dataframe tbody tr th:only-of-type {\n",
              "        vertical-align: middle;\n",
              "    }\n",
              "\n",
              "    .dataframe tbody tr th {\n",
              "        vertical-align: top;\n",
              "    }\n",
              "\n",
              "    .dataframe thead th {\n",
              "        text-align: right;\n",
              "    }\n",
              "</style>\n",
              "<table border=\"1\" class=\"dataframe\">\n",
              "  <thead>\n",
              "    <tr style=\"text-align: right;\">\n",
              "      <th></th>\n",
              "      <th>station</th>\n",
              "      <th>valid</th>\n",
              "      <th>tmpc</th>\n",
              "      <th>dwpc</th>\n",
              "      <th>relh</th>\n",
              "      <th>feel</th>\n",
              "      <th>drct</th>\n",
              "      <th>sped</th>\n",
              "      <th>p01i</th>\n",
              "      <th>skyc1</th>\n",
              "    </tr>\n",
              "  </thead>\n",
              "  <tbody>\n",
              "    <tr>\n",
              "      <th>0</th>\n",
              "      <td>SUT</td>\n",
              "      <td>2013-01-01 00:15:00</td>\n",
              "      <td>5.0</td>\n",
              "      <td>2.7</td>\n",
              "      <td>85.07</td>\n",
              "      <td>41.00</td>\n",
              "      <td>0.0</td>\n",
              "      <td>0.0</td>\n",
              "      <td>0.0</td>\n",
              "      <td>SCT</td>\n",
              "    </tr>\n",
              "    <tr>\n",
              "      <th>1</th>\n",
              "      <td>SUT</td>\n",
              "      <td>2013-01-01 00:35:00</td>\n",
              "      <td>4.6</td>\n",
              "      <td>2.8</td>\n",
              "      <td>88.10</td>\n",
              "      <td>40.28</td>\n",
              "      <td>0.0</td>\n",
              "      <td>0.0</td>\n",
              "      <td>0.0</td>\n",
              "      <td>SCT</td>\n",
              "    </tr>\n",
              "    <tr>\n",
              "      <th>2</th>\n",
              "      <td>SUT</td>\n",
              "      <td>2013-01-01 00:55:00</td>\n",
              "      <td>4.7</td>\n",
              "      <td>2.7</td>\n",
              "      <td>86.86</td>\n",
              "      <td>40.46</td>\n",
              "      <td>0.0</td>\n",
              "      <td>0.0</td>\n",
              "      <td>0.0</td>\n",
              "      <td>SCT</td>\n",
              "    </tr>\n",
              "    <tr>\n",
              "      <th>3</th>\n",
              "      <td>SUT</td>\n",
              "      <td>2013-01-01 01:15:00</td>\n",
              "      <td>4.9</td>\n",
              "      <td>3.2</td>\n",
              "      <td>88.75</td>\n",
              "      <td>40.82</td>\n",
              "      <td>0.0</td>\n",
              "      <td>0.0</td>\n",
              "      <td>0.0</td>\n",
              "      <td>CLR</td>\n",
              "    </tr>\n",
              "    <tr>\n",
              "      <th>4</th>\n",
              "      <td>SUT</td>\n",
              "      <td>2013-01-01 01:35:00</td>\n",
              "      <td>5.8</td>\n",
              "      <td>3.6</td>\n",
              "      <td>85.76</td>\n",
              "      <td>42.44</td>\n",
              "      <td>0.0</td>\n",
              "      <td>0.0</td>\n",
              "      <td>0.0</td>\n",
              "      <td>CLR</td>\n",
              "    </tr>\n",
              "  </tbody>\n",
              "</table>\n",
              "</div>"
            ],
            "text/plain": [
              "  station               valid  tmpc  dwpc   relh   feel  drct  sped  p01i skyc1\n",
              "0     SUT 2013-01-01 00:15:00   5.0   2.7  85.07  41.00   0.0   0.0   0.0   SCT\n",
              "1     SUT 2013-01-01 00:35:00   4.6   2.8  88.10  40.28   0.0   0.0   0.0   SCT\n",
              "2     SUT 2013-01-01 00:55:00   4.7   2.7  86.86  40.46   0.0   0.0   0.0   SCT\n",
              "3     SUT 2013-01-01 01:15:00   4.9   3.2  88.75  40.82   0.0   0.0   0.0   CLR\n",
              "4     SUT 2013-01-01 01:35:00   5.8   3.6  85.76  42.44   0.0   0.0   0.0   CLR"
            ]
          },
          "metadata": {},
          "execution_count": 53
        }
      ]
    },
    {
      "cell_type": "code",
      "metadata": {
        "colab": {
          "base_uri": "https://localhost:8080/"
        },
        "id": "DfoIriGNogYg",
        "outputId": "3668c5a3-5590-44d6-9872-a448d0fcd43e"
      },
      "source": [
        "##Impute missing values of variables tmpc, dwpc, relh, feel, drct, and sped\n",
        "from sklearn.impute import SimpleImputer\n",
        "mean_imputer = SimpleImputer(strategy=\"mean\")\n",
        "stationHXD_data.loc[:,[\"tmpc\", \"dwpc\", \"relh\", \"feel\", \"drct\", \"sped\"]] = mean_imputer.fit_transform(stationHXD_data[[\"tmpc\", \"dwpc\", \"relh\", \"feel\", \"drct\", \"sped\"]])\n",
        "stationSUT_data.loc[:,[\"tmpc\", \"dwpc\", \"relh\", \"feel\", \"drct\", \"sped\"]] = mean_imputer.fit_transform(stationSUT_data[[\"tmpc\", \"dwpc\", \"relh\", \"feel\", \"drct\", \"sped\"]])\n",
        "stationHXD_data.info()\n",
        "\n"
      ],
      "id": "DfoIriGNogYg",
      "execution_count": null,
      "outputs": [
        {
          "output_type": "stream",
          "name": "stdout",
          "text": [
            "<class 'pandas.core.frame.DataFrame'>\n",
            "RangeIndex: 135944 entries, 0 to 135943\n",
            "Data columns (total 11 columns):\n",
            " #   Column   Non-Null Count   Dtype  \n",
            "---  ------   --------------   -----  \n",
            " 0   station  135944 non-null  object \n",
            " 1   tmpc     135944 non-null  float64\n",
            " 2   dwpc     135944 non-null  float64\n",
            " 3   relh     135944 non-null  float64\n",
            " 4   feel     135944 non-null  float64\n",
            " 5   drct     135944 non-null  float64\n",
            " 6   sped     135944 non-null  float64\n",
            " 7   p01i     135944 non-null  object \n",
            " 8   skyc1    134623 non-null  object \n",
            " 9   hour     135944 non-null  int64  \n",
            " 10  date     135944 non-null  object \n",
            "dtypes: float64(6), int64(1), object(4)\n",
            "memory usage: 11.4+ MB\n"
          ]
        }
      ]
    },
    {
      "cell_type": "code",
      "metadata": {
        "colab": {
          "base_uri": "https://localhost:8080/"
        },
        "id": "PDKJ4M8muRX8",
        "outputId": "97d5c447-dbf8-4a9e-a698-d4dd65035994"
      },
      "source": [
        "#Impute skyc1 using mode\n",
        "mode_imputer = SimpleImputer(strategy = \"most_frequent\")\n",
        "stationHXD_data.loc[:,[\"skyc1\"]] = mode_imputer.fit_transform(stationHXD_data[[\"skyc1\"]])\n",
        "stationSUT_data.loc[:,[\"skyc1\"]] = mode_imputer.fit_transform(stationSUT_data[[\"skyc1\"]])\n",
        "stationHXD_data.info()"
      ],
      "id": "PDKJ4M8muRX8",
      "execution_count": null,
      "outputs": [
        {
          "output_type": "stream",
          "name": "stdout",
          "text": [
            "<class 'pandas.core.frame.DataFrame'>\n",
            "RangeIndex: 135944 entries, 0 to 135943\n",
            "Data columns (total 11 columns):\n",
            " #   Column   Non-Null Count   Dtype  \n",
            "---  ------   --------------   -----  \n",
            " 0   station  135944 non-null  object \n",
            " 1   tmpc     135944 non-null  float64\n",
            " 2   dwpc     135944 non-null  float64\n",
            " 3   relh     135944 non-null  float64\n",
            " 4   feel     135944 non-null  float64\n",
            " 5   drct     135944 non-null  float64\n",
            " 6   sped     135944 non-null  float64\n",
            " 7   p01i     135944 non-null  object \n",
            " 8   skyc1    135944 non-null  object \n",
            " 9   hour     135944 non-null  int64  \n",
            " 10  date     135944 non-null  object \n",
            "dtypes: float64(6), int64(1), object(4)\n",
            "memory usage: 11.4+ MB\n"
          ]
        }
      ]
    },
    {
      "cell_type": "code",
      "metadata": {
        "colab": {
          "base_uri": "https://localhost:8080/",
          "height": 346
        },
        "id": "rH3LxcWlogqt",
        "outputId": "a1491b62-5f05-4ce1-90fa-ac8a714ca400"
      },
      "source": [
        "#Convert Datetime column to multiple columns\n",
        "stationHXD_data[\"hour\"] = stationHXD_data.valid.dt.hour\n",
        "stationSUT_data[\"hour\"] = stationSUT_data.valid.dt.hour\n",
        "\n",
        "stationHXD_data[\"date\"] = stationHXD_data.valid.dt.date\n",
        "stationSUT_data[\"date\"] = stationSUT_data.valid.dt.date\n",
        "\n",
        "stationHXD_data.head()\n",
        "stationSUT_data.head()"
      ],
      "id": "rH3LxcWlogqt",
      "execution_count": 92,
      "outputs": [
        {
          "output_type": "error",
          "ename": "AttributeError",
          "evalue": "ignored",
          "traceback": [
            "\u001b[0;31m---------------------------------------------------------------------------\u001b[0m",
            "\u001b[0;31mAttributeError\u001b[0m                            Traceback (most recent call last)",
            "\u001b[0;32m<ipython-input-92-fca31b73c268>\u001b[0m in \u001b[0;36m<module>\u001b[0;34m()\u001b[0m\n\u001b[1;32m      1\u001b[0m \u001b[0;31m#Convert Datetime column to multiple columns\u001b[0m\u001b[0;34m\u001b[0m\u001b[0;34m\u001b[0m\u001b[0;34m\u001b[0m\u001b[0m\n\u001b[0;32m----> 2\u001b[0;31m \u001b[0mstationHXD_data\u001b[0m\u001b[0;34m[\u001b[0m\u001b[0;34m\"hour\"\u001b[0m\u001b[0;34m]\u001b[0m \u001b[0;34m=\u001b[0m \u001b[0mstationHXD_data\u001b[0m\u001b[0;34m.\u001b[0m\u001b[0mvalid\u001b[0m\u001b[0;34m.\u001b[0m\u001b[0mdt\u001b[0m\u001b[0;34m.\u001b[0m\u001b[0mhour\u001b[0m\u001b[0;34m\u001b[0m\u001b[0;34m\u001b[0m\u001b[0m\n\u001b[0m\u001b[1;32m      3\u001b[0m \u001b[0mstationSUT_data\u001b[0m\u001b[0;34m[\u001b[0m\u001b[0;34m\"hour\"\u001b[0m\u001b[0;34m]\u001b[0m \u001b[0;34m=\u001b[0m \u001b[0mstationSUT_data\u001b[0m\u001b[0;34m.\u001b[0m\u001b[0mvalid\u001b[0m\u001b[0;34m.\u001b[0m\u001b[0mdt\u001b[0m\u001b[0;34m.\u001b[0m\u001b[0mhour\u001b[0m\u001b[0;34m\u001b[0m\u001b[0;34m\u001b[0m\u001b[0m\n\u001b[1;32m      4\u001b[0m \u001b[0;34m\u001b[0m\u001b[0m\n\u001b[1;32m      5\u001b[0m \u001b[0mstationHXD_data\u001b[0m\u001b[0;34m[\u001b[0m\u001b[0;34m\"date\"\u001b[0m\u001b[0;34m]\u001b[0m \u001b[0;34m=\u001b[0m \u001b[0mpd\u001b[0m\u001b[0;34m.\u001b[0m\u001b[0mto_datetime\u001b[0m\u001b[0;34m(\u001b[0m\u001b[0mstationHXD_data\u001b[0m\u001b[0;34m.\u001b[0m\u001b[0mvalid\u001b[0m\u001b[0;34m)\u001b[0m\u001b[0;34m.\u001b[0m\u001b[0mdt\u001b[0m\u001b[0;34m.\u001b[0m\u001b[0mdate\u001b[0m\u001b[0;34m\u001b[0m\u001b[0;34m\u001b[0m\u001b[0m\n",
            "\u001b[0;32m/usr/local/lib/python3.7/dist-packages/pandas/core/generic.py\u001b[0m in \u001b[0;36m__getattr__\u001b[0;34m(self, name)\u001b[0m\n\u001b[1;32m   5139\u001b[0m             \u001b[0;32mif\u001b[0m \u001b[0mself\u001b[0m\u001b[0;34m.\u001b[0m\u001b[0m_info_axis\u001b[0m\u001b[0;34m.\u001b[0m\u001b[0m_can_hold_identifiers_and_holds_name\u001b[0m\u001b[0;34m(\u001b[0m\u001b[0mname\u001b[0m\u001b[0;34m)\u001b[0m\u001b[0;34m:\u001b[0m\u001b[0;34m\u001b[0m\u001b[0;34m\u001b[0m\u001b[0m\n\u001b[1;32m   5140\u001b[0m                 \u001b[0;32mreturn\u001b[0m \u001b[0mself\u001b[0m\u001b[0;34m[\u001b[0m\u001b[0mname\u001b[0m\u001b[0;34m]\u001b[0m\u001b[0;34m\u001b[0m\u001b[0;34m\u001b[0m\u001b[0m\n\u001b[0;32m-> 5141\u001b[0;31m             \u001b[0;32mreturn\u001b[0m \u001b[0mobject\u001b[0m\u001b[0;34m.\u001b[0m\u001b[0m__getattribute__\u001b[0m\u001b[0;34m(\u001b[0m\u001b[0mself\u001b[0m\u001b[0;34m,\u001b[0m \u001b[0mname\u001b[0m\u001b[0;34m)\u001b[0m\u001b[0;34m\u001b[0m\u001b[0;34m\u001b[0m\u001b[0m\n\u001b[0m\u001b[1;32m   5142\u001b[0m \u001b[0;34m\u001b[0m\u001b[0m\n\u001b[1;32m   5143\u001b[0m     \u001b[0;32mdef\u001b[0m \u001b[0m__setattr__\u001b[0m\u001b[0;34m(\u001b[0m\u001b[0mself\u001b[0m\u001b[0;34m,\u001b[0m \u001b[0mname\u001b[0m\u001b[0;34m:\u001b[0m \u001b[0mstr\u001b[0m\u001b[0;34m,\u001b[0m \u001b[0mvalue\u001b[0m\u001b[0;34m)\u001b[0m \u001b[0;34m->\u001b[0m \u001b[0;32mNone\u001b[0m\u001b[0;34m:\u001b[0m\u001b[0;34m\u001b[0m\u001b[0;34m\u001b[0m\u001b[0m\n",
            "\u001b[0;31mAttributeError\u001b[0m: 'DataFrame' object has no attribute 'valid'"
          ]
        }
      ]
    },
    {
      "cell_type": "code",
      "metadata": {
        "colab": {
          "base_uri": "https://localhost:8080/"
        },
        "id": "1lQ-TKMQ0tI5",
        "outputId": "ce43833d-50de-4f3b-81de-68a6aff98ba5"
      },
      "source": [
        "stationHXD_data.date = pd.to_datetime(stationHXD_data.date)\n",
        "stationSUT_data.date = pd.to_datetime(stationSUT_data.date)\n",
        "stationHXD_data.info()"
      ],
      "id": "1lQ-TKMQ0tI5",
      "execution_count": 101,
      "outputs": [
        {
          "output_type": "stream",
          "name": "stdout",
          "text": [
            "<class 'pandas.core.frame.DataFrame'>\n",
            "RangeIndex: 135944 entries, 0 to 135943\n",
            "Data columns (total 11 columns):\n",
            " #   Column   Non-Null Count   Dtype         \n",
            "---  ------   --------------   -----         \n",
            " 0   station  135944 non-null  object        \n",
            " 1   tmpc     135944 non-null  float64       \n",
            " 2   dwpc     135944 non-null  float64       \n",
            " 3   relh     135944 non-null  float64       \n",
            " 4   feel     135944 non-null  float64       \n",
            " 5   drct     135944 non-null  float64       \n",
            " 6   sped     135944 non-null  float64       \n",
            " 7   p01i     135944 non-null  object        \n",
            " 8   skyc1    135944 non-null  object        \n",
            " 9   hour     135944 non-null  int64         \n",
            " 10  date     135944 non-null  datetime64[ns]\n",
            "dtypes: datetime64[ns](1), float64(6), int64(1), object(3)\n",
            "memory usage: 11.4+ MB\n"
          ]
        }
      ]
    },
    {
      "cell_type": "code",
      "metadata": {
        "id": "yrruSy0gogis"
      },
      "source": [
        "#Delete valid column as it is redundant\n",
        "stationHXD_data = stationHXD_data.drop(\"valid\", axis = 1)\n",
        "stationSUT_data = stationSUT_data.drop(\"valid\", axis = 1)"
      ],
      "id": "yrruSy0gogis",
      "execution_count": null,
      "outputs": []
    },
    {
      "cell_type": "code",
      "metadata": {
        "id": "iylMRTRXmsdm"
      },
      "source": [
        "from pandas.plotting import scatter_matrix\n",
        "import matplotlib.pyplot as plt"
      ],
      "id": "iylMRTRXmsdm",
      "execution_count": null,
      "outputs": []
    },
    {
      "cell_type": "code",
      "metadata": {
        "id": "zyNLuEz8lyO6"
      },
      "source": [
        "scatter_matrix(stationSUT_data)"
      ],
      "id": "zyNLuEz8lyO6",
      "execution_count": null,
      "outputs": []
    },
    {
      "cell_type": "code",
      "metadata": {
        "colab": {
          "base_uri": "https://localhost:8080/",
          "height": 378
        },
        "id": "YwzLwuJonkou",
        "outputId": "2b7544d9-22a4-411c-eca6-d2e099540034"
      },
      "source": [
        "import seaborn as sns\n",
        "plt.figure(figsize=(9,6))\n",
        "sns.heatmap(stationHXD_data.corr(),annot=True,cmap='cubehelix_r')\n",
        "plt.show()"
      ],
      "id": "YwzLwuJonkou",
      "execution_count": 70,
      "outputs": [
        {
          "output_type": "display_data",
          "data": {
            "image/png": "[encoded data removed]",
            "text/plain": [
              "<Figure size 648x432 with 2 Axes>"
            ]
          },
          "metadata": {
            "needs_background": "light"
          }
        }
      ]
    },
    {
      "cell_type": "markdown",
      "metadata": {
        "id": "4nmaOGi-e8sf"
      },
      "source": [
        "## Old Station Data"
      ],
      "id": "4nmaOGi-e8sf"
    },
    {
      "cell_type": "code",
      "metadata": {
        "id": "MABQOfTAHHly"
      },
      "source": [
        "import re"
      ],
      "id": "MABQOfTAHHly",
      "execution_count": null,
      "outputs": []
    },
    {
      "cell_type": "code",
      "metadata": {
        "id": "pCTGxhyIZYEi"
      },
      "source": [
        "wilstation_data_selected = pd.read_csv(\"pm200p1p1_197501-202112updated.txt\", index_col = False, sep = \"\\s\", \n",
        "                              engine = 'python',\n",
        "                              header = 0,\n",
        "                              #low_memory = False, \n",
        "                              usecols = [\"YEAR\", \"MO\", \"DY\", \"HR\", \"MN\", \"Hs\",\"Tp\",\"Dp\"],\n",
        "                              skipinitialspace = True,\n",
        "                              skiprows = [1]) #parse_dates = [[0,1,2,3,4]])"
      ],
      "id": "pCTGxhyIZYEi",
      "execution_count": null,
      "outputs": []
    },
    {
      "cell_type": "code",
      "metadata": {
        "colab": {
          "base_uri": "https://localhost:8080/",
          "height": 359
        },
        "id": "O9OiFWjDZ6to",
        "outputId": "7b5a6a47-78ac-4867-fa9a-6e863a432f8d"
      },
      "source": [
        "wilstation_data_selected.head(10)"
      ],
      "id": "O9OiFWjDZ6to",
      "execution_count": null,
      "outputs": [
        {
          "output_type": "execute_result",
          "data": {
            "text/html": [
              "<div>\n",
              "<style scoped>\n",
              "    .dataframe tbody tr th:only-of-type {\n",
              "        vertical-align: middle;\n",
              "    }\n",
              "\n",
              "    .dataframe tbody tr th {\n",
              "        vertical-align: top;\n",
              "    }\n",
              "\n",
              "    .dataframe thead th {\n",
              "        text-align: right;\n",
              "    }\n",
              "</style>\n",
              "<table border=\"1\" class=\"dataframe\">\n",
              "  <thead>\n",
              "    <tr style=\"text-align: right;\">\n",
              "      <th></th>\n",
              "      <th>YEAR</th>\n",
              "      <th>MO</th>\n",
              "      <th>DY</th>\n",
              "      <th>HR</th>\n",
              "      <th>MN</th>\n",
              "      <th>Hs</th>\n",
              "      <th>Tp</th>\n",
              "      <th>Dp</th>\n",
              "    </tr>\n",
              "  </thead>\n",
              "  <tbody>\n",
              "    <tr>\n",
              "      <th>0</th>\n",
              "      <td>2013</td>\n",
              "      <td>2</td>\n",
              "      <td>6</td>\n",
              "      <td>22</td>\n",
              "      <td>0</td>\n",
              "      <td>0.41</td>\n",
              "      <td>4.55</td>\n",
              "      <td>208.0</td>\n",
              "    </tr>\n",
              "    <tr>\n",
              "      <th>1</th>\n",
              "      <td>2013</td>\n",
              "      <td>2</td>\n",
              "      <td>6</td>\n",
              "      <td>22</td>\n",
              "      <td>30</td>\n",
              "      <td>0.40</td>\n",
              "      <td>4.76</td>\n",
              "      <td>199.0</td>\n",
              "    </tr>\n",
              "    <tr>\n",
              "      <th>2</th>\n",
              "      <td>2013</td>\n",
              "      <td>2</td>\n",
              "      <td>6</td>\n",
              "      <td>23</td>\n",
              "      <td>0</td>\n",
              "      <td>0.40</td>\n",
              "      <td>5.00</td>\n",
              "      <td>184.0</td>\n",
              "    </tr>\n",
              "    <tr>\n",
              "      <th>3</th>\n",
              "      <td>2013</td>\n",
              "      <td>2</td>\n",
              "      <td>6</td>\n",
              "      <td>23</td>\n",
              "      <td>30</td>\n",
              "      <td>0.41</td>\n",
              "      <td>11.11</td>\n",
              "      <td>140.0</td>\n",
              "    </tr>\n",
              "    <tr>\n",
              "      <th>4</th>\n",
              "      <td>2013</td>\n",
              "      <td>2</td>\n",
              "      <td>7</td>\n",
              "      <td>0</td>\n",
              "      <td>0</td>\n",
              "      <td>0.41</td>\n",
              "      <td>11.11</td>\n",
              "      <td>144.0</td>\n",
              "    </tr>\n",
              "    <tr>\n",
              "      <th>5</th>\n",
              "      <td>2013</td>\n",
              "      <td>2</td>\n",
              "      <td>7</td>\n",
              "      <td>0</td>\n",
              "      <td>30</td>\n",
              "      <td>0.41</td>\n",
              "      <td>11.76</td>\n",
              "      <td>139.0</td>\n",
              "    </tr>\n",
              "    <tr>\n",
              "      <th>6</th>\n",
              "      <td>2013</td>\n",
              "      <td>2</td>\n",
              "      <td>7</td>\n",
              "      <td>1</td>\n",
              "      <td>0</td>\n",
              "      <td>0.43</td>\n",
              "      <td>11.11</td>\n",
              "      <td>136.0</td>\n",
              "    </tr>\n",
              "    <tr>\n",
              "      <th>7</th>\n",
              "      <td>2013</td>\n",
              "      <td>2</td>\n",
              "      <td>7</td>\n",
              "      <td>1</td>\n",
              "      <td>30</td>\n",
              "      <td>0.41</td>\n",
              "      <td>10.53</td>\n",
              "      <td>137.0</td>\n",
              "    </tr>\n",
              "    <tr>\n",
              "      <th>8</th>\n",
              "      <td>2013</td>\n",
              "      <td>2</td>\n",
              "      <td>7</td>\n",
              "      <td>2</td>\n",
              "      <td>0</td>\n",
              "      <td>0.44</td>\n",
              "      <td>11.76</td>\n",
              "      <td>122.0</td>\n",
              "    </tr>\n",
              "    <tr>\n",
              "      <th>9</th>\n",
              "      <td>2013</td>\n",
              "      <td>2</td>\n",
              "      <td>7</td>\n",
              "      <td>2</td>\n",
              "      <td>30</td>\n",
              "      <td>0.45</td>\n",
              "      <td>11.11</td>\n",
              "      <td>141.0</td>\n",
              "    </tr>\n",
              "  </tbody>\n",
              "</table>\n",
              "</div>"
            ],
            "text/plain": [
              "   YEAR  MO  DY  HR  MN    Hs     Tp     Dp\n",
              "0  2013   2   6  22   0  0.41   4.55  208.0\n",
              "1  2013   2   6  22  30  0.40   4.76  199.0\n",
              "2  2013   2   6  23   0  0.40   5.00  184.0\n",
              "3  2013   2   6  23  30  0.41  11.11  140.0\n",
              "4  2013   2   7   0   0  0.41  11.11  144.0\n",
              "5  2013   2   7   0  30  0.41  11.76  139.0\n",
              "6  2013   2   7   1   0  0.43  11.11  136.0\n",
              "7  2013   2   7   1  30  0.41  10.53  137.0\n",
              "8  2013   2   7   2   0  0.44  11.76  122.0\n",
              "9  2013   2   7   2  30  0.45  11.11  141.0"
            ]
          },
          "metadata": {},
          "execution_count": 30
        }
      ]
    },
    {
      "cell_type": "code",
      "metadata": {
        "colab": {
          "base_uri": "https://localhost:8080/",
          "height": 297
        },
        "id": "flFF5iHmc7yg",
        "outputId": "c7e2970d-080b-47da-e105-0fa4dd65c8da"
      },
      "source": [
        "wilstation_data_selected.describe()"
      ],
      "id": "flFF5iHmc7yg",
      "execution_count": null,
      "outputs": [
        {
          "output_type": "execute_result",
          "data": {
            "text/html": [
              "<div>\n",
              "<style scoped>\n",
              "    .dataframe tbody tr th:only-of-type {\n",
              "        vertical-align: middle;\n",
              "    }\n",
              "\n",
              "    .dataframe tbody tr th {\n",
              "        vertical-align: top;\n",
              "    }\n",
              "\n",
              "    .dataframe thead th {\n",
              "        text-align: right;\n",
              "    }\n",
              "</style>\n",
              "<table border=\"1\" class=\"dataframe\">\n",
              "  <thead>\n",
              "    <tr style=\"text-align: right;\">\n",
              "      <th></th>\n",
              "      <th>YEAR</th>\n",
              "      <th>MO</th>\n",
              "      <th>DY</th>\n",
              "      <th>HR</th>\n",
              "      <th>MN</th>\n",
              "      <th>Hs</th>\n",
              "      <th>Tp</th>\n",
              "      <th>Dp</th>\n",
              "    </tr>\n",
              "  </thead>\n",
              "  <tbody>\n",
              "    <tr>\n",
              "      <th>count</th>\n",
              "      <td>143835.000000</td>\n",
              "      <td>143835.000000</td>\n",
              "      <td>143835.000000</td>\n",
              "      <td>143835.000000</td>\n",
              "      <td>143835.000000</td>\n",
              "      <td>143469.000000</td>\n",
              "      <td>143469.000000</td>\n",
              "      <td>143045.000000</td>\n",
              "    </tr>\n",
              "    <tr>\n",
              "      <th>mean</th>\n",
              "      <td>2017.058748</td>\n",
              "      <td>6.502979</td>\n",
              "      <td>15.718427</td>\n",
              "      <td>11.500998</td>\n",
              "      <td>21.864852</td>\n",
              "      <td>1.004312</td>\n",
              "      <td>7.077190</td>\n",
              "      <td>154.798665</td>\n",
              "    </tr>\n",
              "    <tr>\n",
              "      <th>std</th>\n",
              "      <td>2.525683</td>\n",
              "      <td>3.470800</td>\n",
              "      <td>8.790811</td>\n",
              "      <td>6.923048</td>\n",
              "      <td>18.107736</td>\n",
              "      <td>0.443164</td>\n",
              "      <td>2.629369</td>\n",
              "      <td>51.906689</td>\n",
              "    </tr>\n",
              "    <tr>\n",
              "      <th>min</th>\n",
              "      <td>2013.000000</td>\n",
              "      <td>1.000000</td>\n",
              "      <td>1.000000</td>\n",
              "      <td>0.000000</td>\n",
              "      <td>0.000000</td>\n",
              "      <td>0.240000</td>\n",
              "      <td>1.920000</td>\n",
              "      <td>10.000000</td>\n",
              "    </tr>\n",
              "    <tr>\n",
              "      <th>25%</th>\n",
              "      <td>2015.000000</td>\n",
              "      <td>3.000000</td>\n",
              "      <td>8.000000</td>\n",
              "      <td>5.000000</td>\n",
              "      <td>0.000000</td>\n",
              "      <td>0.690000</td>\n",
              "      <td>5.000000</td>\n",
              "      <td>127.000000</td>\n",
              "    </tr>\n",
              "    <tr>\n",
              "      <th>50%</th>\n",
              "      <td>2017.000000</td>\n",
              "      <td>7.000000</td>\n",
              "      <td>16.000000</td>\n",
              "      <td>12.000000</td>\n",
              "      <td>30.000000</td>\n",
              "      <td>0.910000</td>\n",
              "      <td>6.670000</td>\n",
              "      <td>151.000000</td>\n",
              "    </tr>\n",
              "    <tr>\n",
              "      <th>75%</th>\n",
              "      <td>2019.000000</td>\n",
              "      <td>10.000000</td>\n",
              "      <td>23.000000</td>\n",
              "      <td>18.000000</td>\n",
              "      <td>30.000000</td>\n",
              "      <td>1.220000</td>\n",
              "      <td>8.330000</td>\n",
              "      <td>186.000000</td>\n",
              "    </tr>\n",
              "    <tr>\n",
              "      <th>max</th>\n",
              "      <td>2021.000000</td>\n",
              "      <td>12.000000</td>\n",
              "      <td>31.000000</td>\n",
              "      <td>23.000000</td>\n",
              "      <td>57.000000</td>\n",
              "      <td>5.590000</td>\n",
              "      <td>20.000000</td>\n",
              "      <td>360.000000</td>\n",
              "    </tr>\n",
              "  </tbody>\n",
              "</table>\n",
              "</div>"
            ],
            "text/plain": [
              "                YEAR             MO  ...             Tp             Dp\n",
              "count  143835.000000  143835.000000  ...  143469.000000  143045.000000\n",
              "mean     2017.058748       6.502979  ...       7.077190     154.798665\n",
              "std         2.525683       3.470800  ...       2.629369      51.906689\n",
              "min      2013.000000       1.000000  ...       1.920000      10.000000\n",
              "25%      2015.000000       3.000000  ...       5.000000     127.000000\n",
              "50%      2017.000000       7.000000  ...       6.670000     151.000000\n",
              "75%      2019.000000      10.000000  ...       8.330000     186.000000\n",
              "max      2021.000000      12.000000  ...      20.000000     360.000000\n",
              "\n",
              "[8 rows x 8 columns]"
            ]
          },
          "metadata": {},
          "execution_count": 31
        }
      ]
    },
    {
      "cell_type": "code",
      "metadata": {
        "colab": {
          "base_uri": "https://localhost:8080/"
        },
        "id": "FTuyLUfL7340",
        "outputId": "b98bf4c8-6a39-4c6d-d7d0-1b4d1a1f9dd8"
      },
      "source": [
        "wilstation_data_selected.isnull().sum()"
      ],
      "id": "FTuyLUfL7340",
      "execution_count": null,
      "outputs": [
        {
          "output_type": "execute_result",
          "data": {
            "text/plain": [
              "YEAR      0\n",
              "MO        0\n",
              "DY        0\n",
              "HR        0\n",
              "MN        0\n",
              "Hs      366\n",
              "Tp      366\n",
              "Dp      790\n",
              "dtype: int64"
            ]
          },
          "metadata": {},
          "execution_count": 32
        }
      ]
    },
    {
      "cell_type": "code",
      "metadata": {
        "id": "tX_TszkH74A3"
      },
      "source": [
        "kilstation_data_selected = pd.read_csv(\"pm150p1p1_197501-202112updated.txt\", index_col = False, sep = \"\\s\", \n",
        "                              header = 0, engine = 'python', #low_memory = False, \n",
        "                              usecols = [\"YEAR\", \"MO\",\"DY\",\"HR\",\"MN\",\"Hs\", \"Tp\", \"Dp\"],\n",
        "                              skipinitialspace = True,\n",
        "                              skiprows = [1])"
      ],
      "id": "tX_TszkH74A3",
      "execution_count": null,
      "outputs": []
    },
    {
      "cell_type": "code",
      "metadata": {
        "id": "QqSOm-Tu74DP"
      },
      "source": [
        ""
      ],
      "id": "QqSOm-Tu74DP",
      "execution_count": null,
      "outputs": []
    },
    {
      "cell_type": "code",
      "metadata": {
        "colab": {
          "base_uri": "https://localhost:8080/",
          "height": 204
        },
        "id": "-Q_omPem8S_M",
        "outputId": "961338ab-3a5a-48ce-cfae-d575f016f0cc"
      },
      "source": [
        "kilstation_data_selected.head()"
      ],
      "id": "-Q_omPem8S_M",
      "execution_count": null,
      "outputs": [
        {
          "output_type": "execute_result",
          "data": {
            "text/html": [
              "<div>\n",
              "<style scoped>\n",
              "    .dataframe tbody tr th:only-of-type {\n",
              "        vertical-align: middle;\n",
              "    }\n",
              "\n",
              "    .dataframe tbody tr th {\n",
              "        vertical-align: top;\n",
              "    }\n",
              "\n",
              "    .dataframe thead th {\n",
              "        text-align: right;\n",
              "    }\n",
              "</style>\n",
              "<table border=\"1\" class=\"dataframe\">\n",
              "  <thead>\n",
              "    <tr style=\"text-align: right;\">\n",
              "      <th></th>\n",
              "      <th>YEAR</th>\n",
              "      <th>MO</th>\n",
              "      <th>DY</th>\n",
              "      <th>HR</th>\n",
              "      <th>MN</th>\n",
              "      <th>Hs</th>\n",
              "      <th>Tp</th>\n",
              "      <th>Dp</th>\n",
              "    </tr>\n",
              "  </thead>\n",
              "  <tbody>\n",
              "    <tr>\n",
              "      <th>0</th>\n",
              "      <td>2008</td>\n",
              "      <td>5</td>\n",
              "      <td>7</td>\n",
              "      <td>15</td>\n",
              "      <td>22</td>\n",
              "      <td>0.57</td>\n",
              "      <td>10.53</td>\n",
              "      <td>106.0</td>\n",
              "    </tr>\n",
              "    <tr>\n",
              "      <th>1</th>\n",
              "      <td>2008</td>\n",
              "      <td>5</td>\n",
              "      <td>7</td>\n",
              "      <td>15</td>\n",
              "      <td>52</td>\n",
              "      <td>0.54</td>\n",
              "      <td>10.53</td>\n",
              "      <td>101.0</td>\n",
              "    </tr>\n",
              "    <tr>\n",
              "      <th>2</th>\n",
              "      <td>2008</td>\n",
              "      <td>5</td>\n",
              "      <td>7</td>\n",
              "      <td>16</td>\n",
              "      <td>22</td>\n",
              "      <td>0.54</td>\n",
              "      <td>9.88</td>\n",
              "      <td>108.0</td>\n",
              "    </tr>\n",
              "    <tr>\n",
              "      <th>3</th>\n",
              "      <td>2008</td>\n",
              "      <td>5</td>\n",
              "      <td>7</td>\n",
              "      <td>16</td>\n",
              "      <td>52</td>\n",
              "      <td>0.56</td>\n",
              "      <td>10.53</td>\n",
              "      <td>96.0</td>\n",
              "    </tr>\n",
              "    <tr>\n",
              "      <th>4</th>\n",
              "      <td>2008</td>\n",
              "      <td>5</td>\n",
              "      <td>7</td>\n",
              "      <td>17</td>\n",
              "      <td>22</td>\n",
              "      <td>0.56</td>\n",
              "      <td>6.67</td>\n",
              "      <td>132.0</td>\n",
              "    </tr>\n",
              "  </tbody>\n",
              "</table>\n",
              "</div>"
            ],
            "text/plain": [
              "   YEAR  MO  DY  HR  MN    Hs     Tp     Dp\n",
              "0  2008   5   7  15  22  0.57  10.53  106.0\n",
              "1  2008   5   7  15  52  0.54  10.53  101.0\n",
              "2  2008   5   7  16  22  0.54   9.88  108.0\n",
              "3  2008   5   7  16  52  0.56  10.53   96.0\n",
              "4  2008   5   7  17  22  0.56   6.67  132.0"
            ]
          },
          "metadata": {},
          "execution_count": 34
        }
      ]
    },
    {
      "cell_type": "code",
      "metadata": {
        "colab": {
          "base_uri": "https://localhost:8080/"
        },
        "id": "r_slmvgv8S_T",
        "outputId": "006ebb75-7797-4d7f-d329-23684d1542e5"
      },
      "source": [
        "kilstation_data_selected.info()"
      ],
      "id": "r_slmvgv8S_T",
      "execution_count": null,
      "outputs": [
        {
          "output_type": "stream",
          "name": "stdout",
          "text": [
            "<class 'pandas.core.frame.DataFrame'>\n",
            "RangeIndex: 223770 entries, 0 to 223769\n",
            "Data columns (total 8 columns):\n",
            " #   Column  Non-Null Count   Dtype  \n",
            "---  ------  --------------   -----  \n",
            " 0   YEAR    223770 non-null  int64  \n",
            " 1   MO      223770 non-null  int64  \n",
            " 2   DY      223770 non-null  int64  \n",
            " 3   HR      223770 non-null  int64  \n",
            " 4   MN      223770 non-null  int64  \n",
            " 5   Hs      223577 non-null  float64\n",
            " 6   Tp      223577 non-null  float64\n",
            " 7   Dp      223238 non-null  float64\n",
            "dtypes: float64(3), int64(5)\n",
            "memory usage: 13.7 MB\n"
          ]
        }
      ]
    },
    {
      "cell_type": "code",
      "metadata": {
        "colab": {
          "base_uri": "https://localhost:8080/"
        },
        "id": "rPNoDTZj8S_T",
        "outputId": "551c6d9e-2626-41b0-cfa6-3c3b8d12f3c0"
      },
      "source": [
        "kilstation_data_selected.isnull().sum()"
      ],
      "id": "rPNoDTZj8S_T",
      "execution_count": null,
      "outputs": [
        {
          "output_type": "execute_result",
          "data": {
            "text/plain": [
              "YEAR      0\n",
              "MO        0\n",
              "DY        0\n",
              "HR        0\n",
              "MN        0\n",
              "Hs      193\n",
              "Tp      193\n",
              "Dp      532\n",
              "dtype: int64"
            ]
          },
          "metadata": {},
          "execution_count": 36
        }
      ]
    },
    {
      "cell_type": "code",
      "metadata": {
        "colab": {
          "base_uri": "https://localhost:8080/",
          "height": 163
        },
        "id": "6J818SZu8S_T",
        "outputId": "30f05fdd-79dd-42bd-bbd0-d18d67c1d5e7"
      },
      "source": [
        "kilstation_data.describe()"
      ],
      "id": "6J818SZu8S_T",
      "execution_count": null,
      "outputs": [
        {
          "output_type": "error",
          "ename": "NameError",
          "evalue": "ignored",
          "traceback": [
            "\u001b[0;31m---------------------------------------------------------------------------\u001b[0m",
            "\u001b[0;31mNameError\u001b[0m                                 Traceback (most recent call last)",
            "\u001b[0;32m<ipython-input-38-1e13e2f00ff6>\u001b[0m in \u001b[0;36m<module>\u001b[0;34m()\u001b[0m\n\u001b[0;32m----> 1\u001b[0;31m \u001b[0mkilstation_data\u001b[0m\u001b[0;34m.\u001b[0m\u001b[0mdescribe\u001b[0m\u001b[0;34m(\u001b[0m\u001b[0;34m)\u001b[0m\u001b[0;34m\u001b[0m\u001b[0;34m\u001b[0m\u001b[0m\n\u001b[0m",
            "\u001b[0;31mNameError\u001b[0m: name 'kilstation_data' is not defined"
          ]
        }
      ]
    },
    {
      "cell_type": "code",
      "metadata": {
        "id": "9qKiMlx4gNam"
      },
      "source": [
        "#Imputing the missing data\n",
        "from sklearn.impute import SimpleImputer"
      ],
      "id": "9qKiMlx4gNam",
      "execution_count": null,
      "outputs": []
    },
    {
      "cell_type": "code",
      "metadata": {
        "colab": {
          "base_uri": "https://localhost:8080/",
          "height": 297
        },
        "id": "dffZr6yhgNaw",
        "outputId": "0d55af2b-544c-4c29-eacc-21cd183e6e37"
      },
      "source": [
        "#Imputing the mean into the missing data\n",
        "station_mean = wilstation_data_selected.copy(deep=True)\n",
        "mean_imputer = SimpleImputer(strategy=\"mean\")\n",
        "wilstation_data_selected.iloc[:,:] = mean_imputer.fit_transform(station_mean)\n",
        "wilstation_data_selected[[\"Hs\", \"Tp\", \"Dp\"]].describe()"
      ],
      "id": "dffZr6yhgNaw",
      "execution_count": null,
      "outputs": [
        {
          "output_type": "execute_result",
          "data": {
            "text/html": [
              "<div>\n",
              "<style scoped>\n",
              "    .dataframe tbody tr th:only-of-type {\n",
              "        vertical-align: middle;\n",
              "    }\n",
              "\n",
              "    .dataframe tbody tr th {\n",
              "        vertical-align: top;\n",
              "    }\n",
              "\n",
              "    .dataframe thead th {\n",
              "        text-align: right;\n",
              "    }\n",
              "</style>\n",
              "<table border=\"1\" class=\"dataframe\">\n",
              "  <thead>\n",
              "    <tr style=\"text-align: right;\">\n",
              "      <th></th>\n",
              "      <th>Hs</th>\n",
              "      <th>Tp</th>\n",
              "      <th>Dp</th>\n",
              "    </tr>\n",
              "  </thead>\n",
              "  <tbody>\n",
              "    <tr>\n",
              "      <th>count</th>\n",
              "      <td>143835.000000</td>\n",
              "      <td>143835.000000</td>\n",
              "      <td>143835.000000</td>\n",
              "    </tr>\n",
              "    <tr>\n",
              "      <th>mean</th>\n",
              "      <td>1.004312</td>\n",
              "      <td>7.077190</td>\n",
              "      <td>154.798665</td>\n",
              "    </tr>\n",
              "    <tr>\n",
              "      <th>std</th>\n",
              "      <td>0.442600</td>\n",
              "      <td>2.626021</td>\n",
              "      <td>51.763945</td>\n",
              "    </tr>\n",
              "    <tr>\n",
              "      <th>min</th>\n",
              "      <td>0.240000</td>\n",
              "      <td>1.920000</td>\n",
              "      <td>10.000000</td>\n",
              "    </tr>\n",
              "    <tr>\n",
              "      <th>25%</th>\n",
              "      <td>0.690000</td>\n",
              "      <td>5.000000</td>\n",
              "      <td>127.000000</td>\n",
              "    </tr>\n",
              "    <tr>\n",
              "      <th>50%</th>\n",
              "      <td>0.910000</td>\n",
              "      <td>6.670000</td>\n",
              "      <td>151.000000</td>\n",
              "    </tr>\n",
              "    <tr>\n",
              "      <th>75%</th>\n",
              "      <td>1.220000</td>\n",
              "      <td>8.330000</td>\n",
              "      <td>185.000000</td>\n",
              "    </tr>\n",
              "    <tr>\n",
              "      <th>max</th>\n",
              "      <td>5.590000</td>\n",
              "      <td>20.000000</td>\n",
              "      <td>360.000000</td>\n",
              "    </tr>\n",
              "  </tbody>\n",
              "</table>\n",
              "</div>"
            ],
            "text/plain": [
              "                  Hs             Tp             Dp\n",
              "count  143835.000000  143835.000000  143835.000000\n",
              "mean        1.004312       7.077190     154.798665\n",
              "std         0.442600       2.626021      51.763945\n",
              "min         0.240000       1.920000      10.000000\n",
              "25%         0.690000       5.000000     127.000000\n",
              "50%         0.910000       6.670000     151.000000\n",
              "75%         1.220000       8.330000     185.000000\n",
              "max         5.590000      20.000000     360.000000"
            ]
          },
          "metadata": {},
          "execution_count": 40
        }
      ]
    },
    {
      "cell_type": "code",
      "metadata": {
        "colab": {
          "base_uri": "https://localhost:8080/"
        },
        "id": "3zsfyYC6hrQ1",
        "outputId": "270adc1f-8282-4d42-de92-2ce0e462256e"
      },
      "source": [
        "wilstation_data_selected.isnull().sum()"
      ],
      "id": "3zsfyYC6hrQ1",
      "execution_count": null,
      "outputs": [
        {
          "output_type": "execute_result",
          "data": {
            "text/plain": [
              "YEAR    0\n",
              "MO      0\n",
              "DY      0\n",
              "HR      0\n",
              "MN      0\n",
              "Hs      0\n",
              "Tp      0\n",
              "Dp      0\n",
              "dtype: int64"
            ]
          },
          "metadata": {},
          "execution_count": 41
        }
      ]
    },
    {
      "cell_type": "code",
      "metadata": {
        "colab": {
          "base_uri": "https://localhost:8080/",
          "height": 297
        },
        "id": "0-G3otTjh2ha",
        "outputId": "049d36eb-f1c4-4845-91f4-8c3de73c1c74"
      },
      "source": [
        "#Imputing the mean into the missing data\n",
        "station_mean = kilstation_data_selected.copy(deep=True)\n",
        "mean_imputer = SimpleImputer(strategy=\"mean\")\n",
        "kilstation_data_selected.iloc[:,:] = mean_imputer.fit_transform(station_mean)\n",
        "kilstation_data_selected[[\"Hs\", \"Tp\", \"Dp\"]].describe()"
      ],
      "id": "0-G3otTjh2ha",
      "execution_count": null,
      "outputs": [
        {
          "output_type": "execute_result",
          "data": {
            "text/html": [
              "<div>\n",
              "<style scoped>\n",
              "    .dataframe tbody tr th:only-of-type {\n",
              "        vertical-align: middle;\n",
              "    }\n",
              "\n",
              "    .dataframe tbody tr th {\n",
              "        vertical-align: top;\n",
              "    }\n",
              "\n",
              "    .dataframe thead th {\n",
              "        text-align: right;\n",
              "    }\n",
              "</style>\n",
              "<table border=\"1\" class=\"dataframe\">\n",
              "  <thead>\n",
              "    <tr style=\"text-align: right;\">\n",
              "      <th></th>\n",
              "      <th>Hs</th>\n",
              "      <th>Tp</th>\n",
              "      <th>Dp</th>\n",
              "    </tr>\n",
              "  </thead>\n",
              "  <tbody>\n",
              "    <tr>\n",
              "      <th>count</th>\n",
              "      <td>223770.000000</td>\n",
              "      <td>223770.000000</td>\n",
              "      <td>223770.000000</td>\n",
              "    </tr>\n",
              "    <tr>\n",
              "      <th>mean</th>\n",
              "      <td>0.929017</td>\n",
              "      <td>7.708949</td>\n",
              "      <td>129.973315</td>\n",
              "    </tr>\n",
              "    <tr>\n",
              "      <th>std</th>\n",
              "      <td>0.393606</td>\n",
              "      <td>2.739430</td>\n",
              "      <td>39.706551</td>\n",
              "    </tr>\n",
              "    <tr>\n",
              "      <th>min</th>\n",
              "      <td>0.230000</td>\n",
              "      <td>1.750000</td>\n",
              "      <td>11.000000</td>\n",
              "    </tr>\n",
              "    <tr>\n",
              "      <th>25%</th>\n",
              "      <td>0.660000</td>\n",
              "      <td>5.560000</td>\n",
              "      <td>105.000000</td>\n",
              "    </tr>\n",
              "    <tr>\n",
              "      <th>50%</th>\n",
              "      <td>0.840000</td>\n",
              "      <td>7.690000</td>\n",
              "      <td>126.000000</td>\n",
              "    </tr>\n",
              "    <tr>\n",
              "      <th>75%</th>\n",
              "      <td>1.110000</td>\n",
              "      <td>9.090000</td>\n",
              "      <td>154.000000</td>\n",
              "    </tr>\n",
              "    <tr>\n",
              "      <th>max</th>\n",
              "      <td>5.100000</td>\n",
              "      <td>22.220000</td>\n",
              "      <td>359.000000</td>\n",
              "    </tr>\n",
              "  </tbody>\n",
              "</table>\n",
              "</div>"
            ],
            "text/plain": [
              "                  Hs             Tp             Dp\n",
              "count  223770.000000  223770.000000  223770.000000\n",
              "mean        0.929017       7.708949     129.973315\n",
              "std         0.393606       2.739430      39.706551\n",
              "min         0.230000       1.750000      11.000000\n",
              "25%         0.660000       5.560000     105.000000\n",
              "50%         0.840000       7.690000     126.000000\n",
              "75%         1.110000       9.090000     154.000000\n",
              "max         5.100000      22.220000     359.000000"
            ]
          },
          "metadata": {},
          "execution_count": 42
        }
      ]
    },
    {
      "cell_type": "code",
      "metadata": {
        "colab": {
          "base_uri": "https://localhost:8080/"
        },
        "id": "uTreyu5Dh2pU",
        "outputId": "8fce9734-d81b-422f-d090-f65b7af46db7"
      },
      "source": [
        "kilstation_data_selected.isnull().sum()"
      ],
      "id": "uTreyu5Dh2pU",
      "execution_count": null,
      "outputs": [
        {
          "output_type": "execute_result",
          "data": {
            "text/plain": [
              "YEAR    0\n",
              "MO      0\n",
              "DY      0\n",
              "HR      0\n",
              "MN      0\n",
              "Hs      0\n",
              "Tp      0\n",
              "Dp      0\n",
              "dtype: int64"
            ]
          },
          "metadata": {},
          "execution_count": 37
        }
      ]
    },
    {
      "cell_type": "code",
      "metadata": {
        "id": "AWcfdIB5AshD"
      },
      "source": [
        "kilstation_data_selected = kilstation_data_selected[kilstation_data_selected[\"YEAR\"] >= 2013]"
      ],
      "id": "AWcfdIB5AshD",
      "execution_count": null,
      "outputs": []
    },
    {
      "cell_type": "code",
      "metadata": {
        "id": "XOfdI2kBAn1d"
      },
      "source": [
        "kilstation_data_selected.to_csv(\"station150_updated.csv\")\n",
        "wilstation_data_selected.to_csv(\"station200_updated.csv\")"
      ],
      "id": "XOfdI2kBAn1d",
      "execution_count": null,
      "outputs": []
    },
    {
      "cell_type": "code",
      "metadata": {
        "id": "zS1ByMyQha8i"
      },
      "source": [
        "station150_updated = pd.read_csv(\"station150_updated.csv\")\n",
        "station200_updated = pd.read_csv(\"station200_updated.csv\")"
      ],
      "id": "zS1ByMyQha8i",
      "execution_count": null,
      "outputs": []
    },
    {
      "cell_type": "markdown",
      "metadata": {
        "id": "wcQJqZ9YfBRm"
      },
      "source": [
        "## Merging Datasets"
      ],
      "id": "wcQJqZ9YfBRm"
    },
    {
      "cell_type": "code",
      "metadata": {
        "id": "FP_Dtz4nviPj"
      },
      "source": [
        "#Save current changed documents to new csv files\n",
        "stationHXD_updated = stationHXD_data.to_csv(\"stationHXD_updated.csv\")\n",
        "stationSUT_updated = stationSUT_data.to_csv(\"stationSUT_updated.csv\")"
      ],
      "id": "FP_Dtz4nviPj",
      "execution_count": 102,
      "outputs": []
    },
    {
      "cell_type": "code",
      "metadata": {
        "colab": {
          "base_uri": "https://localhost:8080/"
        },
        "id": "lLKIiFSRwAYI",
        "outputId": "b368e257-ce6d-4571-eb9f-f8d1150ea6c9"
      },
      "source": [
        "stationHXD_updated = pd.read_csv(\"stationHXD_updated.csv\")\n",
        "stationSUT_updated = pd.read_csv(\"stationSUT_updated.csv\")"
      ],
      "id": "lLKIiFSRwAYI",
      "execution_count": 103,
      "outputs": [
        {
          "output_type": "stream",
          "name": "stderr",
          "text": [
            "/usr/local/lib/python3.7/dist-packages/IPython/core/interactiveshell.py:2718: DtypeWarning: Columns (8) have mixed types.Specify dtype option on import or set low_memory=False.\n",
            "  interactivity=interactivity, compiler=compiler, result=result)\n"
          ]
        }
      ]
    },
    {
      "cell_type": "code",
      "metadata": {
        "colab": {
          "base_uri": "https://localhost:8080/",
          "height": 357
        },
        "id": "9QJGKFwKhmlR",
        "outputId": "d930b2d0-3ead-4e89-b00f-4cbce7f7154f"
      },
      "source": [
        "station_data = stationHXD_updated.append(stationSUT_updated)\n",
        "\n",
        "station_data.head(10)"
      ],
      "id": "9QJGKFwKhmlR",
      "execution_count": 111,
      "outputs": [
        {
          "output_type": "execute_result",
          "data": {
            "text/html": [
              "<div>\n",
              "<style scoped>\n",
              "    .dataframe tbody tr th:only-of-type {\n",
              "        vertical-align: middle;\n",
              "    }\n",
              "\n",
              "    .dataframe tbody tr th {\n",
              "        vertical-align: top;\n",
              "    }\n",
              "\n",
              "    .dataframe thead th {\n",
              "        text-align: right;\n",
              "    }\n",
              "</style>\n",
              "<table border=\"1\" class=\"dataframe\">\n",
              "  <thead>\n",
              "    <tr style=\"text-align: right;\">\n",
              "      <th></th>\n",
              "      <th>Unnamed: 0</th>\n",
              "      <th>station</th>\n",
              "      <th>tmpc</th>\n",
              "      <th>dwpc</th>\n",
              "      <th>relh</th>\n",
              "      <th>feel</th>\n",
              "      <th>drct</th>\n",
              "      <th>sped</th>\n",
              "      <th>p01i</th>\n",
              "      <th>skyc1</th>\n",
              "      <th>hour</th>\n",
              "      <th>date</th>\n",
              "    </tr>\n",
              "  </thead>\n",
              "  <tbody>\n",
              "    <tr>\n",
              "      <th>0</th>\n",
              "      <td>0</td>\n",
              "      <td>HXD</td>\n",
              "      <td>8.0</td>\n",
              "      <td>7.0</td>\n",
              "      <td>93.40</td>\n",
              "      <td>46.4</td>\n",
              "      <td>0.0</td>\n",
              "      <td>0.0</td>\n",
              "      <td>0.00</td>\n",
              "      <td>CLR</td>\n",
              "      <td>0</td>\n",
              "      <td>2013-01-01</td>\n",
              "    </tr>\n",
              "    <tr>\n",
              "      <th>1</th>\n",
              "      <td>1</td>\n",
              "      <td>HXD</td>\n",
              "      <td>7.0</td>\n",
              "      <td>7.0</td>\n",
              "      <td>100.00</td>\n",
              "      <td>44.6</td>\n",
              "      <td>0.0</td>\n",
              "      <td>0.0</td>\n",
              "      <td>T</td>\n",
              "      <td>CLR</td>\n",
              "      <td>1</td>\n",
              "      <td>2013-01-01</td>\n",
              "    </tr>\n",
              "    <tr>\n",
              "      <th>2</th>\n",
              "      <td>2</td>\n",
              "      <td>HXD</td>\n",
              "      <td>6.0</td>\n",
              "      <td>6.0</td>\n",
              "      <td>100.00</td>\n",
              "      <td>42.8</td>\n",
              "      <td>0.0</td>\n",
              "      <td>0.0</td>\n",
              "      <td>T</td>\n",
              "      <td>CLR</td>\n",
              "      <td>1</td>\n",
              "      <td>2013-01-01</td>\n",
              "    </tr>\n",
              "    <tr>\n",
              "      <th>3</th>\n",
              "      <td>3</td>\n",
              "      <td>HXD</td>\n",
              "      <td>8.0</td>\n",
              "      <td>6.0</td>\n",
              "      <td>87.19</td>\n",
              "      <td>46.4</td>\n",
              "      <td>0.0</td>\n",
              "      <td>0.0</td>\n",
              "      <td>0.00</td>\n",
              "      <td>CLR</td>\n",
              "      <td>1</td>\n",
              "      <td>2013-01-01</td>\n",
              "    </tr>\n",
              "    <tr>\n",
              "      <th>4</th>\n",
              "      <td>4</td>\n",
              "      <td>HXD</td>\n",
              "      <td>6.0</td>\n",
              "      <td>6.0</td>\n",
              "      <td>100.00</td>\n",
              "      <td>42.8</td>\n",
              "      <td>0.0</td>\n",
              "      <td>0.0</td>\n",
              "      <td>T</td>\n",
              "      <td>CLR</td>\n",
              "      <td>1</td>\n",
              "      <td>2013-01-01</td>\n",
              "    </tr>\n",
              "    <tr>\n",
              "      <th>5</th>\n",
              "      <td>5</td>\n",
              "      <td>HXD</td>\n",
              "      <td>6.0</td>\n",
              "      <td>6.0</td>\n",
              "      <td>100.00</td>\n",
              "      <td>42.8</td>\n",
              "      <td>0.0</td>\n",
              "      <td>0.0</td>\n",
              "      <td>T</td>\n",
              "      <td>CLR</td>\n",
              "      <td>2</td>\n",
              "      <td>2013-01-01</td>\n",
              "    </tr>\n",
              "    <tr>\n",
              "      <th>6</th>\n",
              "      <td>6</td>\n",
              "      <td>HXD</td>\n",
              "      <td>6.0</td>\n",
              "      <td>6.0</td>\n",
              "      <td>100.00</td>\n",
              "      <td>42.8</td>\n",
              "      <td>0.0</td>\n",
              "      <td>0.0</td>\n",
              "      <td>T</td>\n",
              "      <td>SCT</td>\n",
              "      <td>2</td>\n",
              "      <td>2013-01-01</td>\n",
              "    </tr>\n",
              "    <tr>\n",
              "      <th>7</th>\n",
              "      <td>7</td>\n",
              "      <td>HXD</td>\n",
              "      <td>7.0</td>\n",
              "      <td>7.0</td>\n",
              "      <td>100.00</td>\n",
              "      <td>44.6</td>\n",
              "      <td>0.0</td>\n",
              "      <td>0.0</td>\n",
              "      <td>T</td>\n",
              "      <td>OVC</td>\n",
              "      <td>2</td>\n",
              "      <td>2013-01-01</td>\n",
              "    </tr>\n",
              "    <tr>\n",
              "      <th>8</th>\n",
              "      <td>8</td>\n",
              "      <td>HXD</td>\n",
              "      <td>7.0</td>\n",
              "      <td>7.0</td>\n",
              "      <td>100.00</td>\n",
              "      <td>44.6</td>\n",
              "      <td>0.0</td>\n",
              "      <td>0.0</td>\n",
              "      <td>T</td>\n",
              "      <td>OVC</td>\n",
              "      <td>3</td>\n",
              "      <td>2013-01-01</td>\n",
              "    </tr>\n",
              "    <tr>\n",
              "      <th>9</th>\n",
              "      <td>9</td>\n",
              "      <td>HXD</td>\n",
              "      <td>8.0</td>\n",
              "      <td>8.0</td>\n",
              "      <td>100.00</td>\n",
              "      <td>46.4</td>\n",
              "      <td>0.0</td>\n",
              "      <td>0.0</td>\n",
              "      <td>T</td>\n",
              "      <td>OVC</td>\n",
              "      <td>3</td>\n",
              "      <td>2013-01-01</td>\n",
              "    </tr>\n",
              "  </tbody>\n",
              "</table>\n",
              "</div>"
            ],
            "text/plain": [
              "   Unnamed: 0 station  tmpc  dwpc    relh  ...  sped  p01i  skyc1 hour        date\n",
              "0           0     HXD   8.0   7.0   93.40  ...   0.0  0.00    CLR    0  2013-01-01\n",
              "1           1     HXD   7.0   7.0  100.00  ...   0.0     T    CLR    1  2013-01-01\n",
              "2           2     HXD   6.0   6.0  100.00  ...   0.0     T    CLR    1  2013-01-01\n",
              "3           3     HXD   8.0   6.0   87.19  ...   0.0  0.00    CLR    1  2013-01-01\n",
              "4           4     HXD   6.0   6.0  100.00  ...   0.0     T    CLR    1  2013-01-01\n",
              "5           5     HXD   6.0   6.0  100.00  ...   0.0     T    CLR    2  2013-01-01\n",
              "6           6     HXD   6.0   6.0  100.00  ...   0.0     T    SCT    2  2013-01-01\n",
              "7           7     HXD   7.0   7.0  100.00  ...   0.0     T    OVC    2  2013-01-01\n",
              "8           8     HXD   7.0   7.0  100.00  ...   0.0     T    OVC    3  2013-01-01\n",
              "9           9     HXD   8.0   8.0  100.00  ...   0.0     T    OVC    3  2013-01-01\n",
              "\n",
              "[10 rows x 12 columns]"
            ]
          },
          "metadata": {},
          "execution_count": 111
        }
      ]
    },
    {
      "cell_type": "code",
      "metadata": {
        "colab": {
          "base_uri": "https://localhost:8080/",
          "height": 203
        },
        "id": "lMPbZ5VBxWoX",
        "outputId": "bb82f8bf-efae-4c19-848f-fde953d5ec05"
      },
      "source": [
        "station_data = station_data.drop(\"Unnamed: 0\", axis = 1)\n",
        "station_data = station_data.reindex(columns = [\"date\", \"hour\", \"station\",\t\"tmpc\",\t\"dwpc\",\t\"relh\",\t\"feel\",\t\"drct\",\t\"sped\",\t\"p01i\",\t\"skyc1\"])\n",
        "station_data.head()"
      ],
      "id": "lMPbZ5VBxWoX",
      "execution_count": 112,
      "outputs": [
        {
          "output_type": "execute_result",
          "data": {
            "text/html": [
              "<div>\n",
              "<style scoped>\n",
              "    .dataframe tbody tr th:only-of-type {\n",
              "        vertical-align: middle;\n",
              "    }\n",
              "\n",
              "    .dataframe tbody tr th {\n",
              "        vertical-align: top;\n",
              "    }\n",
              "\n",
              "    .dataframe thead th {\n",
              "        text-align: right;\n",
              "    }\n",
              "</style>\n",
              "<table border=\"1\" class=\"dataframe\">\n",
              "  <thead>\n",
              "    <tr style=\"text-align: right;\">\n",
              "      <th></th>\n",
              "      <th>date</th>\n",
              "      <th>hour</th>\n",
              "      <th>station</th>\n",
              "      <th>tmpc</th>\n",
              "      <th>dwpc</th>\n",
              "      <th>relh</th>\n",
              "      <th>feel</th>\n",
              "      <th>drct</th>\n",
              "      <th>sped</th>\n",
              "      <th>p01i</th>\n",
              "      <th>skyc1</th>\n",
              "    </tr>\n",
              "  </thead>\n",
              "  <tbody>\n",
              "    <tr>\n",
              "      <th>0</th>\n",
              "      <td>2013-01-01</td>\n",
              "      <td>0</td>\n",
              "      <td>HXD</td>\n",
              "      <td>8.0</td>\n",
              "      <td>7.0</td>\n",
              "      <td>93.40</td>\n",
              "      <td>46.4</td>\n",
              "      <td>0.0</td>\n",
              "      <td>0.0</td>\n",
              "      <td>0.00</td>\n",
              "      <td>CLR</td>\n",
              "    </tr>\n",
              "    <tr>\n",
              "      <th>1</th>\n",
              "      <td>2013-01-01</td>\n",
              "      <td>1</td>\n",
              "      <td>HXD</td>\n",
              "      <td>7.0</td>\n",
              "      <td>7.0</td>\n",
              "      <td>100.00</td>\n",
              "      <td>44.6</td>\n",
              "      <td>0.0</td>\n",
              "      <td>0.0</td>\n",
              "      <td>T</td>\n",
              "      <td>CLR</td>\n",
              "    </tr>\n",
              "    <tr>\n",
              "      <th>2</th>\n",
              "      <td>2013-01-01</td>\n",
              "      <td>1</td>\n",
              "      <td>HXD</td>\n",
              "      <td>6.0</td>\n",
              "      <td>6.0</td>\n",
              "      <td>100.00</td>\n",
              "      <td>42.8</td>\n",
              "      <td>0.0</td>\n",
              "      <td>0.0</td>\n",
              "      <td>T</td>\n",
              "      <td>CLR</td>\n",
              "    </tr>\n",
              "    <tr>\n",
              "      <th>3</th>\n",
              "      <td>2013-01-01</td>\n",
              "      <td>1</td>\n",
              "      <td>HXD</td>\n",
              "      <td>8.0</td>\n",
              "      <td>6.0</td>\n",
              "      <td>87.19</td>\n",
              "      <td>46.4</td>\n",
              "      <td>0.0</td>\n",
              "      <td>0.0</td>\n",
              "      <td>0.00</td>\n",
              "      <td>CLR</td>\n",
              "    </tr>\n",
              "    <tr>\n",
              "      <th>4</th>\n",
              "      <td>2013-01-01</td>\n",
              "      <td>1</td>\n",
              "      <td>HXD</td>\n",
              "      <td>6.0</td>\n",
              "      <td>6.0</td>\n",
              "      <td>100.00</td>\n",
              "      <td>42.8</td>\n",
              "      <td>0.0</td>\n",
              "      <td>0.0</td>\n",
              "      <td>T</td>\n",
              "      <td>CLR</td>\n",
              "    </tr>\n",
              "  </tbody>\n",
              "</table>\n",
              "</div>"
            ],
            "text/plain": [
              "         date  hour station  tmpc  dwpc    relh  feel  drct  sped  p01i skyc1\n",
              "0  2013-01-01     0     HXD   8.0   7.0   93.40  46.4   0.0   0.0  0.00   CLR\n",
              "1  2013-01-01     1     HXD   7.0   7.0  100.00  44.6   0.0   0.0     T   CLR\n",
              "2  2013-01-01     1     HXD   6.0   6.0  100.00  42.8   0.0   0.0     T   CLR\n",
              "3  2013-01-01     1     HXD   8.0   6.0   87.19  46.4   0.0   0.0  0.00   CLR\n",
              "4  2013-01-01     1     HXD   6.0   6.0  100.00  42.8   0.0   0.0     T   CLR"
            ]
          },
          "metadata": {},
          "execution_count": 112
        }
      ]
    },
    {
      "cell_type": "code",
      "metadata": {
        "id": "-k_TrzDt1W38"
      },
      "source": [
        "station_data.date = pd.to_datetime(station_data.date)"
      ],
      "id": "-k_TrzDt1W38",
      "execution_count": 113,
      "outputs": []
    },
    {
      "cell_type": "code",
      "metadata": {
        "colab": {
          "base_uri": "https://localhost:8080/",
          "height": 417
        },
        "id": "mV6jOfpH2H5a",
        "outputId": "121961b8-a049-4c9f-db71-9de4f492df93"
      },
      "source": [
        "pd.DataFrame(station_data)"
      ],
      "id": "mV6jOfpH2H5a",
      "execution_count": 110,
      "outputs": [
        {
          "output_type": "execute_result",
          "data": {
            "text/html": [
              "<div>\n",
              "<style scoped>\n",
              "    .dataframe tbody tr th:only-of-type {\n",
              "        vertical-align: middle;\n",
              "    }\n",
              "\n",
              "    .dataframe tbody tr th {\n",
              "        vertical-align: top;\n",
              "    }\n",
              "\n",
              "    .dataframe thead th {\n",
              "        text-align: right;\n",
              "    }\n",
              "</style>\n",
              "<table border=\"1\" class=\"dataframe\">\n",
              "  <thead>\n",
              "    <tr style=\"text-align: right;\">\n",
              "      <th></th>\n",
              "      <th>date</th>\n",
              "    </tr>\n",
              "  </thead>\n",
              "  <tbody>\n",
              "    <tr>\n",
              "      <th>0</th>\n",
              "      <td>2013-01-01</td>\n",
              "    </tr>\n",
              "    <tr>\n",
              "      <th>1</th>\n",
              "      <td>2013-01-01</td>\n",
              "    </tr>\n",
              "    <tr>\n",
              "      <th>2</th>\n",
              "      <td>2013-01-01</td>\n",
              "    </tr>\n",
              "    <tr>\n",
              "      <th>3</th>\n",
              "      <td>2013-01-01</td>\n",
              "    </tr>\n",
              "    <tr>\n",
              "      <th>4</th>\n",
              "      <td>2013-01-01</td>\n",
              "    </tr>\n",
              "    <tr>\n",
              "      <th>...</th>\n",
              "      <td>...</td>\n",
              "    </tr>\n",
              "    <tr>\n",
              "      <th>224917</th>\n",
              "      <td>2021-10-28</td>\n",
              "    </tr>\n",
              "    <tr>\n",
              "      <th>224918</th>\n",
              "      <td>2021-10-28</td>\n",
              "    </tr>\n",
              "    <tr>\n",
              "      <th>224919</th>\n",
              "      <td>2021-10-28</td>\n",
              "    </tr>\n",
              "    <tr>\n",
              "      <th>224920</th>\n",
              "      <td>2021-10-28</td>\n",
              "    </tr>\n",
              "    <tr>\n",
              "      <th>224921</th>\n",
              "      <td>2021-10-28</td>\n",
              "    </tr>\n",
              "  </tbody>\n",
              "</table>\n",
              "<p>360866 rows × 1 columns</p>\n",
              "</div>"
            ],
            "text/plain": [
              "             date\n",
              "0      2013-01-01\n",
              "1      2013-01-01\n",
              "2      2013-01-01\n",
              "3      2013-01-01\n",
              "4      2013-01-01\n",
              "...           ...\n",
              "224917 2021-10-28\n",
              "224918 2021-10-28\n",
              "224919 2021-10-28\n",
              "224920 2021-10-28\n",
              "224921 2021-10-28\n",
              "\n",
              "[360866 rows x 1 columns]"
            ]
          },
          "metadata": {},
          "execution_count": 110
        }
      ]
    },
    {
      "cell_type": "code",
      "metadata": {
        "colab": {
          "base_uri": "https://localhost:8080/",
          "height": 203
        },
        "id": "iTEL1hQUjjWH",
        "outputId": "1eafea5c-d081-48b8-ada5-f474d46402cb"
      },
      "source": [
        "merged_data = station_data.merge(buoy_mean, how = \"inner\", left_on = [\"date\", \"hour\"], \n",
        "                                 right_on = [\"date\",\"hh\"], left_index = True)\n",
        "\n",
        "merged_data.head()"
      ],
      "id": "iTEL1hQUjjWH",
      "execution_count": 114,
      "outputs": [
        {
          "output_type": "execute_result",
          "data": {
            "text/html": [
              "<div>\n",
              "<style scoped>\n",
              "    .dataframe tbody tr th:only-of-type {\n",
              "        vertical-align: middle;\n",
              "    }\n",
              "\n",
              "    .dataframe tbody tr th {\n",
              "        vertical-align: top;\n",
              "    }\n",
              "\n",
              "    .dataframe thead th {\n",
              "        text-align: right;\n",
              "    }\n",
              "</style>\n",
              "<table border=\"1\" class=\"dataframe\">\n",
              "  <thead>\n",
              "    <tr style=\"text-align: right;\">\n",
              "      <th></th>\n",
              "      <th>date</th>\n",
              "      <th>hour</th>\n",
              "      <th>station</th>\n",
              "      <th>tmpc</th>\n",
              "      <th>dwpc</th>\n",
              "      <th>relh</th>\n",
              "      <th>feel</th>\n",
              "      <th>drct</th>\n",
              "      <th>sped</th>\n",
              "      <th>p01i</th>\n",
              "      <th>skyc1</th>\n",
              "      <th>hh</th>\n",
              "      <th>mm</th>\n",
              "      <th>WDIR</th>\n",
              "      <th>WSPD</th>\n",
              "      <th>GST</th>\n",
              "      <th>PRES</th>\n",
              "      <th>ATMP</th>\n",
              "      <th>WTMP</th>\n",
              "    </tr>\n",
              "  </thead>\n",
              "  <tbody>\n",
              "    <tr>\n",
              "      <th>53810</th>\n",
              "      <td>2013-01-01</td>\n",
              "      <td>0</td>\n",
              "      <td>HXD</td>\n",
              "      <td>8.0</td>\n",
              "      <td>7.0</td>\n",
              "      <td>93.40</td>\n",
              "      <td>46.40</td>\n",
              "      <td>0.0</td>\n",
              "      <td>0.0</td>\n",
              "      <td>0.00</td>\n",
              "      <td>CLR</td>\n",
              "      <td>0</td>\n",
              "      <td>0</td>\n",
              "      <td>120.0</td>\n",
              "      <td>2.0</td>\n",
              "      <td>7.296079</td>\n",
              "      <td>1017.408303</td>\n",
              "      <td>11.0</td>\n",
              "      <td>21.836225</td>\n",
              "    </tr>\n",
              "    <tr>\n",
              "      <th>53810</th>\n",
              "      <td>2013-01-01</td>\n",
              "      <td>0</td>\n",
              "      <td>SUT</td>\n",
              "      <td>5.0</td>\n",
              "      <td>2.7</td>\n",
              "      <td>85.07</td>\n",
              "      <td>41.00</td>\n",
              "      <td>0.0</td>\n",
              "      <td>0.0</td>\n",
              "      <td>0</td>\n",
              "      <td>SCT</td>\n",
              "      <td>0</td>\n",
              "      <td>0</td>\n",
              "      <td>120.0</td>\n",
              "      <td>2.0</td>\n",
              "      <td>7.296079</td>\n",
              "      <td>1017.408303</td>\n",
              "      <td>11.0</td>\n",
              "      <td>21.836225</td>\n",
              "    </tr>\n",
              "    <tr>\n",
              "      <th>53810</th>\n",
              "      <td>2013-01-01</td>\n",
              "      <td>0</td>\n",
              "      <td>SUT</td>\n",
              "      <td>4.6</td>\n",
              "      <td>2.8</td>\n",
              "      <td>88.10</td>\n",
              "      <td>40.28</td>\n",
              "      <td>0.0</td>\n",
              "      <td>0.0</td>\n",
              "      <td>0</td>\n",
              "      <td>SCT</td>\n",
              "      <td>0</td>\n",
              "      <td>0</td>\n",
              "      <td>120.0</td>\n",
              "      <td>2.0</td>\n",
              "      <td>7.296079</td>\n",
              "      <td>1017.408303</td>\n",
              "      <td>11.0</td>\n",
              "      <td>21.836225</td>\n",
              "    </tr>\n",
              "    <tr>\n",
              "      <th>53810</th>\n",
              "      <td>2013-01-01</td>\n",
              "      <td>0</td>\n",
              "      <td>SUT</td>\n",
              "      <td>4.7</td>\n",
              "      <td>2.7</td>\n",
              "      <td>86.86</td>\n",
              "      <td>40.46</td>\n",
              "      <td>0.0</td>\n",
              "      <td>0.0</td>\n",
              "      <td>0</td>\n",
              "      <td>SCT</td>\n",
              "      <td>0</td>\n",
              "      <td>0</td>\n",
              "      <td>120.0</td>\n",
              "      <td>2.0</td>\n",
              "      <td>7.296079</td>\n",
              "      <td>1017.408303</td>\n",
              "      <td>11.0</td>\n",
              "      <td>21.836225</td>\n",
              "    </tr>\n",
              "    <tr>\n",
              "      <th>53811</th>\n",
              "      <td>2013-01-01</td>\n",
              "      <td>1</td>\n",
              "      <td>HXD</td>\n",
              "      <td>7.0</td>\n",
              "      <td>7.0</td>\n",
              "      <td>100.00</td>\n",
              "      <td>44.60</td>\n",
              "      <td>0.0</td>\n",
              "      <td>0.0</td>\n",
              "      <td>T</td>\n",
              "      <td>CLR</td>\n",
              "      <td>1</td>\n",
              "      <td>0</td>\n",
              "      <td>140.0</td>\n",
              "      <td>1.0</td>\n",
              "      <td>7.296079</td>\n",
              "      <td>1017.408303</td>\n",
              "      <td>11.0</td>\n",
              "      <td>21.836225</td>\n",
              "    </tr>\n",
              "  </tbody>\n",
              "</table>\n",
              "</div>"
            ],
            "text/plain": [
              "            date  hour station  tmpc  ...       GST         PRES  ATMP       WTMP\n",
              "53810 2013-01-01     0     HXD   8.0  ...  7.296079  1017.408303  11.0  21.836225\n",
              "53810 2013-01-01     0     SUT   5.0  ...  7.296079  1017.408303  11.0  21.836225\n",
              "53810 2013-01-01     0     SUT   4.6  ...  7.296079  1017.408303  11.0  21.836225\n",
              "53810 2013-01-01     0     SUT   4.7  ...  7.296079  1017.408303  11.0  21.836225\n",
              "53811 2013-01-01     1     HXD   7.0  ...  7.296079  1017.408303  11.0  21.836225\n",
              "\n",
              "[5 rows x 19 columns]"
            ]
          },
          "metadata": {},
          "execution_count": 114
        }
      ]
    },
    {
      "cell_type": "code",
      "metadata": {
        "colab": {
          "base_uri": "https://localhost:8080/",
          "height": 511
        },
        "id": "SEfMsXvLj4lK",
        "outputId": "5230f7a3-4b73-4dfd-99ab-525322485fc0"
      },
      "source": [
        "#merged_data = merged_data.drop(labels = [\"hh\", \"mm\"], axis = 1)\n",
        "\n",
        "#merged_data.reset_index()\n",
        "merged_data.head(15)"
      ],
      "id": "SEfMsXvLj4lK",
      "execution_count": 119,
      "outputs": [
        {
          "output_type": "execute_result",
          "data": {
            "text/html": [
              "<div>\n",
              "<style scoped>\n",
              "    .dataframe tbody tr th:only-of-type {\n",
              "        vertical-align: middle;\n",
              "    }\n",
              "\n",
              "    .dataframe tbody tr th {\n",
              "        vertical-align: top;\n",
              "    }\n",
              "\n",
              "    .dataframe thead th {\n",
              "        text-align: right;\n",
              "    }\n",
              "</style>\n",
              "<table border=\"1\" class=\"dataframe\">\n",
              "  <thead>\n",
              "    <tr style=\"text-align: right;\">\n",
              "      <th></th>\n",
              "      <th>date</th>\n",
              "      <th>hour</th>\n",
              "      <th>station</th>\n",
              "      <th>tmpc</th>\n",
              "      <th>dwpc</th>\n",
              "      <th>relh</th>\n",
              "      <th>feel</th>\n",
              "      <th>drct</th>\n",
              "      <th>sped</th>\n",
              "      <th>p01i</th>\n",
              "      <th>skyc1</th>\n",
              "      <th>WDIR</th>\n",
              "      <th>WSPD</th>\n",
              "      <th>GST</th>\n",
              "      <th>PRES</th>\n",
              "      <th>ATMP</th>\n",
              "      <th>WTMP</th>\n",
              "    </tr>\n",
              "  </thead>\n",
              "  <tbody>\n",
              "    <tr>\n",
              "      <th>53810</th>\n",
              "      <td>2013-01-01</td>\n",
              "      <td>0</td>\n",
              "      <td>HXD</td>\n",
              "      <td>8.0</td>\n",
              "      <td>7.0</td>\n",
              "      <td>93.40</td>\n",
              "      <td>46.40</td>\n",
              "      <td>0.0</td>\n",
              "      <td>0.00</td>\n",
              "      <td>0.00</td>\n",
              "      <td>CLR</td>\n",
              "      <td>120.0</td>\n",
              "      <td>2.0</td>\n",
              "      <td>7.296079</td>\n",
              "      <td>1017.408303</td>\n",
              "      <td>11.0</td>\n",
              "      <td>21.836225</td>\n",
              "    </tr>\n",
              "    <tr>\n",
              "      <th>53810</th>\n",
              "      <td>2013-01-01</td>\n",
              "      <td>0</td>\n",
              "      <td>SUT</td>\n",
              "      <td>5.0</td>\n",
              "      <td>2.7</td>\n",
              "      <td>85.07</td>\n",
              "      <td>41.00</td>\n",
              "      <td>0.0</td>\n",
              "      <td>0.00</td>\n",
              "      <td>0</td>\n",
              "      <td>SCT</td>\n",
              "      <td>120.0</td>\n",
              "      <td>2.0</td>\n",
              "      <td>7.296079</td>\n",
              "      <td>1017.408303</td>\n",
              "      <td>11.0</td>\n",
              "      <td>21.836225</td>\n",
              "    </tr>\n",
              "    <tr>\n",
              "      <th>53810</th>\n",
              "      <td>2013-01-01</td>\n",
              "      <td>0</td>\n",
              "      <td>SUT</td>\n",
              "      <td>4.6</td>\n",
              "      <td>2.8</td>\n",
              "      <td>88.10</td>\n",
              "      <td>40.28</td>\n",
              "      <td>0.0</td>\n",
              "      <td>0.00</td>\n",
              "      <td>0</td>\n",
              "      <td>SCT</td>\n",
              "      <td>120.0</td>\n",
              "      <td>2.0</td>\n",
              "      <td>7.296079</td>\n",
              "      <td>1017.408303</td>\n",
              "      <td>11.0</td>\n",
              "      <td>21.836225</td>\n",
              "    </tr>\n",
              "    <tr>\n",
              "      <th>53810</th>\n",
              "      <td>2013-01-01</td>\n",
              "      <td>0</td>\n",
              "      <td>SUT</td>\n",
              "      <td>4.7</td>\n",
              "      <td>2.7</td>\n",
              "      <td>86.86</td>\n",
              "      <td>40.46</td>\n",
              "      <td>0.0</td>\n",
              "      <td>0.00</td>\n",
              "      <td>0</td>\n",
              "      <td>SCT</td>\n",
              "      <td>120.0</td>\n",
              "      <td>2.0</td>\n",
              "      <td>7.296079</td>\n",
              "      <td>1017.408303</td>\n",
              "      <td>11.0</td>\n",
              "      <td>21.836225</td>\n",
              "    </tr>\n",
              "    <tr>\n",
              "      <th>53811</th>\n",
              "      <td>2013-01-01</td>\n",
              "      <td>1</td>\n",
              "      <td>HXD</td>\n",
              "      <td>7.0</td>\n",
              "      <td>7.0</td>\n",
              "      <td>100.00</td>\n",
              "      <td>44.60</td>\n",
              "      <td>0.0</td>\n",
              "      <td>0.00</td>\n",
              "      <td>T</td>\n",
              "      <td>CLR</td>\n",
              "      <td>140.0</td>\n",
              "      <td>1.0</td>\n",
              "      <td>7.296079</td>\n",
              "      <td>1017.408303</td>\n",
              "      <td>11.0</td>\n",
              "      <td>21.836225</td>\n",
              "    </tr>\n",
              "    <tr>\n",
              "      <th>53811</th>\n",
              "      <td>2013-01-01</td>\n",
              "      <td>1</td>\n",
              "      <td>HXD</td>\n",
              "      <td>6.0</td>\n",
              "      <td>6.0</td>\n",
              "      <td>100.00</td>\n",
              "      <td>42.80</td>\n",
              "      <td>0.0</td>\n",
              "      <td>0.00</td>\n",
              "      <td>T</td>\n",
              "      <td>CLR</td>\n",
              "      <td>140.0</td>\n",
              "      <td>1.0</td>\n",
              "      <td>7.296079</td>\n",
              "      <td>1017.408303</td>\n",
              "      <td>11.0</td>\n",
              "      <td>21.836225</td>\n",
              "    </tr>\n",
              "    <tr>\n",
              "      <th>53811</th>\n",
              "      <td>2013-01-01</td>\n",
              "      <td>1</td>\n",
              "      <td>HXD</td>\n",
              "      <td>8.0</td>\n",
              "      <td>6.0</td>\n",
              "      <td>87.19</td>\n",
              "      <td>46.40</td>\n",
              "      <td>0.0</td>\n",
              "      <td>0.00</td>\n",
              "      <td>0.00</td>\n",
              "      <td>CLR</td>\n",
              "      <td>140.0</td>\n",
              "      <td>1.0</td>\n",
              "      <td>7.296079</td>\n",
              "      <td>1017.408303</td>\n",
              "      <td>11.0</td>\n",
              "      <td>21.836225</td>\n",
              "    </tr>\n",
              "    <tr>\n",
              "      <th>53811</th>\n",
              "      <td>2013-01-01</td>\n",
              "      <td>1</td>\n",
              "      <td>HXD</td>\n",
              "      <td>6.0</td>\n",
              "      <td>6.0</td>\n",
              "      <td>100.00</td>\n",
              "      <td>42.80</td>\n",
              "      <td>0.0</td>\n",
              "      <td>0.00</td>\n",
              "      <td>T</td>\n",
              "      <td>CLR</td>\n",
              "      <td>140.0</td>\n",
              "      <td>1.0</td>\n",
              "      <td>7.296079</td>\n",
              "      <td>1017.408303</td>\n",
              "      <td>11.0</td>\n",
              "      <td>21.836225</td>\n",
              "    </tr>\n",
              "    <tr>\n",
              "      <th>53811</th>\n",
              "      <td>2013-01-01</td>\n",
              "      <td>1</td>\n",
              "      <td>SUT</td>\n",
              "      <td>4.9</td>\n",
              "      <td>3.2</td>\n",
              "      <td>88.75</td>\n",
              "      <td>40.82</td>\n",
              "      <td>0.0</td>\n",
              "      <td>0.00</td>\n",
              "      <td>0</td>\n",
              "      <td>CLR</td>\n",
              "      <td>140.0</td>\n",
              "      <td>1.0</td>\n",
              "      <td>7.296079</td>\n",
              "      <td>1017.408303</td>\n",
              "      <td>11.0</td>\n",
              "      <td>21.836225</td>\n",
              "    </tr>\n",
              "    <tr>\n",
              "      <th>53811</th>\n",
              "      <td>2013-01-01</td>\n",
              "      <td>1</td>\n",
              "      <td>SUT</td>\n",
              "      <td>5.8</td>\n",
              "      <td>3.6</td>\n",
              "      <td>85.76</td>\n",
              "      <td>42.44</td>\n",
              "      <td>0.0</td>\n",
              "      <td>0.00</td>\n",
              "      <td>0</td>\n",
              "      <td>CLR</td>\n",
              "      <td>140.0</td>\n",
              "      <td>1.0</td>\n",
              "      <td>7.296079</td>\n",
              "      <td>1017.408303</td>\n",
              "      <td>11.0</td>\n",
              "      <td>21.836225</td>\n",
              "    </tr>\n",
              "    <tr>\n",
              "      <th>53811</th>\n",
              "      <td>2013-01-01</td>\n",
              "      <td>1</td>\n",
              "      <td>SUT</td>\n",
              "      <td>6.5</td>\n",
              "      <td>4.1</td>\n",
              "      <td>84.63</td>\n",
              "      <td>43.70</td>\n",
              "      <td>0.0</td>\n",
              "      <td>0.00</td>\n",
              "      <td>0</td>\n",
              "      <td>SCT</td>\n",
              "      <td>140.0</td>\n",
              "      <td>1.0</td>\n",
              "      <td>7.296079</td>\n",
              "      <td>1017.408303</td>\n",
              "      <td>11.0</td>\n",
              "      <td>21.836225</td>\n",
              "    </tr>\n",
              "    <tr>\n",
              "      <th>53812</th>\n",
              "      <td>2013-01-01</td>\n",
              "      <td>2</td>\n",
              "      <td>HXD</td>\n",
              "      <td>6.0</td>\n",
              "      <td>6.0</td>\n",
              "      <td>100.00</td>\n",
              "      <td>42.80</td>\n",
              "      <td>0.0</td>\n",
              "      <td>0.00</td>\n",
              "      <td>T</td>\n",
              "      <td>CLR</td>\n",
              "      <td>180.0</td>\n",
              "      <td>1.0</td>\n",
              "      <td>7.296079</td>\n",
              "      <td>1017.408303</td>\n",
              "      <td>11.4</td>\n",
              "      <td>21.836225</td>\n",
              "    </tr>\n",
              "    <tr>\n",
              "      <th>53812</th>\n",
              "      <td>2013-01-01</td>\n",
              "      <td>2</td>\n",
              "      <td>HXD</td>\n",
              "      <td>6.0</td>\n",
              "      <td>6.0</td>\n",
              "      <td>100.00</td>\n",
              "      <td>42.80</td>\n",
              "      <td>0.0</td>\n",
              "      <td>0.00</td>\n",
              "      <td>T</td>\n",
              "      <td>SCT</td>\n",
              "      <td>180.0</td>\n",
              "      <td>1.0</td>\n",
              "      <td>7.296079</td>\n",
              "      <td>1017.408303</td>\n",
              "      <td>11.4</td>\n",
              "      <td>21.836225</td>\n",
              "    </tr>\n",
              "    <tr>\n",
              "      <th>53812</th>\n",
              "      <td>2013-01-01</td>\n",
              "      <td>2</td>\n",
              "      <td>HXD</td>\n",
              "      <td>7.0</td>\n",
              "      <td>7.0</td>\n",
              "      <td>100.00</td>\n",
              "      <td>44.60</td>\n",
              "      <td>0.0</td>\n",
              "      <td>0.00</td>\n",
              "      <td>T</td>\n",
              "      <td>OVC</td>\n",
              "      <td>180.0</td>\n",
              "      <td>1.0</td>\n",
              "      <td>7.296079</td>\n",
              "      <td>1017.408303</td>\n",
              "      <td>11.4</td>\n",
              "      <td>21.836225</td>\n",
              "    </tr>\n",
              "    <tr>\n",
              "      <th>53812</th>\n",
              "      <td>2013-01-01</td>\n",
              "      <td>2</td>\n",
              "      <td>SUT</td>\n",
              "      <td>7.6</td>\n",
              "      <td>5.6</td>\n",
              "      <td>87.15</td>\n",
              "      <td>44.33</td>\n",
              "      <td>210.0</td>\n",
              "      <td>3.45</td>\n",
              "      <td>0</td>\n",
              "      <td>SCT</td>\n",
              "      <td>180.0</td>\n",
              "      <td>1.0</td>\n",
              "      <td>7.296079</td>\n",
              "      <td>1017.408303</td>\n",
              "      <td>11.4</td>\n",
              "      <td>21.836225</td>\n",
              "    </tr>\n",
              "  </tbody>\n",
              "</table>\n",
              "</div>"
            ],
            "text/plain": [
              "            date  hour station  tmpc  ...       GST         PRES  ATMP       WTMP\n",
              "53810 2013-01-01     0     HXD   8.0  ...  7.296079  1017.408303  11.0  21.836225\n",
              "53810 2013-01-01     0     SUT   5.0  ...  7.296079  1017.408303  11.0  21.836225\n",
              "53810 2013-01-01     0     SUT   4.6  ...  7.296079  1017.408303  11.0  21.836225\n",
              "53810 2013-01-01     0     SUT   4.7  ...  7.296079  1017.408303  11.0  21.836225\n",
              "53811 2013-01-01     1     HXD   7.0  ...  7.296079  1017.408303  11.0  21.836225\n",
              "53811 2013-01-01     1     HXD   6.0  ...  7.296079  1017.408303  11.0  21.836225\n",
              "53811 2013-01-01     1     HXD   8.0  ...  7.296079  1017.408303  11.0  21.836225\n",
              "53811 2013-01-01     1     HXD   6.0  ...  7.296079  1017.408303  11.0  21.836225\n",
              "53811 2013-01-01     1     SUT   4.9  ...  7.296079  1017.408303  11.0  21.836225\n",
              "53811 2013-01-01     1     SUT   5.8  ...  7.296079  1017.408303  11.0  21.836225\n",
              "53811 2013-01-01     1     SUT   6.5  ...  7.296079  1017.408303  11.0  21.836225\n",
              "53812 2013-01-01     2     HXD   6.0  ...  7.296079  1017.408303  11.4  21.836225\n",
              "53812 2013-01-01     2     HXD   6.0  ...  7.296079  1017.408303  11.4  21.836225\n",
              "53812 2013-01-01     2     HXD   7.0  ...  7.296079  1017.408303  11.4  21.836225\n",
              "53812 2013-01-01     2     SUT   7.6  ...  7.296079  1017.408303  11.4  21.836225\n",
              "\n",
              "[15 rows x 17 columns]"
            ]
          },
          "metadata": {},
          "execution_count": 119
        }
      ]
    },
    {
      "cell_type": "code",
      "metadata": {
        "colab": {
          "base_uri": "https://localhost:8080/"
        },
        "id": "AL67ecUe3kmw",
        "outputId": "e1340ba8-3c89-458b-b765-9a31ea19be5c"
      },
      "source": [
        "merged_data.info()"
      ],
      "id": "AL67ecUe3kmw",
      "execution_count": 122,
      "outputs": [
        {
          "output_type": "stream",
          "name": "stdout",
          "text": [
            "<class 'pandas.core.frame.DataFrame'>\n",
            "Int64Index: 276824 entries, 53810 to 8171\n",
            "Data columns (total 17 columns):\n",
            " #   Column   Non-Null Count   Dtype         \n",
            "---  ------   --------------   -----         \n",
            " 0   date     276824 non-null  datetime64[ns]\n",
            " 1   hour     276824 non-null  int64         \n",
            " 2   station  276824 non-null  object        \n",
            " 3   tmpc     276824 non-null  float64       \n",
            " 4   dwpc     276824 non-null  float64       \n",
            " 5   relh     276824 non-null  float64       \n",
            " 6   feel     276824 non-null  float64       \n",
            " 7   drct     276824 non-null  float64       \n",
            " 8   sped     276824 non-null  float64       \n",
            " 9   p01i     276824 non-null  object        \n",
            " 10  skyc1    276824 non-null  object        \n",
            " 11  WDIR     276824 non-null  float64       \n",
            " 12  WSPD     276824 non-null  float64       \n",
            " 13  GST      276824 non-null  float64       \n",
            " 14  PRES     276824 non-null  float64       \n",
            " 15  ATMP     276824 non-null  float64       \n",
            " 16  WTMP     276824 non-null  float64       \n",
            "dtypes: datetime64[ns](1), float64(12), int64(1), object(3)\n",
            "memory usage: 38.0+ MB\n"
          ]
        }
      ]
    },
    {
      "cell_type": "code",
      "metadata": {
        "id": "jtrQ28NQmhkw"
      },
      "source": [
        "merged_data.to_csv(\"merged_data.csv\")"
      ],
      "id": "jtrQ28NQmhkw",
      "execution_count": 116,
      "outputs": []
    }
  ]
}