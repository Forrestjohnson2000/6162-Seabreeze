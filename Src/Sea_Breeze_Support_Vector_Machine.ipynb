{
  "nbformat": 4,
  "nbformat_minor": 0,
  "metadata": {
    "colab": {
      "name": "Sea Breeze Support Vector Machine.ipynb",
      "provenance": [],
      "collapsed_sections": [],
      "include_colab_link": true
    },
    "kernelspec": {
      "name": "python3",
      "display_name": "Python 3"
    },
    "language_info": {
      "name": "python"
    }
  },
  "cells": [
    {
      "cell_type": "markdown",
      "metadata": {
        "id": "view-in-github",
        "colab_type": "text"
      },
      "source": [
        "<a href=\"https://colab.research.google.com/github/Forrestjohnson2000/6162-Seabreeze/blob/main/Src/Sea_Breeze_Support_Vector_Machine.ipynb\" target=\"_parent\"><img src=\"https://colab.research.google.com/assets/colab-badge.svg\" alt=\"Open In Colab\"/></a>"
      ]
    },
    {
      "cell_type": "markdown",
      "metadata": {
        "id": "lWee4YrUuism"
      },
      "source": [
        "# Sea Breeze Support Vector Machine\n"
      ]
    },
    {
      "cell_type": "markdown",
      "metadata": {
        "id": "MlYhijs7_Bmx"
      },
      "source": [
        "## Preprocessing for an SVM Model"
      ]
    },
    {
      "cell_type": "code",
      "metadata": {
        "id": "Xof35dCHrGAl"
      },
      "source": [
        "#Immport libraries\n",
        "import pandas as pd\n",
        "import matplotlib.pyplot as plt\n",
        "import sklearn\n",
        "from sklearn.model_selection import train_test_split, cross_val_score\n",
        "from sklearn.preprocessing import StandardScaler\n",
        "from sklearn.metrics import classification_report, confusion_matrix, accuracy_score, r2_score, mean_squared_error"
      ],
      "execution_count": null,
      "outputs": []
    },
    {
      "cell_type": "code",
      "metadata": {
        "colab": {
          "base_uri": "https://localhost:8080/",
          "height": 424
        },
        "id": "aEZ99wqHN2-u",
        "outputId": "59b9ee8c-c17b-4a93-b502-6cd38755a23a"
      },
      "source": [
        "#Read csv\n",
        "df = pd.read_csv(\"https://raw.githubusercontent.com/Forrestjohnson2000/6162-Seabreeze/main/Data/prepped_data.csv\")\n",
        "df = df.drop([\"Unnamed: 0\", 'date', 'hour'], axis=1)\n",
        "df"
      ],
      "execution_count": null,
      "outputs": [
        {
          "output_type": "execute_result",
          "data": {
            "text/html": [
              "<div>\n",
              "<style scoped>\n",
              "    .dataframe tbody tr th:only-of-type {\n",
              "        vertical-align: middle;\n",
              "    }\n",
              "\n",
              "    .dataframe tbody tr th {\n",
              "        vertical-align: top;\n",
              "    }\n",
              "\n",
              "    .dataframe thead th {\n",
              "        text-align: right;\n",
              "    }\n",
              "</style>\n",
              "<table border=\"1\" class=\"dataframe\">\n",
              "  <thead>\n",
              "    <tr style=\"text-align: right;\">\n",
              "      <th></th>\n",
              "      <th>drct</th>\n",
              "      <th>sped</th>\n",
              "      <th>WDIR</th>\n",
              "      <th>WSPD</th>\n",
              "      <th>PRES</th>\n",
              "      <th>WTMP</th>\n",
              "      <th>SBI</th>\n",
              "      <th>AttackCat</th>\n",
              "    </tr>\n",
              "  </thead>\n",
              "  <tbody>\n",
              "    <tr>\n",
              "      <th>0</th>\n",
              "      <td>67.500000</td>\n",
              "      <td>8.0500</td>\n",
              "      <td>250.0</td>\n",
              "      <td>4.0</td>\n",
              "      <td>1017.408303</td>\n",
              "      <td>21.836225</td>\n",
              "      <td>4.547025</td>\n",
              "      <td>0.0</td>\n",
              "    </tr>\n",
              "    <tr>\n",
              "      <th>1</th>\n",
              "      <td>22.500000</td>\n",
              "      <td>2.0125</td>\n",
              "      <td>80.0</td>\n",
              "      <td>5.0</td>\n",
              "      <td>1017.408303</td>\n",
              "      <td>21.836225</td>\n",
              "      <td>6.092861</td>\n",
              "      <td>0.0</td>\n",
              "    </tr>\n",
              "    <tr>\n",
              "      <th>2</th>\n",
              "      <td>25.000000</td>\n",
              "      <td>8.3375</td>\n",
              "      <td>50.0</td>\n",
              "      <td>6.0</td>\n",
              "      <td>1017.408303</td>\n",
              "      <td>21.836225</td>\n",
              "      <td>7.273592</td>\n",
              "      <td>0.0</td>\n",
              "    </tr>\n",
              "    <tr>\n",
              "      <th>3</th>\n",
              "      <td>0.000000</td>\n",
              "      <td>0.0000</td>\n",
              "      <td>350.0</td>\n",
              "      <td>5.0</td>\n",
              "      <td>1017.408303</td>\n",
              "      <td>21.836225</td>\n",
              "      <td>5.821537</td>\n",
              "      <td>0.0</td>\n",
              "    </tr>\n",
              "    <tr>\n",
              "      <th>4</th>\n",
              "      <td>25.000000</td>\n",
              "      <td>9.4875</td>\n",
              "      <td>50.0</td>\n",
              "      <td>8.0</td>\n",
              "      <td>1017.408303</td>\n",
              "      <td>21.836225</td>\n",
              "      <td>6.718124</td>\n",
              "      <td>0.0</td>\n",
              "    </tr>\n",
              "    <tr>\n",
              "      <th>...</th>\n",
              "      <td>...</td>\n",
              "      <td>...</td>\n",
              "      <td>...</td>\n",
              "      <td>...</td>\n",
              "      <td>...</td>\n",
              "      <td>...</td>\n",
              "      <td>...</td>\n",
              "      <td>...</td>\n",
              "    </tr>\n",
              "    <tr>\n",
              "      <th>3166</th>\n",
              "      <td>32.500000</td>\n",
              "      <td>6.3250</td>\n",
              "      <td>38.0</td>\n",
              "      <td>6.6</td>\n",
              "      <td>1032.100000</td>\n",
              "      <td>13.900000</td>\n",
              "      <td>4.738069</td>\n",
              "      <td>0.0</td>\n",
              "    </tr>\n",
              "    <tr>\n",
              "      <th>3167</th>\n",
              "      <td>250.000000</td>\n",
              "      <td>11.7875</td>\n",
              "      <td>269.0</td>\n",
              "      <td>0.8</td>\n",
              "      <td>1025.500000</td>\n",
              "      <td>13.900000</td>\n",
              "      <td>3.090149</td>\n",
              "      <td>0.0</td>\n",
              "    </tr>\n",
              "    <tr>\n",
              "      <th>3168</th>\n",
              "      <td>48.792615</td>\n",
              "      <td>6.3250</td>\n",
              "      <td>270.0</td>\n",
              "      <td>1.8</td>\n",
              "      <td>1021.500000</td>\n",
              "      <td>14.400000</td>\n",
              "      <td>5.244294</td>\n",
              "      <td>0.0</td>\n",
              "    </tr>\n",
              "    <tr>\n",
              "      <th>3169</th>\n",
              "      <td>222.500000</td>\n",
              "      <td>12.3625</td>\n",
              "      <td>225.0</td>\n",
              "      <td>8.3</td>\n",
              "      <td>1012.900000</td>\n",
              "      <td>14.300000</td>\n",
              "      <td>3.314484</td>\n",
              "      <td>0.0</td>\n",
              "    </tr>\n",
              "    <tr>\n",
              "      <th>3170</th>\n",
              "      <td>282.500000</td>\n",
              "      <td>13.2250</td>\n",
              "      <td>306.0</td>\n",
              "      <td>7.9</td>\n",
              "      <td>1022.500000</td>\n",
              "      <td>14.000000</td>\n",
              "      <td>7.603387</td>\n",
              "      <td>0.0</td>\n",
              "    </tr>\n",
              "  </tbody>\n",
              "</table>\n",
              "<p>3171 rows × 8 columns</p>\n",
              "</div>"
            ],
            "text/plain": [
              "            drct     sped   WDIR  ...       WTMP       SBI  AttackCat\n",
              "0      67.500000   8.0500  250.0  ...  21.836225  4.547025        0.0\n",
              "1      22.500000   2.0125   80.0  ...  21.836225  6.092861        0.0\n",
              "2      25.000000   8.3375   50.0  ...  21.836225  7.273592        0.0\n",
              "3       0.000000   0.0000  350.0  ...  21.836225  5.821537        0.0\n",
              "4      25.000000   9.4875   50.0  ...  21.836225  6.718124        0.0\n",
              "...          ...      ...    ...  ...        ...       ...        ...\n",
              "3166   32.500000   6.3250   38.0  ...  13.900000  4.738069        0.0\n",
              "3167  250.000000  11.7875  269.0  ...  13.900000  3.090149        0.0\n",
              "3168   48.792615   6.3250  270.0  ...  14.400000  5.244294        0.0\n",
              "3169  222.500000  12.3625  225.0  ...  14.300000  3.314484        0.0\n",
              "3170  282.500000  13.2250  306.0  ...  14.000000  7.603387        0.0\n",
              "\n",
              "[3171 rows x 8 columns]"
            ]
          },
          "metadata": {},
          "execution_count": 100
        }
      ]
    },
    {
      "cell_type": "code",
      "metadata": {
        "id": "0LxerjSPOzJo"
      },
      "source": [
        "#Define X and y\n",
        "y = df['AttackCat']\n",
        "X = df.drop([\"AttackCat\"], axis=1)"
      ],
      "execution_count": null,
      "outputs": []
    },
    {
      "cell_type": "markdown",
      "metadata": {
        "id": "sleJOndvChcl"
      },
      "source": [
        "The data needs to be scaled for an SVM model."
      ]
    },
    {
      "cell_type": "code",
      "metadata": {
        "id": "PbpUzAjLobSN"
      },
      "source": [
        "#Scaling numeric inputs\n",
        "from sklearn.preprocessing import StandardScaler\n",
        "ss = StandardScaler()\n",
        "X\n",
        "X = pd.DataFrame(ss.fit_transform(X), columns = X.columns)\n",
        "\n",
        "X_train, X_test, y_train, y_test = train_test_split(X, y, stratify=y, train_size=.8)"
      ],
      "execution_count": null,
      "outputs": []
    },
    {
      "cell_type": "markdown",
      "metadata": {
        "id": "hi5rsvsQ_SaU"
      },
      "source": [
        "## Create SVM Model Baseline"
      ]
    },
    {
      "cell_type": "code",
      "metadata": {
        "id": "0bwM2HelOY8S"
      },
      "source": [
        "#Import svm model\n",
        "from sklearn import svm\n",
        "\n",
        "#Create a svm Classifier\n",
        "clf = svm.SVC(kernel='linear') # Linear Kernel\n",
        "\n",
        "#Train the model using the training sets\n",
        "clf.fit(X_train, y_train)\n",
        "\n",
        "#Predict the response for test dataset\n",
        "y_pred = clf.predict(X_test)"
      ],
      "execution_count": null,
      "outputs": []
    },
    {
      "cell_type": "markdown",
      "metadata": {
        "id": "Enb_3PGx_ZhD"
      },
      "source": [
        "## Evaluate Baseline"
      ]
    },
    {
      "cell_type": "code",
      "metadata": {
        "colab": {
          "base_uri": "https://localhost:8080/"
        },
        "id": "XVc14eFQo1y7",
        "outputId": "d2f3f87a-58e3-41e5-a9b2-2aa4ac42c278"
      },
      "source": [
        "#Import scikit-learn metrics module for accuracy calculation\n",
        "from sklearn import metrics\n",
        "from sklearn.metrics import classification_report, roc_auc_score\n",
        "\n",
        "# Model Accuracy: how often is the classifier correct?\n",
        "print(\"Accuracy:\",metrics.accuracy_score(y_test, y_pred))\n",
        "print(\"ROC AUC score: \", roc_auc_score(y_test, y_pred))"
      ],
      "execution_count": null,
      "outputs": [
        {
          "output_type": "stream",
          "name": "stdout",
          "text": [
            "Accuracy: 0.9700787401574803\n",
            "ROC AUC score:  0.5\n"
          ]
        }
      ]
    },
    {
      "cell_type": "code",
      "metadata": {
        "id": "sGx2KpglpPgq"
      },
      "source": [
        "score_baseline = clf.score(X_test, y_test)"
      ],
      "execution_count": null,
      "outputs": []
    },
    {
      "cell_type": "code",
      "metadata": {
        "colab": {
          "base_uri": "https://localhost:8080/",
          "height": 526
        },
        "id": "M4c0fQ7oo60j",
        "outputId": "57dd9bc6-bfbb-4c18-f8b5-c6a095ca6b5d"
      },
      "source": [
        "import seaborn as sns\n",
        "cm = metrics.confusion_matrix(y_test, y_pred)\n",
        "plt.figure(figsize=(9,9))\n",
        "sns.heatmap(cm, annot=True, fmt=\".3f\", linewidths=.5, square = True, cmap = 'Blues_r');\n",
        "plt.ylabel('Actual label');\n",
        "plt.xlabel('Predicted label');\n",
        "all_sample_title = 'Accuracy Score: {0}'.format(score_baseline)\n",
        "plt.title(all_sample_title, size = 15);"
      ],
      "execution_count": null,
      "outputs": [
        {
          "output_type": "display_data",
          "data": {
            "image/png": "[encoded data removed]",
            "text/plain": [
              "<Figure size 648x648 with 2 Axes>"
            ]
          },
          "metadata": {
            "needs_background": "light"
          }
        }
      ]
    },
    {
      "cell_type": "markdown",
      "metadata": {
        "id": "B2RBFHhQCLEc"
      },
      "source": [
        "We can see from the confusion matrix above that the baseline model predicts all 0s. This is because the data is imbalanced, with the vast majority of observations having an AttackCat of 0. This model has an accuracy of 0.97, but it has an auc of 0.5, which confirms that we should try resampling the data."
      ]
    },
    {
      "cell_type": "markdown",
      "metadata": {
        "id": "Y0ouuXj734W5"
      },
      "source": [
        "## Dealing with Imbalanced Data"
      ]
    },
    {
      "cell_type": "markdown",
      "metadata": {
        "id": "pJGuyLPMCWxT"
      },
      "source": [
        "We can try several strategies to deal with the imbalanced data, including undersampling, oversampling with SMOTE, and a combination of both."
      ]
    },
    {
      "cell_type": "code",
      "metadata": {
        "colab": {
          "base_uri": "https://localhost:8080/"
        },
        "id": "e6TSRfTF2yde",
        "outputId": "87eea93e-fb7b-420c-abe3-f199e04d9ec9"
      },
      "source": [
        "print(df['AttackCat'].value_counts())"
      ],
      "execution_count": null,
      "outputs": [
        {
          "output_type": "stream",
          "name": "stdout",
          "text": [
            "0.0    3076\n",
            "1.0      95\n",
            "Name: AttackCat, dtype: int64\n"
          ]
        }
      ]
    },
    {
      "cell_type": "markdown",
      "metadata": {
        "id": "gRH-BzCu31vq"
      },
      "source": [
        "### Undersampling"
      ]
    },
    {
      "cell_type": "code",
      "metadata": {
        "id": "uO3uADyL224k"
      },
      "source": [
        "from collections import Counter\n",
        "from imblearn.under_sampling import RandomUnderSampler"
      ],
      "execution_count": null,
      "outputs": []
    },
    {
      "cell_type": "code",
      "metadata": {
        "colab": {
          "base_uri": "https://localhost:8080/"
        },
        "id": "ayxzEtK43vjZ",
        "outputId": "e99fa06e-578e-4b01-80fd-aea0a1266b27"
      },
      "source": [
        "# summarize class distribution\n",
        "print(\"Before undersampling: \", Counter(y_train))"
      ],
      "execution_count": null,
      "outputs": [
        {
          "output_type": "stream",
          "name": "stdout",
          "text": [
            "Before undersampling:  Counter({0.0: 2460, 1.0: 76})\n"
          ]
        }
      ]
    },
    {
      "cell_type": "code",
      "metadata": {
        "id": "SmifJF3H3lHi"
      },
      "source": [
        "# define undersampling strategy\n",
        "undersample = RandomUnderSampler(sampling_strategy='majority', random_state=101)"
      ],
      "execution_count": null,
      "outputs": []
    },
    {
      "cell_type": "code",
      "metadata": {
        "id": "SbRyE3ca3mNS"
      },
      "source": [
        "# fit and apply the transform\n",
        "X_train_under, y_train_under = undersample.fit_resample(X_train, y_train)"
      ],
      "execution_count": null,
      "outputs": []
    },
    {
      "cell_type": "code",
      "metadata": {
        "colab": {
          "base_uri": "https://localhost:8080/"
        },
        "id": "cW13ssOJ3qao",
        "outputId": "07697242-c9db-45b4-9360-8fca58a69636"
      },
      "source": [
        "# summarize class distribution\n",
        "print(\"After undersampling: \", Counter(y_train_under))"
      ],
      "execution_count": null,
      "outputs": [
        {
          "output_type": "stream",
          "name": "stdout",
          "text": [
            "After undersampling:  Counter({0.0: 76, 1.0: 76})\n"
          ]
        }
      ]
    },
    {
      "cell_type": "code",
      "metadata": {
        "id": "b2q_F0354AJ0"
      },
      "source": [
        "#Train the model using the training sets\n",
        "clf_under = clf.fit(X_train_under, y_train_under)\n",
        "\n",
        "#Predict the response for test dataset\n",
        "y_pred_under = clf_under.predict(X_test)"
      ],
      "execution_count": null,
      "outputs": []
    },
    {
      "cell_type": "code",
      "metadata": {
        "colab": {
          "base_uri": "https://localhost:8080/"
        },
        "id": "lMY7u0qs4gIw",
        "outputId": "29a74b49-047d-44d1-a487-79709e7d0379"
      },
      "source": [
        "# Model Accuracy: how often is the classifier correct?\n",
        "print(\"Accuracy:\",metrics.accuracy_score(y_test, y_pred_under))\n",
        "print(\"ROC AUC score for undersampled data: \", roc_auc_score(y_test, y_pred_under))"
      ],
      "execution_count": null,
      "outputs": [
        {
          "output_type": "stream",
          "name": "stdout",
          "text": [
            "Accuracy: 0.658267716535433\n",
            "ROC AUC score for undersampled data:  0.7728554340396445\n"
          ]
        }
      ]
    },
    {
      "cell_type": "code",
      "metadata": {
        "id": "PWysxNE0_ptv"
      },
      "source": [
        "score_under = clf_under.score(X_test, y_test)"
      ],
      "execution_count": null,
      "outputs": []
    },
    {
      "cell_type": "code",
      "metadata": {
        "colab": {
          "base_uri": "https://localhost:8080/",
          "height": 523
        },
        "id": "Tb9i-eSi_eZ0",
        "outputId": "30cf8b71-6558-4147-bb12-d42de0b4110a"
      },
      "source": [
        "cm = metrics.confusion_matrix(y_test, y_pred_under)\n",
        "plt.figure(figsize=(9,9))\n",
        "sns.heatmap(cm, annot=True, fmt=\".3f\", linewidths=.5, square = True, cmap = 'Blues_r');\n",
        "plt.ylabel('Actual label');\n",
        "plt.xlabel('Predicted label');\n",
        "all_sample_title = 'Accuracy Score: {0}'.format(score_under)\n",
        "plt.title(all_sample_title, size = 15);"
      ],
      "execution_count": null,
      "outputs": [
        {
          "output_type": "display_data",
          "data": {
            "image/png": "[encoded data removed]",
            "text/plain": [
              "<Figure size 648x648 with 2 Axes>"
            ]
          },
          "metadata": {
            "needs_background": "light"
          }
        }
      ]
    },
    {
      "cell_type": "markdown",
      "metadata": {
        "id": "btJWn_GGDLQm"
      },
      "source": [
        "This model is much better than the previous model, as we can see that it does predict some 1s for AttackCat. This model has an accuracy of 0.66 and an auc of 0.77."
      ]
    },
    {
      "cell_type": "markdown",
      "metadata": {
        "id": "W25ckUhS5Q19"
      },
      "source": [
        "### Oversampling with SMOTE"
      ]
    },
    {
      "cell_type": "code",
      "metadata": {
        "id": "6LM735sA5SoB"
      },
      "source": [
        "from imblearn.over_sampling import SMOTE"
      ],
      "execution_count": null,
      "outputs": []
    },
    {
      "cell_type": "code",
      "metadata": {
        "colab": {
          "base_uri": "https://localhost:8080/"
        },
        "id": "Wh0q7_du5Vph",
        "outputId": "1ba1ab77-6a14-4863-cbf4-705353a519b3"
      },
      "source": [
        "# summarize class distribution\n",
        "print(\"Before oversampling: \",Counter(y_train))"
      ],
      "execution_count": null,
      "outputs": [
        {
          "output_type": "stream",
          "name": "stdout",
          "text": [
            "Before oversampling:  Counter({0.0: 2460, 1.0: 76})\n"
          ]
        }
      ]
    },
    {
      "cell_type": "code",
      "metadata": {
        "id": "hx3SPtBv5Z4K"
      },
      "source": [
        "# define oversampling strategy\n",
        "SMOTE_model = SMOTE(random_state=101)"
      ],
      "execution_count": null,
      "outputs": []
    },
    {
      "cell_type": "code",
      "metadata": {
        "id": "xJGlb7lG5bmC"
      },
      "source": [
        "# fit and apply the transform\n",
        "X_train_SMOTE, y_train_SMOTE = SMOTE_model.fit_resample(X_train, y_train)"
      ],
      "execution_count": null,
      "outputs": []
    },
    {
      "cell_type": "code",
      "metadata": {
        "colab": {
          "base_uri": "https://localhost:8080/"
        },
        "id": "TtpiIC7R5dxz",
        "outputId": "ee68ad96-9129-459a-b51f-3d41eaad1ec4"
      },
      "source": [
        "# summarize class distribution\n",
        "print(\"After oversampling: \",Counter(y_train_SMOTE))"
      ],
      "execution_count": null,
      "outputs": [
        {
          "output_type": "stream",
          "name": "stdout",
          "text": [
            "After oversampling:  Counter({0.0: 2460, 1.0: 2460})\n"
          ]
        }
      ]
    },
    {
      "cell_type": "code",
      "metadata": {
        "id": "fpkOOpZB5hrr"
      },
      "source": [
        "clf_SMOTE = clf.fit(X_train_SMOTE, y_train_SMOTE)\n",
        "y_pred_SMOTE = clf_SMOTE.predict(X_test)"
      ],
      "execution_count": null,
      "outputs": []
    },
    {
      "cell_type": "code",
      "metadata": {
        "colab": {
          "base_uri": "https://localhost:8080/"
        },
        "id": "Z4w_uDKA5oQ8",
        "outputId": "a1eb92c8-1e25-4394-d06b-92a7ed239b68"
      },
      "source": [
        "# Model Accuracy: how often is the classifier correct?\n",
        "print(\"Accuracy:\",metrics.accuracy_score(y_test, y_pred_SMOTE))\n",
        "print(\"ROC AUC score for oversampled data: \", roc_auc_score(y_test, y_pred_SMOTE))"
      ],
      "execution_count": null,
      "outputs": [
        {
          "output_type": "stream",
          "name": "stdout",
          "text": [
            "Accuracy: 0.6614173228346457\n",
            "ROC AUC score for oversampled data:  0.7234706083390294\n"
          ]
        }
      ]
    },
    {
      "cell_type": "code",
      "metadata": {
        "id": "b9oUMcNh_1bP"
      },
      "source": [
        "score_over = clf_SMOTE.score(X_test, y_test)"
      ],
      "execution_count": null,
      "outputs": []
    },
    {
      "cell_type": "code",
      "metadata": {
        "colab": {
          "base_uri": "https://localhost:8080/",
          "height": 520
        },
        "id": "l_LFIRk8_7Uw",
        "outputId": "ff72162b-e765-4a1d-95a3-4703e99d35a6"
      },
      "source": [
        "cm = metrics.confusion_matrix(y_test, y_pred_SMOTE)\n",
        "plt.figure(figsize=(9,9))\n",
        "sns.heatmap(cm, annot=True, fmt=\".3f\", linewidths=.5, square = True, cmap = 'Blues_r');\n",
        "plt.ylabel('Actual label');\n",
        "plt.xlabel('Predicted label');\n",
        "all_sample_title = 'Accuracy Score: {0}'.format(score_over)\n",
        "plt.title(all_sample_title, size = 15);"
      ],
      "execution_count": null,
      "outputs": [
        {
          "output_type": "display_data",
          "data": {
            "image/png": "[encoded data removed]",
            "text/plain": [
              "<Figure size 648x648 with 2 Axes>"
            ]
          },
          "metadata": {
            "needs_background": "light"
          }
        }
      ]
    },
    {
      "cell_type": "markdown",
      "metadata": {
        "id": "tzGSi9JmDt56"
      },
      "source": [
        "This model is also much better than the baseline. With an accuracy of 0.66 and an auc of 0.72, it is fairly comparable to the undersampling method. "
      ]
    },
    {
      "cell_type": "markdown",
      "metadata": {
        "id": "enQSuAxo5uLz"
      },
      "source": [
        "### Combination of Under- and Oversampling using Pipeline"
      ]
    },
    {
      "cell_type": "code",
      "metadata": {
        "id": "ww2Y-ka15yaU"
      },
      "source": [
        "from imblearn.pipeline import Pipeline"
      ],
      "execution_count": null,
      "outputs": []
    },
    {
      "cell_type": "code",
      "metadata": {
        "id": "7HWo7jub51AM"
      },
      "source": [
        "model = clf\n",
        "over = SMOTE(sampling_strategy=0.3, random_state=101)\n",
        "under = RandomUnderSampler(sampling_strategy=0.7, random_state=101)\n",
        "steps = [('o', over), ('u', under), ('model', model)]\n",
        "pipeline = Pipeline(steps=steps)"
      ],
      "execution_count": null,
      "outputs": []
    },
    {
      "cell_type": "code",
      "metadata": {
        "id": "5cbyIJ2NBW_P"
      },
      "source": [
        "pipeline.fit(X_train, y_train)\n",
        "y_pred_pipeline = pipeline.predict(X_test)"
      ],
      "execution_count": null,
      "outputs": []
    },
    {
      "cell_type": "code",
      "metadata": {
        "id": "CRojzrOa54Dc"
      },
      "source": [
        "from numpy import mean"
      ],
      "execution_count": null,
      "outputs": []
    },
    {
      "cell_type": "code",
      "metadata": {
        "colab": {
          "base_uri": "https://localhost:8080/"
        },
        "id": "d5FH2cOx6MSg",
        "outputId": "16645498-da38-48a8-b505-3f864d766b48"
      },
      "source": [
        "# evaluate pipeline\n",
        "accuracy_scores = cross_val_score(pipeline, X, y, scoring='accuracy', cv=5, n_jobs=-1)\n",
        "accuracy_score = mean(accuracy_scores)\n",
        "roc_scores = cross_val_score(pipeline, X, y, scoring='roc_auc', cv=5, n_jobs=-1)\n",
        "roc_score = mean(roc_scores)\n",
        "print('Accuracy score for the combined method: %.3f' % accuracy_score)\n",
        "print('ROC AUC score for the combined sampling method: %.3f' % roc_score)"
      ],
      "execution_count": null,
      "outputs": [
        {
          "output_type": "stream",
          "name": "stdout",
          "text": [
            "Accuracy score for the combined method: 0.783\n",
            "ROC AUC score for the combined sampling method: 0.781\n"
          ]
        }
      ]
    },
    {
      "cell_type": "code",
      "metadata": {
        "colab": {
          "base_uri": "https://localhost:8080/",
          "height": 520
        },
        "id": "01CGLNoHB3hB",
        "outputId": "42652ec2-00bf-4207-8c90-22b446174282"
      },
      "source": [
        "cm = metrics.confusion_matrix(y_test, y_pred_pipeline)\n",
        "plt.figure(figsize=(9,9))\n",
        "sns.heatmap(cm, annot=True, fmt=\".3f\", linewidths=.5, square = True, cmap = 'Blues_r');\n",
        "plt.ylabel('Actual label');\n",
        "plt.xlabel('Predicted label');\n",
        "all_sample_title = 'Accuracy Score: {0}'.format(accuracy_score)\n",
        "plt.title(all_sample_title, size = 15);"
      ],
      "execution_count": null,
      "outputs": [
        {
          "output_type": "display_data",
          "data": {
            "image/png": "[encoded data removed]",
            "text/plain": [
              "<Figure size 648x648 with 2 Axes>"
            ]
          },
          "metadata": {
            "needs_background": "light"
          }
        }
      ]
    },
    {
      "cell_type": "markdown",
      "metadata": {
        "id": "wjvYSYmEEllP"
      },
      "source": [
        "This model is the best yet, with an accuracy of 0.78 and an auc of 0.78. "
      ]
    },
    {
      "cell_type": "markdown",
      "metadata": {
        "id": "Q1KwK-bZ8egl"
      },
      "source": [
        "### Find Best Sampling Ratio"
      ]
    },
    {
      "cell_type": "code",
      "metadata": {
        "colab": {
          "base_uri": "https://localhost:8080/"
        },
        "id": "xouJIoBv8gtk",
        "outputId": "01854d7f-0fa9-44b3-ac58-db54bf16efa4"
      },
      "source": [
        "over_values = [0.3,0.4,0.5]\n",
        "under_values = [0.7,0.6,0.5]\n",
        "for o in over_values:\n",
        "  for u in under_values:\n",
        "    # define pipeline\n",
        "    model_pipeline = clf\n",
        "    over_pipeline = SMOTE(sampling_strategy=o, random_state=101)\n",
        "    under_pipeline = RandomUnderSampler(sampling_strategy=u, random_state=101)\n",
        "    steps_pipeline = [('over', over_pipeline), ('under', under_pipeline), ('model', model_pipeline)]\n",
        "    pipeline = Pipeline(steps=steps_pipeline)\n",
        "    # evaluate pipeline\n",
        "    scores_pipeline = cross_val_score(pipeline, X, y, scoring='roc_auc', cv=5, n_jobs=-1)\n",
        "    score_pipeline = mean(scores_pipeline)\n",
        "    print('SMOTE oversampling rate:%.1f, Random undersampling rate:%.1f , Mean ROC AUC: %.3f' % (o, u, score_pipeline))"
      ],
      "execution_count": null,
      "outputs": [
        {
          "output_type": "stream",
          "name": "stdout",
          "text": [
            "SMOTE oversampling rate:0.3, Random undersampling rate:0.7 , Mean ROC AUC: 0.781\n",
            "SMOTE oversampling rate:0.3, Random undersampling rate:0.6 , Mean ROC AUC: 0.774\n",
            "SMOTE oversampling rate:0.3, Random undersampling rate:0.5 , Mean ROC AUC: 0.765\n",
            "SMOTE oversampling rate:0.4, Random undersampling rate:0.7 , Mean ROC AUC: 0.779\n",
            "SMOTE oversampling rate:0.4, Random undersampling rate:0.6 , Mean ROC AUC: 0.770\n",
            "SMOTE oversampling rate:0.4, Random undersampling rate:0.5 , Mean ROC AUC: 0.763\n",
            "SMOTE oversampling rate:0.5, Random undersampling rate:0.7 , Mean ROC AUC: 0.776\n",
            "SMOTE oversampling rate:0.5, Random undersampling rate:0.6 , Mean ROC AUC: 0.773\n",
            "SMOTE oversampling rate:0.5, Random undersampling rate:0.5 , Mean ROC AUC: 0.768\n"
          ]
        }
      ]
    },
    {
      "cell_type": "markdown",
      "metadata": {
        "id": "dC-8Ikv198Wu"
      },
      "source": [
        "Best sampling ratio is oversampling rate = 0.3, undersampling rate = 0.7. This ratio has the highest mean ROC AUC. This could change depending on the random sanple."
      ]
    },
    {
      "cell_type": "markdown",
      "metadata": {
        "id": "2LODzvOFGe4v"
      },
      "source": [
        "## Feature Importance"
      ]
    },
    {
      "cell_type": "markdown",
      "metadata": {
        "id": "Q8kAYLP8K-KZ"
      },
      "source": [
        "We can use some measures of feature importance, including coefficients and permutation importance, to see how the SBI variable contributes to the overall model"
      ]
    },
    {
      "cell_type": "markdown",
      "metadata": {
        "id": "Kuo1ym2dLH0x"
      },
      "source": [
        "### Coefficients"
      ]
    },
    {
      "cell_type": "code",
      "metadata": {
        "colab": {
          "base_uri": "https://localhost:8080/"
        },
        "id": "8x-T38xrHnRY",
        "outputId": "9607557c-3e64-447b-a6c5-6cf66f135758"
      },
      "source": [
        "print(pipeline)"
      ],
      "execution_count": null,
      "outputs": [
        {
          "output_type": "stream",
          "name": "stdout",
          "text": [
            "Pipeline(steps=[('o', SMOTE(random_state=101, sampling_strategy=0.3)),\n",
            "                ('u',\n",
            "                 RandomUnderSampler(random_state=101, sampling_strategy=0.7)),\n",
            "                ('model', SVC(kernel='linear'))])\n"
          ]
        }
      ]
    },
    {
      "cell_type": "code",
      "metadata": {
        "id": "sRK6m9IQG4HK"
      },
      "source": [
        "coefs = pipeline.named_steps[\"model\"].coef_.flatten()"
      ],
      "execution_count": null,
      "outputs": []
    },
    {
      "cell_type": "code",
      "metadata": {
        "id": "f3hVCZZTINwv"
      },
      "source": [
        "# Zip coefficients and names together and make a DataFrame\n",
        "feature_names = ['drct', 'sped', 'WDIR', 'WSPD', 'PRES', 'WTMP','SBI']\n",
        "zipped = zip(feature_names, coefs)\n",
        "df_coef = pd.DataFrame(zipped, columns=[\"feature\", \"value\"])\n",
        "# Sort the features by the absolute value of their coefficient\n",
        "df_coef[\"abs_value\"] = df_coef[\"value\"].apply(lambda x: abs(x))\n",
        "df_coef[\"colors\"] = df_coef[\"value\"].apply(lambda x: \"green\" if x > 0 else \"red\")\n",
        "df_coef = df_coef.sort_values(\"abs_value\", ascending=False)"
      ],
      "execution_count": null,
      "outputs": []
    },
    {
      "cell_type": "code",
      "metadata": {
        "colab": {
          "base_uri": "https://localhost:8080/",
          "height": 546
        },
        "id": "GzjoJxMMIgNQ",
        "outputId": "db04e375-93b7-4094-e290-852088866e98"
      },
      "source": [
        "fig, ax = plt.subplots(1, 1, figsize=(12, 7))\n",
        "sns.barplot(x=\"feature\",\n",
        "            y=\"value\",\n",
        "            data=df_coef.head(20),\n",
        "           palette=df_coef.head(20)[\"colors\"])\n",
        "ax.set_xticklabels(ax.get_xticklabels(), rotation=90, fontsize=20)\n",
        "ax.set_title(\"Top 20 Features\", fontsize=25)\n",
        "ax.set_ylabel(\"Coef\", fontsize=22)\n",
        "ax.set_xlabel(\"Feature Name\", fontsize=22)"
      ],
      "execution_count": null,
      "outputs": [
        {
          "output_type": "execute_result",
          "data": {
            "text/plain": [
              "Text(0.5, 0, 'Feature Name')"
            ]
          },
          "metadata": {},
          "execution_count": 195
        },
        {
          "output_type": "display_data",
          "data": {
            "image/png": "[encoded data removed]",
            "text/plain": [
              "<Figure size 864x504 with 1 Axes>"
            ]
          },
          "metadata": {
            "needs_background": "light"
          }
        }
      ]
    },
    {
      "cell_type": "markdown",
      "metadata": {
        "id": "lKjBr0MoLMww"
      },
      "source": [
        "SBI has the largest absolute value coefficient. As the variables as scaled, this tells us that it may play a significant role in the overall model."
      ]
    },
    {
      "cell_type": "markdown",
      "metadata": {
        "id": "nYILopyPLKdo"
      },
      "source": [
        "### Permutation Importance"
      ]
    },
    {
      "cell_type": "code",
      "metadata": {
        "id": "kCoKY8_ZJSpq"
      },
      "source": [
        "import numpy as np\n",
        "from sklearn.inspection import permutation_importance\n",
        "features = np.array(feature_names)\n",
        "perm_importance = permutation_importance(pipeline.named_steps[\"model\"], X_test, y_test, random_state=111)"
      ],
      "execution_count": null,
      "outputs": []
    },
    {
      "cell_type": "code",
      "metadata": {
        "colab": {
          "base_uri": "https://localhost:8080/",
          "height": 296
        },
        "id": "UU8huaTcJ4ZU",
        "outputId": "907a2711-f09a-4231-c0ac-1dde72907eb4"
      },
      "source": [
        "sorted_idx = perm_importance.importances_mean.argsort()\n",
        "plt.barh(features[sorted_idx], perm_importance.importances_mean[sorted_idx])\n",
        "plt.xlabel(\"Permutation Importance\")"
      ],
      "execution_count": null,
      "outputs": [
        {
          "output_type": "execute_result",
          "data": {
            "text/plain": [
              "Text(0.5, 0, 'Permutation Importance')"
            ]
          },
          "metadata": {},
          "execution_count": 203
        },
        {
          "output_type": "display_data",
          "data": {
            "image/png": "[encoded data removed]",
            "text/plain": [
              "<Figure size 432x288 with 1 Axes>"
            ]
          },
          "metadata": {
            "needs_background": "light"
          }
        }
      ]
    },
    {
      "cell_type": "markdown",
      "metadata": {
        "id": "RnJK_b2rLViQ"
      },
      "source": [
        "The permutation importance is the decrease in a model score when a single feature value is randomly shuffled. SBI has the highest permutation importance, followed by PRES. This leads us to believe that these may be the most important features in this model. \n",
        "\n",
        "Future models could potentially remove the features with negative permutation importance to improve results. However, because they are only slighly negative, this may change with other random samples."
      ]
    }
  ]
}