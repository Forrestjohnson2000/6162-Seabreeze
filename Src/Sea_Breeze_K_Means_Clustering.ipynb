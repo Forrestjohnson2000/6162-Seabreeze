{
  "nbformat": 4,
  "nbformat_minor": 0,
  "metadata": {
    "colab": {
      "name": "Sea Breeze K-Means Clustering.ipynb",
      "provenance": [],
      "collapsed_sections": [],
      "include_colab_link": true
    },
    "kernelspec": {
      "name": "python3",
      "display_name": "Python 3"
    },
    "language_info": {
      "name": "python"
    }
  },
  "cells": [
    {
      "cell_type": "markdown",
      "metadata": {
        "id": "view-in-github",
        "colab_type": "text"
      },
      "source": [
        "<a href=\"https://colab.research.google.com/github/Forrestjohnson2000/Sea-Breeze-and-Shark-Analysis/blob/main/Sea_Breeze_K_Means_Clustering.ipynb\" target=\"_parent\"><img src=\"https://colab.research.google.com/assets/colab-badge.svg\" alt=\"Open In Colab\"/></a>"
      ]
    },
    {
      "cell_type": "markdown",
      "metadata": {
        "id": "0_W1wwPiS_gG"
      },
      "source": [
        "# Sea Breeze K-Means Clustering\n"
      ]
    },
    {
      "cell_type": "markdown",
      "metadata": {
        "id": "QRssE9pYw3O4"
      },
      "source": [
        "We are using an unsupervised method, k-means clustering, to examine whether there are significant clusters in the sea breeze data."
      ]
    },
    {
      "cell_type": "code",
      "metadata": {
        "id": "gQjYrFxxDazd"
      },
      "source": [
        "#import libraries\n",
        "import pandas as pd\n",
        "import numpy as np\n",
        "import matplotlib.pyplot as plt\n",
        "from sklearn.model_selection import train_test_split, cross_val_score\n",
        "from sklearn.preprocessing import StandardScaler\n",
        "from sklearn.metrics import classification_report, confusion_matrix, accuracy_score, r2_score, mean_squared_error\n",
        "from sklearn.neighbors import KNeighborsClassifier"
      ],
      "execution_count": 2,
      "outputs": []
    },
    {
      "cell_type": "code",
      "metadata": {
        "id": "8Zz9Kjhav7QD"
      },
      "source": [
        "#import dataset\n",
        "df = pd.read_csv(\"https://raw.githubusercontent.com/Forrestjohnson2000/6162-Seabreeze/main/Data/prepped_data.csv\")"
      ],
      "execution_count": 3,
      "outputs": []
    },
    {
      "cell_type": "markdown",
      "metadata": {
        "id": "saKrAn3pxnDL"
      },
      "source": [
        "The next steps are examining and preparing the data for clustering."
      ]
    },
    {
      "cell_type": "code",
      "metadata": {
        "colab": {
          "base_uri": "https://localhost:8080/",
          "height": 206
        },
        "id": "n16X8wJWEFl1",
        "outputId": "20f85113-113c-4505-ac7c-97d4d396bcaa"
      },
      "source": [
        "df.head()"
      ],
      "execution_count": 4,
      "outputs": [
        {
          "output_type": "execute_result",
          "data": {
            "text/html": [
              "<div>\n",
              "<style scoped>\n",
              "    .dataframe tbody tr th:only-of-type {\n",
              "        vertical-align: middle;\n",
              "    }\n",
              "\n",
              "    .dataframe tbody tr th {\n",
              "        vertical-align: top;\n",
              "    }\n",
              "\n",
              "    .dataframe thead th {\n",
              "        text-align: right;\n",
              "    }\n",
              "</style>\n",
              "<table border=\"1\" class=\"dataframe\">\n",
              "  <thead>\n",
              "    <tr style=\"text-align: right;\">\n",
              "      <th></th>\n",
              "      <th>Unnamed: 0</th>\n",
              "      <th>date</th>\n",
              "      <th>hour</th>\n",
              "      <th>drct</th>\n",
              "      <th>sped</th>\n",
              "      <th>WDIR</th>\n",
              "      <th>WSPD</th>\n",
              "      <th>PRES</th>\n",
              "      <th>WTMP</th>\n",
              "      <th>SBI</th>\n",
              "      <th>AttackCat</th>\n",
              "    </tr>\n",
              "  </thead>\n",
              "  <tbody>\n",
              "    <tr>\n",
              "      <th>0</th>\n",
              "      <td>1</td>\n",
              "      <td>2013-01-02</td>\n",
              "      <td>14.0</td>\n",
              "      <td>67.5</td>\n",
              "      <td>8.0500</td>\n",
              "      <td>250.0</td>\n",
              "      <td>4.0</td>\n",
              "      <td>1017.408303</td>\n",
              "      <td>21.836225</td>\n",
              "      <td>4.547025</td>\n",
              "      <td>0.0</td>\n",
              "    </tr>\n",
              "    <tr>\n",
              "      <th>1</th>\n",
              "      <td>2</td>\n",
              "      <td>2013-01-03</td>\n",
              "      <td>14.0</td>\n",
              "      <td>22.5</td>\n",
              "      <td>2.0125</td>\n",
              "      <td>80.0</td>\n",
              "      <td>5.0</td>\n",
              "      <td>1017.408303</td>\n",
              "      <td>21.836225</td>\n",
              "      <td>6.092861</td>\n",
              "      <td>0.0</td>\n",
              "    </tr>\n",
              "    <tr>\n",
              "      <th>2</th>\n",
              "      <td>3</td>\n",
              "      <td>2013-01-05</td>\n",
              "      <td>14.0</td>\n",
              "      <td>25.0</td>\n",
              "      <td>8.3375</td>\n",
              "      <td>50.0</td>\n",
              "      <td>6.0</td>\n",
              "      <td>1017.408303</td>\n",
              "      <td>21.836225</td>\n",
              "      <td>7.273592</td>\n",
              "      <td>0.0</td>\n",
              "    </tr>\n",
              "    <tr>\n",
              "      <th>3</th>\n",
              "      <td>4</td>\n",
              "      <td>2013-01-06</td>\n",
              "      <td>14.0</td>\n",
              "      <td>0.0</td>\n",
              "      <td>0.0000</td>\n",
              "      <td>350.0</td>\n",
              "      <td>5.0</td>\n",
              "      <td>1017.408303</td>\n",
              "      <td>21.836225</td>\n",
              "      <td>5.821537</td>\n",
              "      <td>0.0</td>\n",
              "    </tr>\n",
              "    <tr>\n",
              "      <th>4</th>\n",
              "      <td>5</td>\n",
              "      <td>2013-01-07</td>\n",
              "      <td>14.0</td>\n",
              "      <td>25.0</td>\n",
              "      <td>9.4875</td>\n",
              "      <td>50.0</td>\n",
              "      <td>8.0</td>\n",
              "      <td>1017.408303</td>\n",
              "      <td>21.836225</td>\n",
              "      <td>6.718124</td>\n",
              "      <td>0.0</td>\n",
              "    </tr>\n",
              "  </tbody>\n",
              "</table>\n",
              "</div>"
            ],
            "text/plain": [
              "   Unnamed: 0        date  hour  ...       WTMP       SBI  AttackCat\n",
              "0           1  2013-01-02  14.0  ...  21.836225  4.547025        0.0\n",
              "1           2  2013-01-03  14.0  ...  21.836225  6.092861        0.0\n",
              "2           3  2013-01-05  14.0  ...  21.836225  7.273592        0.0\n",
              "3           4  2013-01-06  14.0  ...  21.836225  5.821537        0.0\n",
              "4           5  2013-01-07  14.0  ...  21.836225  6.718124        0.0\n",
              "\n",
              "[5 rows x 11 columns]"
            ]
          },
          "metadata": {},
          "execution_count": 4
        }
      ]
    },
    {
      "cell_type": "markdown",
      "metadata": {
        "id": "jzQGFS7OxvVQ"
      },
      "source": [
        "First, we can drop the categorical and other irrelevant variables."
      ]
    },
    {
      "cell_type": "code",
      "metadata": {
        "id": "leIS1TgYekbO",
        "colab": {
          "base_uri": "https://localhost:8080/",
          "height": 423
        },
        "outputId": "26312572-a875-490b-d0ac-9105c78443f2"
      },
      "source": [
        "df1 = df.drop([\"Unnamed: 0\", \"date\",\"hour\"], axis=1)\n",
        "\n",
        "#dfstack = df1.groupby([\"date\",\"hour\"]).mean()\n",
        "#dfstack.info()\n",
        "\n",
        "df1"
      ],
      "execution_count": 5,
      "outputs": [
        {
          "output_type": "execute_result",
          "data": {
            "text/html": [
              "<div>\n",
              "<style scoped>\n",
              "    .dataframe tbody tr th:only-of-type {\n",
              "        vertical-align: middle;\n",
              "    }\n",
              "\n",
              "    .dataframe tbody tr th {\n",
              "        vertical-align: top;\n",
              "    }\n",
              "\n",
              "    .dataframe thead th {\n",
              "        text-align: right;\n",
              "    }\n",
              "</style>\n",
              "<table border=\"1\" class=\"dataframe\">\n",
              "  <thead>\n",
              "    <tr style=\"text-align: right;\">\n",
              "      <th></th>\n",
              "      <th>drct</th>\n",
              "      <th>sped</th>\n",
              "      <th>WDIR</th>\n",
              "      <th>WSPD</th>\n",
              "      <th>PRES</th>\n",
              "      <th>WTMP</th>\n",
              "      <th>SBI</th>\n",
              "      <th>AttackCat</th>\n",
              "    </tr>\n",
              "  </thead>\n",
              "  <tbody>\n",
              "    <tr>\n",
              "      <th>0</th>\n",
              "      <td>67.500000</td>\n",
              "      <td>8.0500</td>\n",
              "      <td>250.0</td>\n",
              "      <td>4.0</td>\n",
              "      <td>1017.408303</td>\n",
              "      <td>21.836225</td>\n",
              "      <td>4.547025</td>\n",
              "      <td>0.0</td>\n",
              "    </tr>\n",
              "    <tr>\n",
              "      <th>1</th>\n",
              "      <td>22.500000</td>\n",
              "      <td>2.0125</td>\n",
              "      <td>80.0</td>\n",
              "      <td>5.0</td>\n",
              "      <td>1017.408303</td>\n",
              "      <td>21.836225</td>\n",
              "      <td>6.092861</td>\n",
              "      <td>0.0</td>\n",
              "    </tr>\n",
              "    <tr>\n",
              "      <th>2</th>\n",
              "      <td>25.000000</td>\n",
              "      <td>8.3375</td>\n",
              "      <td>50.0</td>\n",
              "      <td>6.0</td>\n",
              "      <td>1017.408303</td>\n",
              "      <td>21.836225</td>\n",
              "      <td>7.273592</td>\n",
              "      <td>0.0</td>\n",
              "    </tr>\n",
              "    <tr>\n",
              "      <th>3</th>\n",
              "      <td>0.000000</td>\n",
              "      <td>0.0000</td>\n",
              "      <td>350.0</td>\n",
              "      <td>5.0</td>\n",
              "      <td>1017.408303</td>\n",
              "      <td>21.836225</td>\n",
              "      <td>5.821537</td>\n",
              "      <td>0.0</td>\n",
              "    </tr>\n",
              "    <tr>\n",
              "      <th>4</th>\n",
              "      <td>25.000000</td>\n",
              "      <td>9.4875</td>\n",
              "      <td>50.0</td>\n",
              "      <td>8.0</td>\n",
              "      <td>1017.408303</td>\n",
              "      <td>21.836225</td>\n",
              "      <td>6.718124</td>\n",
              "      <td>0.0</td>\n",
              "    </tr>\n",
              "    <tr>\n",
              "      <th>...</th>\n",
              "      <td>...</td>\n",
              "      <td>...</td>\n",
              "      <td>...</td>\n",
              "      <td>...</td>\n",
              "      <td>...</td>\n",
              "      <td>...</td>\n",
              "      <td>...</td>\n",
              "      <td>...</td>\n",
              "    </tr>\n",
              "    <tr>\n",
              "      <th>3166</th>\n",
              "      <td>32.500000</td>\n",
              "      <td>6.3250</td>\n",
              "      <td>38.0</td>\n",
              "      <td>6.6</td>\n",
              "      <td>1032.100000</td>\n",
              "      <td>13.900000</td>\n",
              "      <td>4.738069</td>\n",
              "      <td>0.0</td>\n",
              "    </tr>\n",
              "    <tr>\n",
              "      <th>3167</th>\n",
              "      <td>250.000000</td>\n",
              "      <td>11.7875</td>\n",
              "      <td>269.0</td>\n",
              "      <td>0.8</td>\n",
              "      <td>1025.500000</td>\n",
              "      <td>13.900000</td>\n",
              "      <td>3.090149</td>\n",
              "      <td>0.0</td>\n",
              "    </tr>\n",
              "    <tr>\n",
              "      <th>3168</th>\n",
              "      <td>48.792615</td>\n",
              "      <td>6.3250</td>\n",
              "      <td>270.0</td>\n",
              "      <td>1.8</td>\n",
              "      <td>1021.500000</td>\n",
              "      <td>14.400000</td>\n",
              "      <td>5.244294</td>\n",
              "      <td>0.0</td>\n",
              "    </tr>\n",
              "    <tr>\n",
              "      <th>3169</th>\n",
              "      <td>222.500000</td>\n",
              "      <td>12.3625</td>\n",
              "      <td>225.0</td>\n",
              "      <td>8.3</td>\n",
              "      <td>1012.900000</td>\n",
              "      <td>14.300000</td>\n",
              "      <td>3.314484</td>\n",
              "      <td>0.0</td>\n",
              "    </tr>\n",
              "    <tr>\n",
              "      <th>3170</th>\n",
              "      <td>282.500000</td>\n",
              "      <td>13.2250</td>\n",
              "      <td>306.0</td>\n",
              "      <td>7.9</td>\n",
              "      <td>1022.500000</td>\n",
              "      <td>14.000000</td>\n",
              "      <td>7.603387</td>\n",
              "      <td>0.0</td>\n",
              "    </tr>\n",
              "  </tbody>\n",
              "</table>\n",
              "<p>3171 rows × 8 columns</p>\n",
              "</div>"
            ],
            "text/plain": [
              "            drct     sped   WDIR  ...       WTMP       SBI  AttackCat\n",
              "0      67.500000   8.0500  250.0  ...  21.836225  4.547025        0.0\n",
              "1      22.500000   2.0125   80.0  ...  21.836225  6.092861        0.0\n",
              "2      25.000000   8.3375   50.0  ...  21.836225  7.273592        0.0\n",
              "3       0.000000   0.0000  350.0  ...  21.836225  5.821537        0.0\n",
              "4      25.000000   9.4875   50.0  ...  21.836225  6.718124        0.0\n",
              "...          ...      ...    ...  ...        ...       ...        ...\n",
              "3166   32.500000   6.3250   38.0  ...  13.900000  4.738069        0.0\n",
              "3167  250.000000  11.7875  269.0  ...  13.900000  3.090149        0.0\n",
              "3168   48.792615   6.3250  270.0  ...  14.400000  5.244294        0.0\n",
              "3169  222.500000  12.3625  225.0  ...  14.300000  3.314484        0.0\n",
              "3170  282.500000  13.2250  306.0  ...  14.000000  7.603387        0.0\n",
              "\n",
              "[3171 rows x 8 columns]"
            ]
          },
          "metadata": {},
          "execution_count": 5
        }
      ]
    },
    {
      "cell_type": "code",
      "metadata": {
        "colab": {
          "base_uri": "https://localhost:8080/",
          "height": 300
        },
        "id": "WDRT3NDLqF-f",
        "outputId": "7bc9e9a8-68af-470f-9f36-7eaa7ef2ff82"
      },
      "source": [
        "df1.describe()"
      ],
      "execution_count": 6,
      "outputs": [
        {
          "output_type": "execute_result",
          "data": {
            "text/html": [
              "<div>\n",
              "<style scoped>\n",
              "    .dataframe tbody tr th:only-of-type {\n",
              "        vertical-align: middle;\n",
              "    }\n",
              "\n",
              "    .dataframe tbody tr th {\n",
              "        vertical-align: top;\n",
              "    }\n",
              "\n",
              "    .dataframe thead th {\n",
              "        text-align: right;\n",
              "    }\n",
              "</style>\n",
              "<table border=\"1\" class=\"dataframe\">\n",
              "  <thead>\n",
              "    <tr style=\"text-align: right;\">\n",
              "      <th></th>\n",
              "      <th>drct</th>\n",
              "      <th>sped</th>\n",
              "      <th>WDIR</th>\n",
              "      <th>WSPD</th>\n",
              "      <th>PRES</th>\n",
              "      <th>WTMP</th>\n",
              "      <th>SBI</th>\n",
              "      <th>AttackCat</th>\n",
              "    </tr>\n",
              "  </thead>\n",
              "  <tbody>\n",
              "    <tr>\n",
              "      <th>count</th>\n",
              "      <td>3171.000000</td>\n",
              "      <td>3171.000000</td>\n",
              "      <td>3171.000000</td>\n",
              "      <td>3171.000000</td>\n",
              "      <td>3171.000000</td>\n",
              "      <td>3171.000000</td>\n",
              "      <td>3171.000000</td>\n",
              "      <td>3171.000000</td>\n",
              "    </tr>\n",
              "    <tr>\n",
              "      <th>mean</th>\n",
              "      <td>162.933925</td>\n",
              "      <td>8.198853</td>\n",
              "      <td>162.994217</td>\n",
              "      <td>5.340904</td>\n",
              "      <td>1018.749308</td>\n",
              "      <td>22.293673</td>\n",
              "      <td>3.791947</td>\n",
              "      <td>0.029959</td>\n",
              "    </tr>\n",
              "    <tr>\n",
              "      <th>std</th>\n",
              "      <td>92.089884</td>\n",
              "      <td>3.500473</td>\n",
              "      <td>112.206170</td>\n",
              "      <td>2.690690</td>\n",
              "      <td>4.876092</td>\n",
              "      <td>2.795952</td>\n",
              "      <td>2.168168</td>\n",
              "      <td>0.170501</td>\n",
              "    </tr>\n",
              "    <tr>\n",
              "      <th>min</th>\n",
              "      <td>0.000000</td>\n",
              "      <td>0.000000</td>\n",
              "      <td>0.000000</td>\n",
              "      <td>0.000000</td>\n",
              "      <td>997.100000</td>\n",
              "      <td>12.800000</td>\n",
              "      <td>-0.389268</td>\n",
              "      <td>0.000000</td>\n",
              "    </tr>\n",
              "    <tr>\n",
              "      <th>25%</th>\n",
              "      <td>84.166667</td>\n",
              "      <td>6.037500</td>\n",
              "      <td>50.000000</td>\n",
              "      <td>3.000000</td>\n",
              "      <td>1016.700000</td>\n",
              "      <td>21.836225</td>\n",
              "      <td>1.807751</td>\n",
              "      <td>0.000000</td>\n",
              "    </tr>\n",
              "    <tr>\n",
              "      <th>50%</th>\n",
              "      <td>172.500000</td>\n",
              "      <td>8.050000</td>\n",
              "      <td>180.000000</td>\n",
              "      <td>5.000000</td>\n",
              "      <td>1017.408303</td>\n",
              "      <td>21.836225</td>\n",
              "      <td>3.582850</td>\n",
              "      <td>0.000000</td>\n",
              "    </tr>\n",
              "    <tr>\n",
              "      <th>75%</th>\n",
              "      <td>232.500000</td>\n",
              "      <td>10.350000</td>\n",
              "      <td>257.500000</td>\n",
              "      <td>7.000000</td>\n",
              "      <td>1021.300000</td>\n",
              "      <td>21.836225</td>\n",
              "      <td>5.518611</td>\n",
              "      <td>0.000000</td>\n",
              "    </tr>\n",
              "    <tr>\n",
              "      <th>max</th>\n",
              "      <td>360.000000</td>\n",
              "      <td>41.400000</td>\n",
              "      <td>360.000000</td>\n",
              "      <td>18.900000</td>\n",
              "      <td>1035.200000</td>\n",
              "      <td>30.900000</td>\n",
              "      <td>9.381775</td>\n",
              "      <td>1.000000</td>\n",
              "    </tr>\n",
              "  </tbody>\n",
              "</table>\n",
              "</div>"
            ],
            "text/plain": [
              "              drct         sped  ...          SBI    AttackCat\n",
              "count  3171.000000  3171.000000  ...  3171.000000  3171.000000\n",
              "mean    162.933925     8.198853  ...     3.791947     0.029959\n",
              "std      92.089884     3.500473  ...     2.168168     0.170501\n",
              "min       0.000000     0.000000  ...    -0.389268     0.000000\n",
              "25%      84.166667     6.037500  ...     1.807751     0.000000\n",
              "50%     172.500000     8.050000  ...     3.582850     0.000000\n",
              "75%     232.500000    10.350000  ...     5.518611     0.000000\n",
              "max     360.000000    41.400000  ...     9.381775     1.000000\n",
              "\n",
              "[8 rows x 8 columns]"
            ]
          },
          "metadata": {},
          "execution_count": 6
        }
      ]
    },
    {
      "cell_type": "markdown",
      "source": [
        "Next we perform a correlation matrix to see how the variables are related to one another. Although **WDIR** and **drct** as well as **WSPD** and **sped** have a greater than 0.5 correlation. It is important to keep them both in the analysis as they represent the conditions on the sea and the land respectively."
      ],
      "metadata": {
        "id": "_gM31Tl1uHZG"
      }
    },
    {
      "cell_type": "code",
      "metadata": {
        "colab": {
          "base_uri": "https://localhost:8080/",
          "height": 378
        },
        "id": "hnnMBQ5Urgf9",
        "outputId": "1d231ce5-933c-49bc-acb8-e4f8ac7cdb51"
      },
      "source": [
        "import seaborn as sns\n",
        "\n",
        "plt.figure(figsize=(9,6))\n",
        "sns.heatmap(df1.corr(),annot=True,cmap='cubehelix_r')\n",
        "plt.show()"
      ],
      "execution_count": 7,
      "outputs": [
        {
          "output_type": "display_data",
          "data": {
            "image/png": "[encoded data removed]",
            "text/plain": [
              "<Figure size 648x432 with 2 Axes>"
            ]
          },
          "metadata": {
            "needs_background": "light"
          }
        }
      ]
    },
    {
      "cell_type": "markdown",
      "metadata": {
        "id": "WKYddGBTyLkh"
      },
      "source": [
        "While kmeans clustering doesn't need to be split into train and test, it is still important to remove the dependent variable **AttackCat** so we can perform unsupervised modelling uninfluenced by our target."
      ]
    },
    {
      "cell_type": "code",
      "metadata": {
        "id": "uEAUa0lbyO-r",
        "colab": {
          "base_uri": "https://localhost:8080/",
          "height": 423
        },
        "outputId": "f31ee4cd-369f-4a3e-97e0-7790044d66e3"
      },
      "source": [
        "X = df1.drop(columns = \"AttackCat\")\n",
        "y = df1.AttackCat\n",
        "\n",
        "X"
      ],
      "execution_count": 8,
      "outputs": [
        {
          "output_type": "execute_result",
          "data": {
            "text/html": [
              "<div>\n",
              "<style scoped>\n",
              "    .dataframe tbody tr th:only-of-type {\n",
              "        vertical-align: middle;\n",
              "    }\n",
              "\n",
              "    .dataframe tbody tr th {\n",
              "        vertical-align: top;\n",
              "    }\n",
              "\n",
              "    .dataframe thead th {\n",
              "        text-align: right;\n",
              "    }\n",
              "</style>\n",
              "<table border=\"1\" class=\"dataframe\">\n",
              "  <thead>\n",
              "    <tr style=\"text-align: right;\">\n",
              "      <th></th>\n",
              "      <th>drct</th>\n",
              "      <th>sped</th>\n",
              "      <th>WDIR</th>\n",
              "      <th>WSPD</th>\n",
              "      <th>PRES</th>\n",
              "      <th>WTMP</th>\n",
              "      <th>SBI</th>\n",
              "    </tr>\n",
              "  </thead>\n",
              "  <tbody>\n",
              "    <tr>\n",
              "      <th>0</th>\n",
              "      <td>67.500000</td>\n",
              "      <td>8.0500</td>\n",
              "      <td>250.0</td>\n",
              "      <td>4.0</td>\n",
              "      <td>1017.408303</td>\n",
              "      <td>21.836225</td>\n",
              "      <td>4.547025</td>\n",
              "    </tr>\n",
              "    <tr>\n",
              "      <th>1</th>\n",
              "      <td>22.500000</td>\n",
              "      <td>2.0125</td>\n",
              "      <td>80.0</td>\n",
              "      <td>5.0</td>\n",
              "      <td>1017.408303</td>\n",
              "      <td>21.836225</td>\n",
              "      <td>6.092861</td>\n",
              "    </tr>\n",
              "    <tr>\n",
              "      <th>2</th>\n",
              "      <td>25.000000</td>\n",
              "      <td>8.3375</td>\n",
              "      <td>50.0</td>\n",
              "      <td>6.0</td>\n",
              "      <td>1017.408303</td>\n",
              "      <td>21.836225</td>\n",
              "      <td>7.273592</td>\n",
              "    </tr>\n",
              "    <tr>\n",
              "      <th>3</th>\n",
              "      <td>0.000000</td>\n",
              "      <td>0.0000</td>\n",
              "      <td>350.0</td>\n",
              "      <td>5.0</td>\n",
              "      <td>1017.408303</td>\n",
              "      <td>21.836225</td>\n",
              "      <td>5.821537</td>\n",
              "    </tr>\n",
              "    <tr>\n",
              "      <th>4</th>\n",
              "      <td>25.000000</td>\n",
              "      <td>9.4875</td>\n",
              "      <td>50.0</td>\n",
              "      <td>8.0</td>\n",
              "      <td>1017.408303</td>\n",
              "      <td>21.836225</td>\n",
              "      <td>6.718124</td>\n",
              "    </tr>\n",
              "    <tr>\n",
              "      <th>...</th>\n",
              "      <td>...</td>\n",
              "      <td>...</td>\n",
              "      <td>...</td>\n",
              "      <td>...</td>\n",
              "      <td>...</td>\n",
              "      <td>...</td>\n",
              "      <td>...</td>\n",
              "    </tr>\n",
              "    <tr>\n",
              "      <th>3166</th>\n",
              "      <td>32.500000</td>\n",
              "      <td>6.3250</td>\n",
              "      <td>38.0</td>\n",
              "      <td>6.6</td>\n",
              "      <td>1032.100000</td>\n",
              "      <td>13.900000</td>\n",
              "      <td>4.738069</td>\n",
              "    </tr>\n",
              "    <tr>\n",
              "      <th>3167</th>\n",
              "      <td>250.000000</td>\n",
              "      <td>11.7875</td>\n",
              "      <td>269.0</td>\n",
              "      <td>0.8</td>\n",
              "      <td>1025.500000</td>\n",
              "      <td>13.900000</td>\n",
              "      <td>3.090149</td>\n",
              "    </tr>\n",
              "    <tr>\n",
              "      <th>3168</th>\n",
              "      <td>48.792615</td>\n",
              "      <td>6.3250</td>\n",
              "      <td>270.0</td>\n",
              "      <td>1.8</td>\n",
              "      <td>1021.500000</td>\n",
              "      <td>14.400000</td>\n",
              "      <td>5.244294</td>\n",
              "    </tr>\n",
              "    <tr>\n",
              "      <th>3169</th>\n",
              "      <td>222.500000</td>\n",
              "      <td>12.3625</td>\n",
              "      <td>225.0</td>\n",
              "      <td>8.3</td>\n",
              "      <td>1012.900000</td>\n",
              "      <td>14.300000</td>\n",
              "      <td>3.314484</td>\n",
              "    </tr>\n",
              "    <tr>\n",
              "      <th>3170</th>\n",
              "      <td>282.500000</td>\n",
              "      <td>13.2250</td>\n",
              "      <td>306.0</td>\n",
              "      <td>7.9</td>\n",
              "      <td>1022.500000</td>\n",
              "      <td>14.000000</td>\n",
              "      <td>7.603387</td>\n",
              "    </tr>\n",
              "  </tbody>\n",
              "</table>\n",
              "<p>3171 rows × 7 columns</p>\n",
              "</div>"
            ],
            "text/plain": [
              "            drct     sped   WDIR  WSPD         PRES       WTMP       SBI\n",
              "0      67.500000   8.0500  250.0   4.0  1017.408303  21.836225  4.547025\n",
              "1      22.500000   2.0125   80.0   5.0  1017.408303  21.836225  6.092861\n",
              "2      25.000000   8.3375   50.0   6.0  1017.408303  21.836225  7.273592\n",
              "3       0.000000   0.0000  350.0   5.0  1017.408303  21.836225  5.821537\n",
              "4      25.000000   9.4875   50.0   8.0  1017.408303  21.836225  6.718124\n",
              "...          ...      ...    ...   ...          ...        ...       ...\n",
              "3166   32.500000   6.3250   38.0   6.6  1032.100000  13.900000  4.738069\n",
              "3167  250.000000  11.7875  269.0   0.8  1025.500000  13.900000  3.090149\n",
              "3168   48.792615   6.3250  270.0   1.8  1021.500000  14.400000  5.244294\n",
              "3169  222.500000  12.3625  225.0   8.3  1012.900000  14.300000  3.314484\n",
              "3170  282.500000  13.2250  306.0   7.9  1022.500000  14.000000  7.603387\n",
              "\n",
              "[3171 rows x 7 columns]"
            ]
          },
          "metadata": {},
          "execution_count": 8
        }
      ]
    },
    {
      "cell_type": "code",
      "metadata": {
        "id": "_BBgGJR2SujP",
        "colab": {
          "base_uri": "https://localhost:8080/"
        },
        "outputId": "9376840a-a4bd-47b2-8f67-3ce1587b3449"
      },
      "source": [
        "X.columns"
      ],
      "execution_count": 9,
      "outputs": [
        {
          "output_type": "execute_result",
          "data": {
            "text/plain": [
              "Index(['drct', 'sped', 'WDIR', 'WSPD', 'PRES', 'WTMP', 'SBI'], dtype='object')"
            ]
          },
          "metadata": {},
          "execution_count": 9
        }
      ]
    },
    {
      "cell_type": "markdown",
      "metadata": {
        "id": "wyKrh1iEyIA4"
      },
      "source": [
        "We normalize the dataset for this clustering method using MinMaxScaler, which scales and normalizes the data, making it ready to analyze."
      ]
    },
    {
      "cell_type": "code",
      "metadata": {
        "colab": {
          "base_uri": "https://localhost:8080/",
          "height": 423
        },
        "id": "ZMjrbSTFM2TO",
        "outputId": "9770f01c-c850-41ba-a635-a854cd8bd347"
      },
      "source": [
        "from sklearn.preprocessing import MinMaxScaler\n",
        "norm = MinMaxScaler()\n",
        "normal_data = pd.DataFrame(\n",
        "    norm.fit_transform(X))\n",
        "normal_data\n"
      ],
      "execution_count": 10,
      "outputs": [
        {
          "output_type": "execute_result",
          "data": {
            "text/html": [
              "<div>\n",
              "<style scoped>\n",
              "    .dataframe tbody tr th:only-of-type {\n",
              "        vertical-align: middle;\n",
              "    }\n",
              "\n",
              "    .dataframe tbody tr th {\n",
              "        vertical-align: top;\n",
              "    }\n",
              "\n",
              "    .dataframe thead th {\n",
              "        text-align: right;\n",
              "    }\n",
              "</style>\n",
              "<table border=\"1\" class=\"dataframe\">\n",
              "  <thead>\n",
              "    <tr style=\"text-align: right;\">\n",
              "      <th></th>\n",
              "      <th>0</th>\n",
              "      <th>1</th>\n",
              "      <th>2</th>\n",
              "      <th>3</th>\n",
              "      <th>4</th>\n",
              "      <th>5</th>\n",
              "      <th>6</th>\n",
              "    </tr>\n",
              "  </thead>\n",
              "  <tbody>\n",
              "    <tr>\n",
              "      <th>0</th>\n",
              "      <td>0.187500</td>\n",
              "      <td>0.194444</td>\n",
              "      <td>0.694444</td>\n",
              "      <td>0.211640</td>\n",
              "      <td>0.533026</td>\n",
              "      <td>0.499239</td>\n",
              "      <td>0.505196</td>\n",
              "    </tr>\n",
              "    <tr>\n",
              "      <th>1</th>\n",
              "      <td>0.062500</td>\n",
              "      <td>0.048611</td>\n",
              "      <td>0.222222</td>\n",
              "      <td>0.264550</td>\n",
              "      <td>0.533026</td>\n",
              "      <td>0.499239</td>\n",
              "      <td>0.663402</td>\n",
              "    </tr>\n",
              "    <tr>\n",
              "      <th>2</th>\n",
              "      <td>0.069444</td>\n",
              "      <td>0.201389</td>\n",
              "      <td>0.138889</td>\n",
              "      <td>0.317460</td>\n",
              "      <td>0.533026</td>\n",
              "      <td>0.499239</td>\n",
              "      <td>0.784242</td>\n",
              "    </tr>\n",
              "    <tr>\n",
              "      <th>3</th>\n",
              "      <td>0.000000</td>\n",
              "      <td>0.000000</td>\n",
              "      <td>0.972222</td>\n",
              "      <td>0.264550</td>\n",
              "      <td>0.533026</td>\n",
              "      <td>0.499239</td>\n",
              "      <td>0.635634</td>\n",
              "    </tr>\n",
              "    <tr>\n",
              "      <th>4</th>\n",
              "      <td>0.069444</td>\n",
              "      <td>0.229167</td>\n",
              "      <td>0.138889</td>\n",
              "      <td>0.423280</td>\n",
              "      <td>0.533026</td>\n",
              "      <td>0.499239</td>\n",
              "      <td>0.727393</td>\n",
              "    </tr>\n",
              "    <tr>\n",
              "      <th>...</th>\n",
              "      <td>...</td>\n",
              "      <td>...</td>\n",
              "      <td>...</td>\n",
              "      <td>...</td>\n",
              "      <td>...</td>\n",
              "      <td>...</td>\n",
              "      <td>...</td>\n",
              "    </tr>\n",
              "    <tr>\n",
              "      <th>3166</th>\n",
              "      <td>0.090278</td>\n",
              "      <td>0.152778</td>\n",
              "      <td>0.105556</td>\n",
              "      <td>0.349206</td>\n",
              "      <td>0.918635</td>\n",
              "      <td>0.060773</td>\n",
              "      <td>0.524748</td>\n",
              "    </tr>\n",
              "    <tr>\n",
              "      <th>3167</th>\n",
              "      <td>0.694444</td>\n",
              "      <td>0.284722</td>\n",
              "      <td>0.747222</td>\n",
              "      <td>0.042328</td>\n",
              "      <td>0.745407</td>\n",
              "      <td>0.060773</td>\n",
              "      <td>0.356095</td>\n",
              "    </tr>\n",
              "    <tr>\n",
              "      <th>3168</th>\n",
              "      <td>0.135535</td>\n",
              "      <td>0.152778</td>\n",
              "      <td>0.750000</td>\n",
              "      <td>0.095238</td>\n",
              "      <td>0.640420</td>\n",
              "      <td>0.088398</td>\n",
              "      <td>0.576557</td>\n",
              "    </tr>\n",
              "    <tr>\n",
              "      <th>3169</th>\n",
              "      <td>0.618056</td>\n",
              "      <td>0.298611</td>\n",
              "      <td>0.625000</td>\n",
              "      <td>0.439153</td>\n",
              "      <td>0.414698</td>\n",
              "      <td>0.082873</td>\n",
              "      <td>0.379054</td>\n",
              "    </tr>\n",
              "    <tr>\n",
              "      <th>3170</th>\n",
              "      <td>0.784722</td>\n",
              "      <td>0.319444</td>\n",
              "      <td>0.850000</td>\n",
              "      <td>0.417989</td>\n",
              "      <td>0.666667</td>\n",
              "      <td>0.066298</td>\n",
              "      <td>0.817994</td>\n",
              "    </tr>\n",
              "  </tbody>\n",
              "</table>\n",
              "<p>3171 rows × 7 columns</p>\n",
              "</div>"
            ],
            "text/plain": [
              "             0         1         2         3         4         5         6\n",
              "0     0.187500  0.194444  0.694444  0.211640  0.533026  0.499239  0.505196\n",
              "1     0.062500  0.048611  0.222222  0.264550  0.533026  0.499239  0.663402\n",
              "2     0.069444  0.201389  0.138889  0.317460  0.533026  0.499239  0.784242\n",
              "3     0.000000  0.000000  0.972222  0.264550  0.533026  0.499239  0.635634\n",
              "4     0.069444  0.229167  0.138889  0.423280  0.533026  0.499239  0.727393\n",
              "...        ...       ...       ...       ...       ...       ...       ...\n",
              "3166  0.090278  0.152778  0.105556  0.349206  0.918635  0.060773  0.524748\n",
              "3167  0.694444  0.284722  0.747222  0.042328  0.745407  0.060773  0.356095\n",
              "3168  0.135535  0.152778  0.750000  0.095238  0.640420  0.088398  0.576557\n",
              "3169  0.618056  0.298611  0.625000  0.439153  0.414698  0.082873  0.379054\n",
              "3170  0.784722  0.319444  0.850000  0.417989  0.666667  0.066298  0.817994\n",
              "\n",
              "[3171 rows x 7 columns]"
            ]
          },
          "metadata": {},
          "execution_count": 10
        }
      ]
    },
    {
      "cell_type": "markdown",
      "source": [
        "### Modelling"
      ],
      "metadata": {
        "id": "tHtPETvQvTHz"
      }
    },
    {
      "cell_type": "markdown",
      "source": [
        "Next we start the kmeans analysis on the normalized data using multiple numbers of clusters in order to measure the silohuette score and intertia/distortion of clusters based on how many there were. Silohuette score measures how separated the data point in each cluster are from one another. The higher the score the better the kmeans using that number of clusters performed. Intertia/distortion measures the distances and or separation of the data points within the clusters so having a lower inertia is better."
      ],
      "metadata": {
        "id": "y15LG1Z-vXQQ"
      }
    },
    {
      "cell_type": "markdown",
      "metadata": {
        "id": "n69K8tnTyPNr"
      },
      "source": [
        "We use the visualization of distortion to help us determine the numbers of clusters to use for the KMeans algorithm."
      ]
    },
    {
      "cell_type": "code",
      "metadata": {
        "colab": {
          "base_uri": "https://localhost:8080/",
          "height": 279
        },
        "id": "Mp7GBpVxXyu2",
        "outputId": "6ae1d7d1-e253-4a67-f8d3-ad7b51344bb5"
      },
      "source": [
        "#import library\n",
        "from sklearn.cluster import KMeans\n",
        "\n",
        "distortions = []\n",
        "for i in range(1, 11):\n",
        "    km = KMeans(\n",
        "        n_clusters=i, #init='random',\n",
        "        n_init=10, max_iter=300,\n",
        "        tol=1e-04, random_state=0\n",
        "    )\n",
        "    km.fit(normal_data)\n",
        "    distortions.append(km.inertia_)\n",
        "\n",
        "# plot\n",
        "plt.plot(range(1, 11), distortions, marker='o')\n",
        "plt.xlabel('Number of clusters')\n",
        "plt.ylabel('Distortion')\n",
        "plt.show()"
      ],
      "execution_count": 11,
      "outputs": [
        {
          "output_type": "display_data",
          "data": {
            "image/png": "[encoded data removed]",
            "text/plain": [
              "<Figure size 432x288 with 1 Axes>"
            ]
          },
          "metadata": {
            "needs_background": "light"
          }
        }
      ]
    },
    {
      "cell_type": "markdown",
      "metadata": {
        "id": "gik0d1Q5MgIW"
      },
      "source": [
        "Next we add a silohuette score visualization as well which tells how much separation there is between clusters. A higher score indicates more separation."
      ]
    },
    {
      "cell_type": "code",
      "metadata": {
        "id": "weI8V8OBP_Ru",
        "colab": {
          "base_uri": "https://localhost:8080/"
        },
        "outputId": "fcc14713-a344-43d1-a734-07c9f4dd50a6"
      },
      "source": [
        "from sklearn.metrics import silhouette_score\n",
        "\n",
        "kmeans_per_k = [KMeans(n_clusters=k, init='random',\n",
        "                       n_init=10, max_iter=300,\n",
        "                       tol=1e-04,random_state=42).fit(normal_data)\n",
        "                for k in range(1, 12)]\n",
        "\n",
        "silhouette_scores = [silhouette_score(normal_data, model.labels_)\n",
        "                     for model in kmeans_per_k[1:]]\n",
        "\n",
        "silhouette_scores"
      ],
      "execution_count": 12,
      "outputs": [
        {
          "output_type": "execute_result",
          "data": {
            "text/plain": [
              "[0.34636627627287075,\n",
              " 0.28178057663751727,\n",
              " 0.24071327877250315,\n",
              " 0.25472917968505326,\n",
              " 0.25719900347377217,\n",
              " 0.2675509520454855,\n",
              " 0.2509998291045853,\n",
              " 0.23621938925111347,\n",
              " 0.2264012047274199,\n",
              " 0.21019487823709898]"
            ]
          },
          "metadata": {},
          "execution_count": 12
        }
      ]
    },
    {
      "cell_type": "code",
      "metadata": {
        "colab": {
          "base_uri": "https://localhost:8080/",
          "height": 234
        },
        "id": "6Ve6bD0-RpRk",
        "outputId": "8fd8f65d-a99f-415c-e045-86b4d268da7f"
      },
      "source": [
        "#Plotting the scores for each number of calculated Kmeans clusters\n",
        "\n",
        "plt.figure(figsize=(8, 3))\n",
        "plt.plot(range(1,11), silhouette_scores, \"bo-\")\n",
        "plt.xlabel(\"$k$\", fontsize=14)\n",
        "plt.ylabel(\"Silhouette score\", fontsize=14)\n",
        "plt.axis([0, 12, 0.1, .5])\n",
        "#save_fig(\"silhouette_score_vs_k_plot\")\n",
        "plt.show()"
      ],
      "execution_count": 13,
      "outputs": [
        {
          "output_type": "display_data",
          "data": {
            "image/png": "[encoded data removed]",
            "text/plain": [
              "<Figure size 576x216 with 1 Axes>"
            ]
          },
          "metadata": {
            "needs_background": "light"
          }
        }
      ]
    },
    {
      "cell_type": "markdown",
      "source": [
        "Although 2 clusters seems to have the highest score (ignoring kmeans with 1 cluster), the kmeans with 6 clusters performed almost as well and has a lower inertia than 2 clusters. Although the scores overall aren't high, this is expected due to the variability of weather and inability to capture all input variables."
      ],
      "metadata": {
        "id": "PStjZRv0vg6a"
      }
    },
    {
      "cell_type": "markdown",
      "metadata": {
        "id": "FC9dirvOyZq1"
      },
      "source": [
        "Next we fit the KMeans algorithm to datasets on 6 clusters."
      ]
    },
    {
      "cell_type": "code",
      "metadata": {
        "id": "fkAVBgU8Dwus"
      },
      "source": [
        "km = KMeans(\n",
        "    n_clusters=6, random_state=0\n",
        ")\n",
        "km.fit_predict(normal_data)\n",
        "df_km = km.fit_predict(normal_data)"
      ],
      "execution_count": 14,
      "outputs": []
    },
    {
      "cell_type": "code",
      "metadata": {
        "id": "2cuzG6orenQo",
        "colab": {
          "base_uri": "https://localhost:8080/",
          "height": 206
        },
        "outputId": "1367b044-3d0f-4aca-ab9a-22b42d826d54"
      },
      "source": [
        "labels = km.labels_\n",
        "\n",
        "cluster_data = df1\n",
        "cluster_data['cluster_num'] = labels\n",
        "cluster_data.head()"
      ],
      "execution_count": 15,
      "outputs": [
        {
          "output_type": "execute_result",
          "data": {
            "text/html": [
              "<div>\n",
              "<style scoped>\n",
              "    .dataframe tbody tr th:only-of-type {\n",
              "        vertical-align: middle;\n",
              "    }\n",
              "\n",
              "    .dataframe tbody tr th {\n",
              "        vertical-align: top;\n",
              "    }\n",
              "\n",
              "    .dataframe thead th {\n",
              "        text-align: right;\n",
              "    }\n",
              "</style>\n",
              "<table border=\"1\" class=\"dataframe\">\n",
              "  <thead>\n",
              "    <tr style=\"text-align: right;\">\n",
              "      <th></th>\n",
              "      <th>drct</th>\n",
              "      <th>sped</th>\n",
              "      <th>WDIR</th>\n",
              "      <th>WSPD</th>\n",
              "      <th>PRES</th>\n",
              "      <th>WTMP</th>\n",
              "      <th>SBI</th>\n",
              "      <th>AttackCat</th>\n",
              "      <th>cluster_num</th>\n",
              "    </tr>\n",
              "  </thead>\n",
              "  <tbody>\n",
              "    <tr>\n",
              "      <th>0</th>\n",
              "      <td>67.5</td>\n",
              "      <td>8.0500</td>\n",
              "      <td>250.0</td>\n",
              "      <td>4.0</td>\n",
              "      <td>1017.408303</td>\n",
              "      <td>21.836225</td>\n",
              "      <td>4.547025</td>\n",
              "      <td>0.0</td>\n",
              "      <td>0</td>\n",
              "    </tr>\n",
              "    <tr>\n",
              "      <th>1</th>\n",
              "      <td>22.5</td>\n",
              "      <td>2.0125</td>\n",
              "      <td>80.0</td>\n",
              "      <td>5.0</td>\n",
              "      <td>1017.408303</td>\n",
              "      <td>21.836225</td>\n",
              "      <td>6.092861</td>\n",
              "      <td>0.0</td>\n",
              "      <td>1</td>\n",
              "    </tr>\n",
              "    <tr>\n",
              "      <th>2</th>\n",
              "      <td>25.0</td>\n",
              "      <td>8.3375</td>\n",
              "      <td>50.0</td>\n",
              "      <td>6.0</td>\n",
              "      <td>1017.408303</td>\n",
              "      <td>21.836225</td>\n",
              "      <td>7.273592</td>\n",
              "      <td>0.0</td>\n",
              "      <td>1</td>\n",
              "    </tr>\n",
              "    <tr>\n",
              "      <th>3</th>\n",
              "      <td>0.0</td>\n",
              "      <td>0.0000</td>\n",
              "      <td>350.0</td>\n",
              "      <td>5.0</td>\n",
              "      <td>1017.408303</td>\n",
              "      <td>21.836225</td>\n",
              "      <td>5.821537</td>\n",
              "      <td>0.0</td>\n",
              "      <td>0</td>\n",
              "    </tr>\n",
              "    <tr>\n",
              "      <th>4</th>\n",
              "      <td>25.0</td>\n",
              "      <td>9.4875</td>\n",
              "      <td>50.0</td>\n",
              "      <td>8.0</td>\n",
              "      <td>1017.408303</td>\n",
              "      <td>21.836225</td>\n",
              "      <td>6.718124</td>\n",
              "      <td>0.0</td>\n",
              "      <td>1</td>\n",
              "    </tr>\n",
              "  </tbody>\n",
              "</table>\n",
              "</div>"
            ],
            "text/plain": [
              "   drct    sped   WDIR  WSPD  ...       WTMP       SBI  AttackCat  cluster_num\n",
              "0  67.5  8.0500  250.0   4.0  ...  21.836225  4.547025        0.0            0\n",
              "1  22.5  2.0125   80.0   5.0  ...  21.836225  6.092861        0.0            1\n",
              "2  25.0  8.3375   50.0   6.0  ...  21.836225  7.273592        0.0            1\n",
              "3   0.0  0.0000  350.0   5.0  ...  21.836225  5.821537        0.0            0\n",
              "4  25.0  9.4875   50.0   8.0  ...  21.836225  6.718124        0.0            1\n",
              "\n",
              "[5 rows x 9 columns]"
            ]
          },
          "metadata": {},
          "execution_count": 15
        }
      ]
    },
    {
      "cell_type": "markdown",
      "source": [
        "### Evaluation"
      ],
      "metadata": {
        "id": "xefoaNuIwfHq"
      }
    },
    {
      "cell_type": "markdown",
      "source": [
        "The next step is to evaluate the clusters. First we group the data by clusters so we can extract information on the weather patterns described in each cluster. Specifically which cluster has the most shark attacks within it."
      ],
      "metadata": {
        "id": "yL6iLXFawhe9"
      }
    },
    {
      "cell_type": "code",
      "metadata": {
        "colab": {
          "base_uri": "https://localhost:8080/"
        },
        "id": "ajKDCRJBOeE7",
        "outputId": "e6dc76aa-9895-4af4-b7dc-9f9ebc516617"
      },
      "source": [
        "cluster_sum = cluster_data.groupby('cluster_num').sum()\n",
        "\n",
        "cluster_sum.AttackCat"
      ],
      "execution_count": 16,
      "outputs": [
        {
          "output_type": "execute_result",
          "data": {
            "text/plain": [
              "cluster_num\n",
              "0    43.0\n",
              "1     6.0\n",
              "2     1.0\n",
              "3    16.0\n",
              "4     4.0\n",
              "5    25.0\n",
              "Name: AttackCat, dtype: float64"
            ]
          },
          "metadata": {},
          "execution_count": 16
        }
      ]
    },
    {
      "cell_type": "markdown",
      "source": [
        "Using a bar graph we show the number of values that are within each cluster so we have an idea of the proportion and significance of clusters and their values.\n",
        "\n",
        "Cluster 0 seems to have the most data points followed by cluster 3. The cluster with the least is cluster 5."
      ],
      "metadata": {
        "id": "OC7fdVcXwdlL"
      }
    },
    {
      "cell_type": "code",
      "metadata": {
        "colab": {
          "base_uri": "https://localhost:8080/",
          "height": 422
        },
        "id": "y0GCYglTNLUD",
        "outputId": "003d7fb1-48d5-4896-e811-e8edc67db302"
      },
      "source": [
        "cluster_counts = pd.DataFrame(cluster_data.cluster_num.value_counts())\n",
        "\n",
        "plt.figure(figsize = (9,6))\n",
        "plt.bar(cluster_counts.index, cluster_counts.cluster_num)\n",
        "\n",
        "plt.title(\"Number of Values in Each Cluster\")\n",
        "plt.xlabel(\"Cluster Number\")\n",
        "plt.ylabel(\"Frequency\")"
      ],
      "execution_count": 17,
      "outputs": [
        {
          "output_type": "execute_result",
          "data": {
            "text/plain": [
              "Text(0, 0.5, 'Frequency')"
            ]
          },
          "metadata": {},
          "execution_count": 17
        },
        {
          "output_type": "display_data",
          "data": {
            "image/png": "[encoded data removed]",
            "text/plain": [
              "<Figure size 648x432 with 1 Axes>"
            ]
          },
          "metadata": {
            "needs_background": "light"
          }
        }
      ]
    },
    {
      "cell_type": "markdown",
      "source": [
        "Grouping by clusters on the average, we get the following results:"
      ],
      "metadata": {
        "id": "54YX2FT6xJSN"
      }
    },
    {
      "cell_type": "code",
      "metadata": {
        "colab": {
          "base_uri": "https://localhost:8080/",
          "height": 269
        },
        "id": "Vw9NDl4GFrQZ",
        "outputId": "083ff61e-24a0-48ef-865e-92d61134f4e1"
      },
      "source": [
        "#Group by the clusters\n",
        "clusters = cluster_data.groupby('cluster_num').mean()\n",
        "cluster_data.groupby('cluster_num').mean()\n"
      ],
      "execution_count": 18,
      "outputs": [
        {
          "output_type": "execute_result",
          "data": {
            "text/html": [
              "<div>\n",
              "<style scoped>\n",
              "    .dataframe tbody tr th:only-of-type {\n",
              "        vertical-align: middle;\n",
              "    }\n",
              "\n",
              "    .dataframe tbody tr th {\n",
              "        vertical-align: top;\n",
              "    }\n",
              "\n",
              "    .dataframe thead th {\n",
              "        text-align: right;\n",
              "    }\n",
              "</style>\n",
              "<table border=\"1\" class=\"dataframe\">\n",
              "  <thead>\n",
              "    <tr style=\"text-align: right;\">\n",
              "      <th></th>\n",
              "      <th>drct</th>\n",
              "      <th>sped</th>\n",
              "      <th>WDIR</th>\n",
              "      <th>WSPD</th>\n",
              "      <th>PRES</th>\n",
              "      <th>WTMP</th>\n",
              "      <th>SBI</th>\n",
              "      <th>AttackCat</th>\n",
              "    </tr>\n",
              "    <tr>\n",
              "      <th>cluster_num</th>\n",
              "      <th></th>\n",
              "      <th></th>\n",
              "      <th></th>\n",
              "      <th></th>\n",
              "      <th></th>\n",
              "      <th></th>\n",
              "      <th></th>\n",
              "      <th></th>\n",
              "    </tr>\n",
              "  </thead>\n",
              "  <tbody>\n",
              "    <tr>\n",
              "      <th>0</th>\n",
              "      <td>186.400353</td>\n",
              "      <td>7.910605</td>\n",
              "      <td>243.758586</td>\n",
              "      <td>4.352103</td>\n",
              "      <td>1017.172533</td>\n",
              "      <td>21.541642</td>\n",
              "      <td>2.717496</td>\n",
              "      <td>0.043434</td>\n",
              "    </tr>\n",
              "    <tr>\n",
              "      <th>1</th>\n",
              "      <td>65.627090</td>\n",
              "      <td>8.668792</td>\n",
              "      <td>49.329247</td>\n",
              "      <td>7.497198</td>\n",
              "      <td>1023.435312</td>\n",
              "      <td>21.043064</td>\n",
              "      <td>6.003703</td>\n",
              "      <td>0.010508</td>\n",
              "    </tr>\n",
              "    <tr>\n",
              "      <th>2</th>\n",
              "      <td>277.371553</td>\n",
              "      <td>10.545390</td>\n",
              "      <td>306.611738</td>\n",
              "      <td>6.333183</td>\n",
              "      <td>1017.588162</td>\n",
              "      <td>21.280633</td>\n",
              "      <td>5.993100</td>\n",
              "      <td>0.002257</td>\n",
              "    </tr>\n",
              "    <tr>\n",
              "      <th>3</th>\n",
              "      <td>87.048843</td>\n",
              "      <td>6.734884</td>\n",
              "      <td>67.617089</td>\n",
              "      <td>4.923389</td>\n",
              "      <td>1017.831257</td>\n",
              "      <td>23.018826</td>\n",
              "      <td>2.551294</td>\n",
              "      <td>0.025316</td>\n",
              "    </tr>\n",
              "    <tr>\n",
              "      <th>4</th>\n",
              "      <td>249.046362</td>\n",
              "      <td>8.133906</td>\n",
              "      <td>34.299296</td>\n",
              "      <td>4.343310</td>\n",
              "      <td>1019.822088</td>\n",
              "      <td>21.568677</td>\n",
              "      <td>4.814811</td>\n",
              "      <td>0.014085</td>\n",
              "    </tr>\n",
              "    <tr>\n",
              "      <th>5</th>\n",
              "      <td>183.404088</td>\n",
              "      <td>7.884857</td>\n",
              "      <td>235.309407</td>\n",
              "      <td>4.764314</td>\n",
              "      <td>1017.455378</td>\n",
              "      <td>28.887251</td>\n",
              "      <td>1.079921</td>\n",
              "      <td>0.099602</td>\n",
              "    </tr>\n",
              "  </tbody>\n",
              "</table>\n",
              "</div>"
            ],
            "text/plain": [
              "                   drct       sped        WDIR  ...       WTMP       SBI  AttackCat\n",
              "cluster_num                                     ...                                \n",
              "0            186.400353   7.910605  243.758586  ...  21.541642  2.717496   0.043434\n",
              "1             65.627090   8.668792   49.329247  ...  21.043064  6.003703   0.010508\n",
              "2            277.371553  10.545390  306.611738  ...  21.280633  5.993100   0.002257\n",
              "3             87.048843   6.734884   67.617089  ...  23.018826  2.551294   0.025316\n",
              "4            249.046362   8.133906   34.299296  ...  21.568677  4.814811   0.014085\n",
              "5            183.404088   7.884857  235.309407  ...  28.887251  1.079921   0.099602\n",
              "\n",
              "[6 rows x 8 columns]"
            ]
          },
          "metadata": {},
          "execution_count": 18
        }
      ]
    },
    {
      "cell_type": "markdown",
      "source": [
        "Here are the clusters sorted by the mean **AttackCat** so we can see what clusters have the most common percentage of shark attacks."
      ],
      "metadata": {
        "id": "5KVGHsujxtol"
      }
    },
    {
      "cell_type": "code",
      "metadata": {
        "colab": {
          "base_uri": "https://localhost:8080/",
          "height": 269
        },
        "id": "9xznl6orznmh",
        "outputId": "98255303-7624-4f94-d9e5-831819bec672"
      },
      "source": [
        "cluster_sort = clusters.sort_values(\"AttackCat\", ascending = False)\n",
        "clusters.sort_values(\"AttackCat\", ascending = False)"
      ],
      "execution_count": 19,
      "outputs": [
        {
          "output_type": "execute_result",
          "data": {
            "text/html": [
              "<div>\n",
              "<style scoped>\n",
              "    .dataframe tbody tr th:only-of-type {\n",
              "        vertical-align: middle;\n",
              "    }\n",
              "\n",
              "    .dataframe tbody tr th {\n",
              "        vertical-align: top;\n",
              "    }\n",
              "\n",
              "    .dataframe thead th {\n",
              "        text-align: right;\n",
              "    }\n",
              "</style>\n",
              "<table border=\"1\" class=\"dataframe\">\n",
              "  <thead>\n",
              "    <tr style=\"text-align: right;\">\n",
              "      <th></th>\n",
              "      <th>drct</th>\n",
              "      <th>sped</th>\n",
              "      <th>WDIR</th>\n",
              "      <th>WSPD</th>\n",
              "      <th>PRES</th>\n",
              "      <th>WTMP</th>\n",
              "      <th>SBI</th>\n",
              "      <th>AttackCat</th>\n",
              "    </tr>\n",
              "    <tr>\n",
              "      <th>cluster_num</th>\n",
              "      <th></th>\n",
              "      <th></th>\n",
              "      <th></th>\n",
              "      <th></th>\n",
              "      <th></th>\n",
              "      <th></th>\n",
              "      <th></th>\n",
              "      <th></th>\n",
              "    </tr>\n",
              "  </thead>\n",
              "  <tbody>\n",
              "    <tr>\n",
              "      <th>5</th>\n",
              "      <td>183.404088</td>\n",
              "      <td>7.884857</td>\n",
              "      <td>235.309407</td>\n",
              "      <td>4.764314</td>\n",
              "      <td>1017.455378</td>\n",
              "      <td>28.887251</td>\n",
              "      <td>1.079921</td>\n",
              "      <td>0.099602</td>\n",
              "    </tr>\n",
              "    <tr>\n",
              "      <th>0</th>\n",
              "      <td>186.400353</td>\n",
              "      <td>7.910605</td>\n",
              "      <td>243.758586</td>\n",
              "      <td>4.352103</td>\n",
              "      <td>1017.172533</td>\n",
              "      <td>21.541642</td>\n",
              "      <td>2.717496</td>\n",
              "      <td>0.043434</td>\n",
              "    </tr>\n",
              "    <tr>\n",
              "      <th>3</th>\n",
              "      <td>87.048843</td>\n",
              "      <td>6.734884</td>\n",
              "      <td>67.617089</td>\n",
              "      <td>4.923389</td>\n",
              "      <td>1017.831257</td>\n",
              "      <td>23.018826</td>\n",
              "      <td>2.551294</td>\n",
              "      <td>0.025316</td>\n",
              "    </tr>\n",
              "    <tr>\n",
              "      <th>4</th>\n",
              "      <td>249.046362</td>\n",
              "      <td>8.133906</td>\n",
              "      <td>34.299296</td>\n",
              "      <td>4.343310</td>\n",
              "      <td>1019.822088</td>\n",
              "      <td>21.568677</td>\n",
              "      <td>4.814811</td>\n",
              "      <td>0.014085</td>\n",
              "    </tr>\n",
              "    <tr>\n",
              "      <th>1</th>\n",
              "      <td>65.627090</td>\n",
              "      <td>8.668792</td>\n",
              "      <td>49.329247</td>\n",
              "      <td>7.497198</td>\n",
              "      <td>1023.435312</td>\n",
              "      <td>21.043064</td>\n",
              "      <td>6.003703</td>\n",
              "      <td>0.010508</td>\n",
              "    </tr>\n",
              "    <tr>\n",
              "      <th>2</th>\n",
              "      <td>277.371553</td>\n",
              "      <td>10.545390</td>\n",
              "      <td>306.611738</td>\n",
              "      <td>6.333183</td>\n",
              "      <td>1017.588162</td>\n",
              "      <td>21.280633</td>\n",
              "      <td>5.993100</td>\n",
              "      <td>0.002257</td>\n",
              "    </tr>\n",
              "  </tbody>\n",
              "</table>\n",
              "</div>"
            ],
            "text/plain": [
              "                   drct       sped        WDIR  ...       WTMP       SBI  AttackCat\n",
              "cluster_num                                     ...                                \n",
              "5            183.404088   7.884857  235.309407  ...  28.887251  1.079921   0.099602\n",
              "0            186.400353   7.910605  243.758586  ...  21.541642  2.717496   0.043434\n",
              "3             87.048843   6.734884   67.617089  ...  23.018826  2.551294   0.025316\n",
              "4            249.046362   8.133906   34.299296  ...  21.568677  4.814811   0.014085\n",
              "1             65.627090   8.668792   49.329247  ...  21.043064  6.003703   0.010508\n",
              "2            277.371553  10.545390  306.611738  ...  21.280633  5.993100   0.002257\n",
              "\n",
              "[6 rows x 8 columns]"
            ]
          },
          "metadata": {},
          "execution_count": 19
        }
      ]
    },
    {
      "cell_type": "markdown",
      "source": [
        "A few notable results from these clusters:\n",
        "1. The cluster with the highest proportion of shark attacks has the lowest SBI, indicating that the higher liklihood of a seabreeze and shark attacks correspond.\n",
        "3. Higher **SBI** corresponds to lower **AttackCat** which reaffirms our hypothesis of sea breeze increasing liklihood of shark presence.\n",
        "2. Seaward wind direction (**WDIR**) varies between 2 extremes in the clusters. around 250 and around 50 degrees from North.\n",
        "3. **PRES** remains mostly the same between clusters indicating that it doesn't have much impact in this model.\n"
      ],
      "metadata": {
        "id": "Z0g5TNawxeAv"
      }
    },
    {
      "cell_type": "code",
      "metadata": {
        "colab": {
          "base_uri": "https://localhost:8080/"
        },
        "id": "RF28ZqmWF7Ym",
        "outputId": "ba6bb055-eaf2-406a-e0df-c3f65ea327ba"
      },
      "source": [
        "#This is the baseline of the percentage of shark attacks \n",
        "#Proportion of shark attacks that occurred over the 3 year period from 2013 to the end of 2016\n",
        "baseline = df1.AttackCat[df1.AttackCat == 1].count()/df1.AttackCat.count()\n",
        "baseline = baseline.round(5)\n",
        "\n",
        "print(baseline)\n"
      ],
      "execution_count": 20,
      "outputs": [
        {
          "output_type": "stream",
          "name": "stdout",
          "text": [
            "0.02996\n"
          ]
        }
      ]
    },
    {
      "cell_type": "markdown",
      "source": [
        "To examine this further we created a scatterplot with probability of shark attacks and **SBI** while also measuring wind direction and grouped by cluster. When comparing to the baseline of shark attacks across the entire data, we see that a lower SBI is indicative of more attacks.\n",
        "\n",
        "The one point the doesn't follow this has a very different wind direction than the other clusters above the baseline. This indicates wind direction also plays a significant role in shark attack frequency which is reinforced by the dependence wind direction running perpendicular to the coast to create a strong sea breeze."
      ],
      "metadata": {
        "id": "dxa_AzYazmud"
      }
    },
    {
      "cell_type": "code",
      "metadata": {
        "colab": {
          "base_uri": "https://localhost:8080/",
          "height": 404
        },
        "id": "rgU-xLvbElAq",
        "outputId": "6d2a6487-f28c-40bc-dc8d-ea2ed84671e7"
      },
      "source": [
        "plt.figure(figsize=(9,6))\n",
        "plt.scatter(cluster_sort.SBI, cluster_sort.AttackCat*100, c = cluster_sort.WDIR, s = 100)\n",
        "\n",
        "shark_baseline = y.mean()*100\n",
        "plt.axhline(shark_baseline)\n",
        "plt.text(4,shark_baseline + .2, \"Average Attack Probability\")\n",
        "\n",
        "plt.title(\"Comparison of SBI and Shark Attacks Factoring in Wind Direction\")\n",
        "plt.xlabel(\"Sea Breeze Index\")\n",
        "plt.ylabel(\"% Chance of Shark Attack\")\n",
        "\n",
        "plt.colorbar(label = \"Wind Direction (° From North)\")\n",
        "plt.show()"
      ],
      "execution_count": 21,
      "outputs": [
        {
          "output_type": "display_data",
          "data": {
            "image/png": "[encoded data removed]",
            "text/plain": [
              "<Figure size 648x432 with 2 Axes>"
            ]
          },
          "metadata": {
            "needs_background": "light"
          }
        }
      ]
    },
    {
      "cell_type": "markdown",
      "source": [
        "To once again look at the relation of variables to one another, we performed a correlation matrix on the clustered data. From this we can tell that the correlation has become much more significant in many cases, but it is difficult to read so we decided to create a visualization of correlations to only **AttackCat**"
      ],
      "metadata": {
        "id": "OU2LIqiPv1dN"
      }
    },
    {
      "cell_type": "code",
      "metadata": {
        "colab": {
          "base_uri": "https://localhost:8080/",
          "height": 378
        },
        "id": "blBDNxrB0SLS",
        "outputId": "100d374c-8171-43a1-9db3-7d51331bb1ce"
      },
      "source": [
        "import seaborn as sns\n",
        "\n",
        "plt.figure(figsize=(9,6))\n",
        "sns.heatmap(clusters.corr(),annot=True,cmap='cubehelix_r')\n",
        "plt.show()"
      ],
      "execution_count": 22,
      "outputs": [
        {
          "output_type": "display_data",
          "data": {
            "image/png": "[encoded data removed]",
            "text/plain": [
              "<Figure size 648x432 with 2 Axes>"
            ]
          },
          "metadata": {
            "needs_background": "light"
          }
        }
      ]
    },
    {
      "cell_type": "code",
      "metadata": {
        "colab": {
          "base_uri": "https://localhost:8080/"
        },
        "id": "rGCTrywQ043e",
        "outputId": "69ade52b-da35-491a-8eab-7a98f20c8764"
      },
      "source": [
        "clusters.corr().AttackCat"
      ],
      "execution_count": 23,
      "outputs": [
        {
          "output_type": "execute_result",
          "data": {
            "text/plain": [
              "drct        -0.048396\n",
              "sped        -0.414896\n",
              "WDIR         0.326423\n",
              "WSPD        -0.462992\n",
              "PRES        -0.426910\n",
              "WTMP         0.925958\n",
              "SBI         -0.873133\n",
              "AttackCat    1.000000\n",
              "Name: AttackCat, dtype: float64"
            ]
          },
          "metadata": {},
          "execution_count": 23
        }
      ]
    },
    {
      "cell_type": "markdown",
      "source": [
        "We created a visualization to show the variables that were most correlated with **AttackCat**"
      ],
      "metadata": {
        "id": "dJN8mchp0Ie3"
      }
    },
    {
      "cell_type": "code",
      "metadata": {
        "id": "F1jW1KOcAqBU"
      },
      "source": [
        "abs_correlation = abs(clusters.corr().AttackCat)\n",
        "sorted_cluster = pd.DataFrame(abs_correlation.sort_values(ascending = True))\n",
        "\n",
        "color_map = []\n",
        "\n",
        "for x in sorted_cluster.AttackCat:\n",
        "  if x == 1:\n",
        "    color_map.append(\"black\")\n",
        "  elif x >= 0.6:\n",
        "    color_map.append(\"darkviolet\")\n",
        "  elif x >= 0.25:\n",
        "    color_map.append(\"violet\")\n",
        "  elif x > 0:\n",
        "    color_map.append(\"thistle\")"
      ],
      "execution_count": 24,
      "outputs": []
    },
    {
      "cell_type": "code",
      "metadata": {
        "colab": {
          "base_uri": "https://localhost:8080/",
          "height": 422
        },
        "id": "gVdhPx2K0koT",
        "outputId": "3de383df-dc23-4f68-be55-703419e082c6"
      },
      "source": [
        "plt.figure(figsize=(9,6))\n",
        "\n",
        "plt.barh(y = sorted_cluster.index, width = abs_correlation.sort_values(ascending = True), color = color_map)\n",
        "\n",
        "plt.title(\"Correlation of Clustered Variables to Shark Attacks\")\n",
        "plt.xlabel(\"Correlation to Attack\")\n",
        "plt.ylabel(\"Weather Variables\")\n",
        "#plt.axis\n",
        "plt.show"
      ],
      "execution_count": 25,
      "outputs": [
        {
          "output_type": "execute_result",
          "data": {
            "text/plain": [
              "<function matplotlib.pyplot.show>"
            ]
          },
          "metadata": {},
          "execution_count": 25
        },
        {
          "output_type": "display_data",
          "data": {
            "image/png": "[encoded data removed]",
            "text/plain": [
              "<Figure size 648x432 with 1 Axes>"
            ]
          },
          "metadata": {
            "needs_background": "light"
          }
        }
      ]
    },
    {
      "cell_type": "markdown",
      "source": [
        "The two most notable correlations are **Water Temperature** and **SBI**. The water temperature correlation backs up the data shown by Joe Merchant in his presentation of an increase in shark attacks coinciding with a higher than normal water temperature. Sea Breeze Index has a large correlation at around 0.8. This seems to prove that sea breeze or an environment conducive to sea breeze is a good predictor of the freqeuncy of shark attacks, thus reinforcing our hypothesis."
      ],
      "metadata": {
        "id": "A0k8JLux0R2r"
      }
    },
    {
      "cell_type": "code",
      "metadata": {
        "colab": {
          "base_uri": "https://localhost:8080/",
          "height": 265
        },
        "id": "bcF3DCETYOmH",
        "outputId": "c3f6a8cc-6e13-4705-fbfb-14b7fe630b0f"
      },
      "source": [
        "# plot the 6 clusters\n",
        "X = np.array(normal_data)\n",
        "plt.scatter(\n",
        "    X[df_km == 0, 0], X[df_km == 0, 1],\n",
        "    s=50, c='lightgreen',\n",
        "    marker='s', edgecolor='black', alpha=0.1,\n",
        "    label='cluster 1'\n",
        ")\n",
        "\n",
        "plt.scatter(\n",
        "    X[df_km == 1, 0], X[df_km == 1, 1],\n",
        "    s=50, c='orange',\n",
        "    marker='o', edgecolor='black', alpha=0.1,\n",
        "    label='cluster 2'\n",
        ")\n",
        "\n",
        "plt.scatter(\n",
        "    X[df_km == 2, 0], X[df_km == 2, 1],\n",
        "    s=50, c='lightblue',\n",
        "    marker='v', edgecolor='black', alpha=0.1,\n",
        "    label='cluster 3'\n",
        ")\n",
        "\n",
        "plt.scatter(\n",
        "    X[df_km == 3, 0], X[df_km == 3, 1],\n",
        "    s=50, c='violet',\n",
        "    marker='v', edgecolor='black', alpha=0.1,\n",
        "    label='cluster 4'\n",
        ")\n",
        "\n",
        "plt.scatter(\n",
        "    X[df_km == 4, 0], X[df_km == 4, 1],\n",
        "    s=50, c='thistle',\n",
        "    marker='v', edgecolor='black', alpha=0.1,\n",
        "    label='cluster 5'\n",
        ")\n",
        "\n",
        "plt.scatter(\n",
        "    X[df_km == 5, 0], X[df_km == 5, 1],\n",
        "    s=50, c='lightgray',\n",
        "    marker='v', edgecolor='black', alpha=0.1,\n",
        "    label='cluster 6'\n",
        ")\n",
        "\n",
        "# plot the centroids\n",
        "plt.scatter(\n",
        "    km.cluster_centers_[:, 0], km.cluster_centers_[:, 1],\n",
        "    s=250, marker='*',\n",
        "    c='red', edgecolor='black',\n",
        "    label='centroids'\n",
        ")\n",
        "plt.legend(scatterpoints=1)\n",
        "plt.grid()\n",
        "plt.show()"
      ],
      "execution_count": 26,
      "outputs": [
        {
          "output_type": "display_data",
          "data": {
            "image/png": "[encoded data removed]",
            "text/plain": [
              "<Figure size 432x288 with 1 Axes>"
            ]
          },
          "metadata": {
            "needs_background": "light"
          }
        }
      ]
    }
  ]
}
