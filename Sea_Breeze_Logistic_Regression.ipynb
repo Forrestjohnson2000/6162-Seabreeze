{
  "nbformat": 4,
  "nbformat_minor": 0,
  "metadata": {
    "colab": {
      "name": "Sea Breeze Logistic Regression.ipynb",
      "provenance": [],
      "include_colab_link": true
    },
    "kernelspec": {
      "name": "python3",
      "display_name": "Python 3"
    },
    "language_info": {
      "name": "python"
    }
  },
  "cells": [
    {
      "cell_type": "markdown",
      "metadata": {
        "id": "view-in-github",
        "colab_type": "text"
      },
      "source": [
        "<a href=\"https://colab.research.google.com/github/Forrestjohnson2000/6162-Seabreeze/blob/main/Sea_Breeze_Logistic_Regression.ipynb\" target=\"_parent\"><img src=\"https://colab.research.google.com/assets/colab-badge.svg\" alt=\"Open In Colab\"/></a>"
      ]
    },
    {
      "cell_type": "markdown",
      "metadata": {
        "id": "PIg9bvcUuokh"
      },
      "source": [
        "# Sea Breeze Logistic Regression\n"
      ]
    },
    {
      "cell_type": "code",
      "metadata": {
        "id": "0wfWKlHMrAQO"
      },
      "source": [
        "import pandas as pd\n",
        "import matplotlib.pyplot as plt\n",
        "import sklearn\n",
        "from sklearn.model_selection import train_test_split, cross_val_score\n",
        "from sklearn.preprocessing import StandardScaler\n",
        "from sklearn.metrics import classification_report, confusion_matrix, accuracy_score, r2_score, mean_squared_error\n",
        "from sklearn.neighbors import KNeighborsClassifier\n",
        "from sklearn.tree import DecisionTreeClassifier\n",
        "from sklearn.ensemble import RandomForestClassifier\n",
        "from sklearn.linear_model import LogisticRegression"
      ],
      "execution_count": null,
      "outputs": []
    },
    {
      "cell_type": "code",
      "metadata": {
        "colab": {
          "base_uri": "https://localhost:8080/",
          "height": 424
        },
        "id": "vyEb0MHpDWOF",
        "outputId": "6c2f890f-b624-408a-8437-3ef3ac55233e"
      },
      "source": [
        "#Reading in our data and dropping unnecessary columns\n",
        "df = pd.read_csv(\"https://raw.githubusercontent.com/Forrestjohnson2000/6162-Seabreeze/main/Data/prepped_data.csv\")\n",
        "df = df.drop([\"Unnamed: 0\", 'date', 'hour'], axis=1)\n",
        "df"
      ],
      "execution_count": null,
      "outputs": [
        {
          "output_type": "execute_result",
          "data": {
            "text/html": [
              "<div>\n",
              "<style scoped>\n",
              "    .dataframe tbody tr th:only-of-type {\n",
              "        vertical-align: middle;\n",
              "    }\n",
              "\n",
              "    .dataframe tbody tr th {\n",
              "        vertical-align: top;\n",
              "    }\n",
              "\n",
              "    .dataframe thead th {\n",
              "        text-align: right;\n",
              "    }\n",
              "</style>\n",
              "<table border=\"1\" class=\"dataframe\">\n",
              "  <thead>\n",
              "    <tr style=\"text-align: right;\">\n",
              "      <th></th>\n",
              "      <th>drct</th>\n",
              "      <th>sped</th>\n",
              "      <th>WDIR</th>\n",
              "      <th>WSPD</th>\n",
              "      <th>PRES</th>\n",
              "      <th>WTMP</th>\n",
              "      <th>SBI</th>\n",
              "      <th>AttackCat</th>\n",
              "    </tr>\n",
              "  </thead>\n",
              "  <tbody>\n",
              "    <tr>\n",
              "      <th>0</th>\n",
              "      <td>67.500000</td>\n",
              "      <td>8.0500</td>\n",
              "      <td>250.0</td>\n",
              "      <td>4.0</td>\n",
              "      <td>1017.408303</td>\n",
              "      <td>21.836225</td>\n",
              "      <td>4.547025</td>\n",
              "      <td>0.0</td>\n",
              "    </tr>\n",
              "    <tr>\n",
              "      <th>1</th>\n",
              "      <td>22.500000</td>\n",
              "      <td>2.0125</td>\n",
              "      <td>80.0</td>\n",
              "      <td>5.0</td>\n",
              "      <td>1017.408303</td>\n",
              "      <td>21.836225</td>\n",
              "      <td>6.092861</td>\n",
              "      <td>0.0</td>\n",
              "    </tr>\n",
              "    <tr>\n",
              "      <th>2</th>\n",
              "      <td>25.000000</td>\n",
              "      <td>8.3375</td>\n",
              "      <td>50.0</td>\n",
              "      <td>6.0</td>\n",
              "      <td>1017.408303</td>\n",
              "      <td>21.836225</td>\n",
              "      <td>7.273592</td>\n",
              "      <td>0.0</td>\n",
              "    </tr>\n",
              "    <tr>\n",
              "      <th>3</th>\n",
              "      <td>0.000000</td>\n",
              "      <td>0.0000</td>\n",
              "      <td>350.0</td>\n",
              "      <td>5.0</td>\n",
              "      <td>1017.408303</td>\n",
              "      <td>21.836225</td>\n",
              "      <td>5.821537</td>\n",
              "      <td>0.0</td>\n",
              "    </tr>\n",
              "    <tr>\n",
              "      <th>4</th>\n",
              "      <td>25.000000</td>\n",
              "      <td>9.4875</td>\n",
              "      <td>50.0</td>\n",
              "      <td>8.0</td>\n",
              "      <td>1017.408303</td>\n",
              "      <td>21.836225</td>\n",
              "      <td>6.718124</td>\n",
              "      <td>0.0</td>\n",
              "    </tr>\n",
              "    <tr>\n",
              "      <th>...</th>\n",
              "      <td>...</td>\n",
              "      <td>...</td>\n",
              "      <td>...</td>\n",
              "      <td>...</td>\n",
              "      <td>...</td>\n",
              "      <td>...</td>\n",
              "      <td>...</td>\n",
              "      <td>...</td>\n",
              "    </tr>\n",
              "    <tr>\n",
              "      <th>3166</th>\n",
              "      <td>32.500000</td>\n",
              "      <td>6.3250</td>\n",
              "      <td>38.0</td>\n",
              "      <td>6.6</td>\n",
              "      <td>1032.100000</td>\n",
              "      <td>13.900000</td>\n",
              "      <td>4.738069</td>\n",
              "      <td>0.0</td>\n",
              "    </tr>\n",
              "    <tr>\n",
              "      <th>3167</th>\n",
              "      <td>250.000000</td>\n",
              "      <td>11.7875</td>\n",
              "      <td>269.0</td>\n",
              "      <td>0.8</td>\n",
              "      <td>1025.500000</td>\n",
              "      <td>13.900000</td>\n",
              "      <td>3.090149</td>\n",
              "      <td>0.0</td>\n",
              "    </tr>\n",
              "    <tr>\n",
              "      <th>3168</th>\n",
              "      <td>48.792615</td>\n",
              "      <td>6.3250</td>\n",
              "      <td>270.0</td>\n",
              "      <td>1.8</td>\n",
              "      <td>1021.500000</td>\n",
              "      <td>14.400000</td>\n",
              "      <td>5.244294</td>\n",
              "      <td>0.0</td>\n",
              "    </tr>\n",
              "    <tr>\n",
              "      <th>3169</th>\n",
              "      <td>222.500000</td>\n",
              "      <td>12.3625</td>\n",
              "      <td>225.0</td>\n",
              "      <td>8.3</td>\n",
              "      <td>1012.900000</td>\n",
              "      <td>14.300000</td>\n",
              "      <td>3.314484</td>\n",
              "      <td>0.0</td>\n",
              "    </tr>\n",
              "    <tr>\n",
              "      <th>3170</th>\n",
              "      <td>282.500000</td>\n",
              "      <td>13.2250</td>\n",
              "      <td>306.0</td>\n",
              "      <td>7.9</td>\n",
              "      <td>1022.500000</td>\n",
              "      <td>14.000000</td>\n",
              "      <td>7.603387</td>\n",
              "      <td>0.0</td>\n",
              "    </tr>\n",
              "  </tbody>\n",
              "</table>\n",
              "<p>3171 rows × 8 columns</p>\n",
              "</div>"
            ],
            "text/plain": [
              "            drct     sped   WDIR  ...       WTMP       SBI  AttackCat\n",
              "0      67.500000   8.0500  250.0  ...  21.836225  4.547025        0.0\n",
              "1      22.500000   2.0125   80.0  ...  21.836225  6.092861        0.0\n",
              "2      25.000000   8.3375   50.0  ...  21.836225  7.273592        0.0\n",
              "3       0.000000   0.0000  350.0  ...  21.836225  5.821537        0.0\n",
              "4      25.000000   9.4875   50.0  ...  21.836225  6.718124        0.0\n",
              "...          ...      ...    ...  ...        ...       ...        ...\n",
              "3166   32.500000   6.3250   38.0  ...  13.900000  4.738069        0.0\n",
              "3167  250.000000  11.7875  269.0  ...  13.900000  3.090149        0.0\n",
              "3168   48.792615   6.3250  270.0  ...  14.400000  5.244294        0.0\n",
              "3169  222.500000  12.3625  225.0  ...  14.300000  3.314484        0.0\n",
              "3170  282.500000  13.2250  306.0  ...  14.000000  7.603387        0.0\n",
              "\n",
              "[3171 rows x 8 columns]"
            ]
          },
          "metadata": {},
          "execution_count": 2
        }
      ]
    },
    {
      "cell_type": "code",
      "metadata": {
        "id": "42TYObYGDlWl"
      },
      "source": [
        "#Separating out our dependent and independent variables\n",
        "y = df['AttackCat']\n",
        "X = df.drop([\"AttackCat\"], axis=1)\n"
      ],
      "execution_count": null,
      "outputs": []
    },
    {
      "cell_type": "code",
      "metadata": {
        "id": "zkLkkmhSEaEv"
      },
      "source": [
        "#Scaling numeric inputs\n",
        "from sklearn.preprocessing import StandardScaler\n",
        "ss = StandardScaler()\n",
        "X\n",
        "X = pd.DataFrame(ss.fit_transform(X), columns = X.columns)\n",
        "\n",
        "X_train, X_test, y_train, y_test = train_test_split(X, y, stratify=y, train_size=.8)\n"
      ],
      "execution_count": null,
      "outputs": []
    },
    {
      "cell_type": "code",
      "metadata": {
        "colab": {
          "base_uri": "https://localhost:8080/"
        },
        "id": "iu4UC_KCFX7f",
        "outputId": "de69de0e-eda1-4135-a563-568c2ec6658e"
      },
      "source": [
        "#Creating our Logistic Rgression model\n",
        "from sklearn.linear_model import LogisticRegression\n",
        "from sklearn.metrics import confusion_matrix\n",
        "from sklearn import metrics\n",
        "import seaborn as sns\n",
        "clf = LogisticRegression(random_state=42).fit(X_train,y_train)\n",
        "pred = clf.predict(X_test)\n",
        "score = clf.score(X_test, y_test)\n",
        "clf.coef_"
      ],
      "execution_count": null,
      "outputs": [
        {
          "output_type": "execute_result",
          "data": {
            "text/plain": [
              "array([[-0.1722511 ,  0.12925945,  0.32068639,  0.07523396,  0.20314167,\n",
              "         0.10691078, -1.13606021]])"
            ]
          },
          "metadata": {},
          "execution_count": 5
        }
      ]
    },
    {
      "cell_type": "code",
      "metadata": {
        "colab": {
          "base_uri": "https://localhost:8080/",
          "height": 526
        },
        "id": "JEwC3XrsKTGt",
        "outputId": "ad3c5181-9d77-423d-8d59-e2e9772d5315"
      },
      "source": [
        "#Initial Logistic Regression Model\n",
        "cm = metrics.confusion_matrix(y_test, pred)\n",
        "plt.figure(figsize=(9,9))\n",
        "sns.heatmap(cm, annot=True, fmt=\".3f\", linewidths=.5, square = True, cmap = 'Blues_r');\n",
        "plt.ylabel('Actual label');\n",
        "plt.xlabel('Predicted label');\n",
        "all_sample_title = 'Accuracy Score: {0}'.format(score)\n",
        "plt.title(all_sample_title, size = 15);"
      ],
      "execution_count": null,
      "outputs": [
        {
          "output_type": "display_data",
          "data": {
            "image/png": "[encoded data removed]",
            "text/plain": [
              "<Figure size 648x648 with 2 Axes>"
            ]
          },
          "metadata": {
            "needs_background": "light"
          }
        }
      ]
    },
    {
      "cell_type": "markdown",
      "metadata": {
        "id": "E796IHXPWYbF"
      },
      "source": [
        "We can see from the above that model is quite accurate at .97 but it is only accurate at predicting when there is no shark attack, it never correctly predicts a shark attack, therefore we need to look into undersampling our data"
      ]
    },
    {
      "cell_type": "markdown",
      "metadata": {
        "id": "GyXrKLxCyn_A"
      },
      "source": [
        "# Undersampling"
      ]
    },
    {
      "cell_type": "code",
      "metadata": {
        "id": "2c9bBkVxynOE"
      },
      "source": [
        "from collections import Counter\n",
        "from imblearn.under_sampling import RandomUnderSampler"
      ],
      "execution_count": null,
      "outputs": []
    },
    {
      "cell_type": "code",
      "metadata": {
        "id": "KeOxArADy0hq"
      },
      "source": [
        "#Undersampling strategy\n",
        "undersample = RandomUnderSampler(sampling_strategy='majority')"
      ],
      "execution_count": null,
      "outputs": []
    },
    {
      "cell_type": "code",
      "metadata": {
        "id": "9iMhnKY1y-I6"
      },
      "source": [
        "# fit and apply the transform\n",
        "X_train_under, y_train_under = undersample.fit_resample(X_train, y_train)"
      ],
      "execution_count": null,
      "outputs": []
    },
    {
      "cell_type": "code",
      "metadata": {
        "id": "GWCl8wxwzA98"
      },
      "source": [
        "#Train the model using the training sets\n",
        "clf_under = clf.fit(X_train_under, y_train_under)\n",
        "\n",
        "#Predict the response for test dataset\n",
        "y_pred_under = clf_under.predict(X_test)"
      ],
      "execution_count": null,
      "outputs": []
    },
    {
      "cell_type": "code",
      "metadata": {
        "id": "dLYcO81ezYQV"
      },
      "source": [
        "#Import scikit-learn metrics module for accuracy calculation\n",
        "from sklearn import metrics\n",
        "from sklearn.metrics import classification_report, roc_auc_score"
      ],
      "execution_count": null,
      "outputs": []
    },
    {
      "cell_type": "code",
      "metadata": {
        "colab": {
          "base_uri": "https://localhost:8080/"
        },
        "id": "R_U1I-f0zitp",
        "outputId": "605eca67-4f3e-49b5-b523-475c225a7eea"
      },
      "source": [
        "# Model Accuracy: how often is the classifier correct?\n",
        "print(\"Accuracy:\",metrics.accuracy_score(y_test, y_pred_under))\n",
        "print(\"ROC AUC score for undersampled data: \", roc_auc_score(y_test, y_pred_under))"
      ],
      "execution_count": null,
      "outputs": [
        {
          "output_type": "stream",
          "name": "stdout",
          "text": [
            "Accuracy: 0.7181102362204724\n",
            "ROC AUC score for undersampled data:  0.7781954887218046\n"
          ]
        }
      ]
    },
    {
      "cell_type": "code",
      "metadata": {
        "colab": {
          "base_uri": "https://localhost:8080/",
          "height": 720
        },
        "id": "5yZrRFdP0UoM",
        "outputId": "ee98df27-fe78-4d98-fe0c-277346ec929d"
      },
      "source": [
        "cm = metrics.confusion_matrix(y_test, y_pred_under)\n",
        "plt.figure(figsize=(9,9))\n",
        "sns.heatmap(cm, annot=True, fmt=\".3f\", linewidths=.5, square = True, cmap = 'Blues_r');\n",
        "plt.ylabel('Actual label');\n",
        "plt.xlabel('Predicted label');\n",
        "all_sample_title = 'Accuracy Score: {0}'.format(score_under)\n",
        "plt.title(all_sample_title, size = 15);"
      ],
      "execution_count": null,
      "outputs": [
        {
          "output_type": "error",
          "ename": "NameError",
          "evalue": "ignored",
          "traceback": [
            "\u001b[0;31m---------------------------------------------------------------------------\u001b[0m",
            "\u001b[0;31mNameError\u001b[0m                                 Traceback (most recent call last)",
            "\u001b[0;32m<ipython-input-13-7b35a1bbab99>\u001b[0m in \u001b[0;36m<module>\u001b[0;34m()\u001b[0m\n\u001b[1;32m      4\u001b[0m \u001b[0mplt\u001b[0m\u001b[0;34m.\u001b[0m\u001b[0mylabel\u001b[0m\u001b[0;34m(\u001b[0m\u001b[0;34m'Actual label'\u001b[0m\u001b[0;34m)\u001b[0m\u001b[0;34m;\u001b[0m\u001b[0;34m\u001b[0m\u001b[0;34m\u001b[0m\u001b[0m\n\u001b[1;32m      5\u001b[0m \u001b[0mplt\u001b[0m\u001b[0;34m.\u001b[0m\u001b[0mxlabel\u001b[0m\u001b[0;34m(\u001b[0m\u001b[0;34m'Predicted label'\u001b[0m\u001b[0;34m)\u001b[0m\u001b[0;34m;\u001b[0m\u001b[0;34m\u001b[0m\u001b[0;34m\u001b[0m\u001b[0m\n\u001b[0;32m----> 6\u001b[0;31m \u001b[0mall_sample_title\u001b[0m \u001b[0;34m=\u001b[0m \u001b[0;34m'Accuracy Score: {0}'\u001b[0m\u001b[0;34m.\u001b[0m\u001b[0mformat\u001b[0m\u001b[0;34m(\u001b[0m\u001b[0mscore_under\u001b[0m\u001b[0;34m)\u001b[0m\u001b[0;34m\u001b[0m\u001b[0;34m\u001b[0m\u001b[0m\n\u001b[0m\u001b[1;32m      7\u001b[0m \u001b[0mplt\u001b[0m\u001b[0;34m.\u001b[0m\u001b[0mtitle\u001b[0m\u001b[0;34m(\u001b[0m\u001b[0mall_sample_title\u001b[0m\u001b[0;34m,\u001b[0m \u001b[0msize\u001b[0m \u001b[0;34m=\u001b[0m \u001b[0;36m15\u001b[0m\u001b[0;34m)\u001b[0m\u001b[0;34m;\u001b[0m\u001b[0;34m\u001b[0m\u001b[0;34m\u001b[0m\u001b[0m\n",
            "\u001b[0;31mNameError\u001b[0m: name 'score_under' is not defined"
          ]
        },
        {
          "output_type": "display_data",
          "data": {
            "image/png": "[encoded data removed]",
            "text/plain": [
              "<Figure size 648x648 with 2 Axes>"
            ]
          },
          "metadata": {
            "needs_background": "light"
          }
        }
      ]
    },
    {
      "cell_type": "markdown",
      "metadata": {
        "id": "Env2FFAlXxOS"
      },
      "source": [
        "This method, while less accurate at .7511, is much better at predicting when shark attacks occur, predicting 12 of the 19 total or roughly 63% in that regard."
      ]
    },
    {
      "cell_type": "markdown",
      "metadata": {
        "id": "R3tTR9bw06mI"
      },
      "source": [
        "Oversampling with SMOTE"
      ]
    },
    {
      "cell_type": "code",
      "metadata": {
        "id": "W1D5M-M3084Y"
      },
      "source": [
        "from imblearn.over_sampling import SMOTE"
      ],
      "execution_count": null,
      "outputs": []
    },
    {
      "cell_type": "code",
      "metadata": {
        "id": "v1Ugr4IF0_bQ"
      },
      "source": [
        "# define oversampling strategy\n",
        "SMOTE_model = SMOTE()"
      ],
      "execution_count": null,
      "outputs": []
    },
    {
      "cell_type": "code",
      "metadata": {
        "id": "5k2OGH3w1DNT"
      },
      "source": [
        "# fit and apply the transform\n",
        "X_train_SMOTE, y_train_SMOTE = SMOTE_model.fit_resample(X_train, y_train)"
      ],
      "execution_count": null,
      "outputs": []
    },
    {
      "cell_type": "code",
      "metadata": {
        "id": "MEqioEi11HDq"
      },
      "source": [
        "clf_SMOTE = clf.fit(X_train_SMOTE, y_train_SMOTE)\n",
        "y_pred_SMOTE = clf_SMOTE.predict(X_test)"
      ],
      "execution_count": null,
      "outputs": []
    },
    {
      "cell_type": "code",
      "metadata": {
        "colab": {
          "base_uri": "https://localhost:8080/"
        },
        "id": "w2VDkIK71QY3",
        "outputId": "8bb3d1bd-e7d6-45b4-f36f-f911ad970eec"
      },
      "source": [
        "# Model Accuracy: how often is the classifier correct?\n",
        "print(\"Accuracy:\",metrics.accuracy_score(y_test, y_pred_SMOTE))\n",
        "print(\"ROC AUC score for oversampled data: \", roc_auc_score(y_test, y_pred_SMOTE))"
      ],
      "execution_count": null,
      "outputs": [
        {
          "output_type": "stream",
          "name": "stdout",
          "text": [
            "Accuracy: 0.694488188976378\n",
            "ROC AUC score for oversampled data:  0.715011961722488\n"
          ]
        }
      ]
    },
    {
      "cell_type": "code",
      "metadata": {
        "id": "b6_LzqB91kM-"
      },
      "source": [
        "score_over = clf_SMOTE.score(X_test, y_test)\n"
      ],
      "execution_count": null,
      "outputs": []
    },
    {
      "cell_type": "code",
      "metadata": {
        "colab": {
          "base_uri": "https://localhost:8080/",
          "height": 520
        },
        "id": "dtUTkwLv1h4J",
        "outputId": "1ed8cdf0-1d7a-4005-d036-fe22ae4a6125"
      },
      "source": [
        "cm = metrics.confusion_matrix(y_test, y_pred_SMOTE)\n",
        "plt.figure(figsize=(9,9))\n",
        "sns.heatmap(cm, annot=True, fmt=\".3f\", linewidths=.5, square = True, cmap = 'Blues_r');\n",
        "plt.ylabel('Actual label');\n",
        "plt.xlabel('Predicted label');\n",
        "all_sample_title = 'Accuracy Score: {0}'.format(score_over)\n",
        "plt.title(all_sample_title, size = 15);"
      ],
      "execution_count": null,
      "outputs": [
        {
          "output_type": "display_data",
          "data": {
            "image/png": "[encoded data removed]",
            "text/plain": [
              "<Figure size 648x648 with 2 Axes>"
            ]
          },
          "metadata": {
            "needs_background": "light"
          }
        }
      ]
    },
    {
      "cell_type": "markdown",
      "metadata": {
        "id": "jrGpCNtTYLAq"
      },
      "source": [
        "This method using oversampling was slightly worse than undersampling with a lower overall accuracy of .7212 and correctly predicting the same amount of shark attacks."
      ]
    },
    {
      "cell_type": "markdown",
      "metadata": {
        "id": "49IZiOKM1rA9"
      },
      "source": [
        "# Combination of Under and Oversampling using Pipeline"
      ]
    },
    {
      "cell_type": "code",
      "metadata": {
        "id": "ugB4cRKn1zx1"
      },
      "source": [
        "from imblearn.pipeline import Pipeline"
      ],
      "execution_count": 37,
      "outputs": []
    },
    {
      "cell_type": "code",
      "metadata": {
        "id": "fXcSUkx1141Z"
      },
      "source": [
        "model = clf\n",
        "over = SMOTE(sampling_strategy=0.5)\n",
        "under = RandomUnderSampler(sampling_strategy=0.6)\n",
        "steps = [('o', over), ('u', under), ('model', model)]\n",
        "pipeline = Pipeline(steps=steps)"
      ],
      "execution_count": 38,
      "outputs": []
    },
    {
      "cell_type": "code",
      "metadata": {
        "id": "9XKJElw12DNJ"
      },
      "source": [
        "pipeline.fit(X_train, y_train)\n",
        "y_pred_pipeline = pipeline.predict(X_test)"
      ],
      "execution_count": 39,
      "outputs": []
    },
    {
      "cell_type": "code",
      "metadata": {
        "id": "6XawS5KK2F8G"
      },
      "source": [
        "from numpy import mean"
      ],
      "execution_count": 40,
      "outputs": []
    },
    {
      "cell_type": "code",
      "metadata": {
        "colab": {
          "base_uri": "https://localhost:8080/"
        },
        "id": "MajB2NgU2H3l",
        "outputId": "27c9e065-9bf1-4ede-90e3-40381ef73a06"
      },
      "source": [
        "# evaluate pipeline\n",
        "accuracy_scores = cross_val_score(pipeline, X, y, scoring='accuracy', cv=5, n_jobs=-1)\n",
        "accuracy_score = mean(accuracy_scores)\n",
        "roc_scores = cross_val_score(pipeline, X, y, scoring='roc_auc', cv=5, n_jobs=-1)\n",
        "roc_score = mean(roc_scores)\n",
        "print('Accuracy score for the combined method: %.3f' % accuracy_score)\n",
        "print('ROC AUC score for the combined sampling method: %.3f' % roc_score)"
      ],
      "execution_count": 41,
      "outputs": [
        {
          "output_type": "stream",
          "name": "stdout",
          "text": [
            "Accuracy score for the combined method: 0.810\n",
            "ROC AUC score for the combined sampling method: 0.786\n"
          ]
        }
      ]
    },
    {
      "cell_type": "code",
      "metadata": {
        "colab": {
          "base_uri": "https://localhost:8080/",
          "height": 520
        },
        "id": "d6Tf9ITQ2Nz0",
        "outputId": "0ac43b26-c3bd-4546-8b52-712c447ec4ae"
      },
      "source": [
        "cm = metrics.confusion_matrix(y_test, y_pred_pipeline)\n",
        "plt.figure(figsize=(9,9))\n",
        "sns.heatmap(cm, annot=True, fmt=\".3f\", linewidths=.5, square = True, cmap = 'Blues_r');\n",
        "plt.ylabel('Actual label');\n",
        "plt.xlabel('Predicted label');\n",
        "all_sample_title = 'roc_score: {0}'.format(roc_score)\n",
        "plt.title(all_sample_title, size = 15);"
      ],
      "execution_count": 42,
      "outputs": [
        {
          "output_type": "display_data",
          "data": {
            "image/png": "[encoded data removed]",
            "text/plain": [
              "<Figure size 648x648 with 2 Axes>"
            ]
          },
          "metadata": {
            "needs_background": "light"
          }
        }
      ]
    },
    {
      "cell_type": "markdown",
      "metadata": {
        "id": "ivfFlXgHYoTm"
      },
      "source": [
        "This model had our highest accuracy of the ones attempting to augment the number of samples to create a more balanced dataset. This model produced a .78 accuracy and correctly predicting 13 of the 19 total shark attacks for about 68% accuracy in that regard."
      ]
    },
    {
      "cell_type": "markdown",
      "metadata": {
        "id": "SmFO_kLV2TxU"
      },
      "source": [
        "# Coeffficients"
      ]
    },
    {
      "cell_type": "code",
      "metadata": {
        "colab": {
          "base_uri": "https://localhost:8080/"
        },
        "id": "1zJaGP8x2Xz3",
        "outputId": "6f2c5149-5e85-4693-f670-46914dc06f39"
      },
      "source": [
        "print(pipeline)"
      ],
      "execution_count": 45,
      "outputs": [
        {
          "output_type": "stream",
          "name": "stdout",
          "text": [
            "Pipeline(steps=[('o', SMOTE(sampling_strategy=0.5)),\n",
            "                ('u', RandomUnderSampler(sampling_strategy=0.6)),\n",
            "                ('model', LogisticRegression(random_state=42))])\n"
          ]
        }
      ]
    },
    {
      "cell_type": "code",
      "metadata": {
        "id": "JFIdhR-f2mSR"
      },
      "source": [
        "coefs = pipeline.named_steps[\"model\"].coef_.flatten()"
      ],
      "execution_count": 46,
      "outputs": []
    },
    {
      "cell_type": "code",
      "metadata": {
        "id": "BbTwAHgk2rWl"
      },
      "source": [
        "# Zip coefficients and names together and make a DataFrame\n",
        "feature_names = ['drct', 'sped', 'WDIR', 'WSPD', 'PRES', 'WTMP','SBI']\n",
        "zipped = zip(feature_names, coefs)\n",
        "df_coef = pd.DataFrame(zipped, columns=[\"feature\", \"value\"])\n",
        "# Sort the features by the absolute value of their coefficient\n",
        "df_coef[\"abs_value\"] = df_coef[\"value\"].apply(lambda x: abs(x))\n",
        "df_coef[\"colors\"] = df_coef[\"value\"].apply(lambda x: \"green\" if x > 0 else \"red\")\n",
        "df_coef = df_coef.sort_values(\"abs_value\", ascending=False)"
      ],
      "execution_count": 47,
      "outputs": []
    },
    {
      "cell_type": "code",
      "metadata": {
        "colab": {
          "base_uri": "https://localhost:8080/",
          "height": 546
        },
        "id": "bOR83LgB2tnP",
        "outputId": "35872a06-d9a2-42d4-8113-b21d5e7b1f1e"
      },
      "source": [
        "fig, ax = plt.subplots(1, 1, figsize=(12, 7))\n",
        "sns.barplot(x=\"feature\",\n",
        "            y=\"value\",\n",
        "            data=df_coef.head(20),\n",
        "           palette=df_coef.head(20)[\"colors\"])\n",
        "ax.set_xticklabels(ax.get_xticklabels(), rotation=90, fontsize=20)\n",
        "ax.set_title(\"Top 7 Features\", fontsize=25)\n",
        "ax.set_ylabel(\"Coef\", fontsize=22)\n",
        "ax.set_xlabel(\"Feature Name\", fontsize=22)"
      ],
      "execution_count": 48,
      "outputs": [
        {
          "output_type": "execute_result",
          "data": {
            "text/plain": [
              "Text(0.5, 0, 'Feature Name')"
            ]
          },
          "metadata": {},
          "execution_count": 48
        },
        {
          "output_type": "display_data",
          "data": {
            "image/png": "[encoded data removed]",
            "text/plain": [
              "<Figure size 864x504 with 1 Axes>"
            ]
          },
          "metadata": {
            "needs_background": "light"
          }
        }
      ]
    },
    {
      "cell_type": "markdown",
      "metadata": {
        "id": "ULqhVeXpZdP6"
      },
      "source": [
        "This graph shows that SBI is the top feature in predicting a shark attack, with a highly negative coefficient which would make sense as lower SBI leads to a higher chance of sea breeze. This seems to prove that our Sea Breeze Indicator that we created is indeed a strong predictor of shark attacks as we hypothesized."
      ]
    },
    {
      "cell_type": "markdown",
      "metadata": {
        "id": "ES_Cz7643Cxw"
      },
      "source": [
        "# Permutation Importance"
      ]
    },
    {
      "cell_type": "code",
      "metadata": {
        "id": "skN87khd3GBn"
      },
      "source": [
        "import numpy as np\n",
        "from sklearn.inspection import permutation_importance\n",
        "features = np.array(feature_names)\n",
        "perm_importance = permutation_importance(pipeline.named_steps[\"model\"], X_test, y_test)"
      ],
      "execution_count": 43,
      "outputs": []
    },
    {
      "cell_type": "code",
      "metadata": {
        "colab": {
          "base_uri": "https://localhost:8080/",
          "height": 296
        },
        "id": "rKqMjI6i3Hl2",
        "outputId": "01b8b5c4-9c7d-4efb-c2bf-205358271969"
      },
      "source": [
        "sorted_idx = perm_importance.importances_mean.argsort()\n",
        "plt.barh(features[sorted_idx], perm_importance.importances_mean[sorted_idx])\n",
        "plt.xlabel(\"Permutation Importance\")"
      ],
      "execution_count": 44,
      "outputs": [
        {
          "output_type": "execute_result",
          "data": {
            "text/plain": [
              "Text(0.5, 0, 'Permutation Importance')"
            ]
          },
          "metadata": {},
          "execution_count": 44
        },
        {
          "output_type": "display_data",
          "data": {
            "image/png": "[encoded data removed]",
            "text/plain": [
              "<Figure size 432x288 with 1 Axes>"
            ]
          },
          "metadata": {
            "needs_background": "light"
          }
        }
      ]
    },
    {
      "cell_type": "markdown",
      "metadata": {
        "id": "kQQdLTviagZI"
      },
      "source": [
        "The permutation importance indicates the decrease in a model score when a feature value is randomly shuffled, here we see that for both pressure and SBI this is quite high which would again lead us to believe that our Sea Breeze Indicator is an important predictor of shark attacks. "
      ]
    }
  ]
}